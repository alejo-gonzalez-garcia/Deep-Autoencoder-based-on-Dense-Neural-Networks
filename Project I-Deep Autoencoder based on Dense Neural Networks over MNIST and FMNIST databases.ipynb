{
  "cells": [
    {
      "cell_type": "markdown",
      "metadata": {
        "id": "nl9pkl9szvF5"
      },
      "source": [
        "## Project I: Deep Autoencoder based on Dense Neural Networks over MNIST and FMNIST databases\n",
        "### Authors: Daniel Toribio, Alejo González, Andrés Navarro"
      ]
    },
    {
      "cell_type": "markdown",
      "metadata": {
        "id": "cB0l6trB3cjg"
      },
      "source": [
        "#### 1.- MNIST and FMINST datasets"
      ]
    },
    {
      "cell_type": "code",
      "execution_count": 1,
      "metadata": {
        "id": "60-EeB_t3aBI"
      },
      "outputs": [],
      "source": [
        "%matplotlib inline\n",
        "%config InlineBackend.figure_format = 'retina'  #To get figures with high quality!\n",
        "\n",
        "import numpy as np\n",
        "import torch\n",
        "from torch import nn\n",
        "from torch import optim\n",
        "import matplotlib.pyplot as plt"
      ]
    },
    {
      "cell_type": "code",
      "execution_count": null,
      "metadata": {},
      "outputs": [],
      "source": [
        "#!pip install wandb\n",
        "import wandb # Weight & Biases library to monitor training and compare models\n",
        "wandb.login() # API key: "
      ]
    },
    {
      "cell_type": "markdown",
      "metadata": {},
      "source": [
        "Select Data Set and Projected Dimensions: "
      ]
    },
    {
      "cell_type": "code",
      "execution_count": 3,
      "metadata": {},
      "outputs": [],
      "source": [
        "INDEX = 0 # INDEX = 0 for MNIST and 1 for FMNIST!\n",
        "projected_dimensions = [15, 30, 50, 100] # This are the dimensions we are going to project the data into\n"
      ]
    },
    {
      "cell_type": "markdown",
      "metadata": {},
      "source": [
        "Functions Definition in order to Train, Save, Load and Evaluate the models"
      ]
    },
    {
      "cell_type": "code",
      "execution_count": 4,
      "metadata": {},
      "outputs": [],
      "source": [
        "def train_models(projected_dimensions, autoencoder, epochs, train_set, valid_set, INDEX):\n",
        "    models_autoencoder = []\n",
        "    for i in range(len(projected_dimensions)):\n",
        "        model = autoencoder(projected_dimensions[i], INDEX)  # To initialize the model with the projected dimension\n",
        "        model.do_training(epochs, train_set[INDEX], valid_set[INDEX])\n",
        "        models_autoencoder.append(model)\n",
        "    return models_autoencoder\n",
        "            \n",
        "def save_models(projected_dimensions, models_autoencoder3, models_autoencoder5, INDEX):\n",
        "    if INDEX == 0:  # MNIST\n",
        "        for i in range(len(models_autoencoder3)):\n",
        "            torch.save(models_autoencoder3[i].state_dict(), f'model_autoencoder3_MNIST_{projected_dimensions[i]}.pth')\n",
        "            torch.save(models_autoencoder5[i].state_dict(), f'model_autoencoder5_MNIST_{projected_dimensions[i]}.pth')\n",
        "    elif INDEX == 1:  # FMNIST\n",
        "        for i in range(len(models_autoencoder3)):\n",
        "            torch.save(models_autoencoder3[i].state_dict(), f'model_autoencoder3_FMNIST_{projected_dimensions[i]}.pth')\n",
        "            torch.save(models_autoencoder5[i].state_dict(), f'model_autoencoder5_FMNIST_{projected_dimensions[i]}.pth')\n",
        "    else:\n",
        "        raise ValueError(\"While saving the models, INDEX should be either 0 or 1.\")\n",
        "\n",
        "def load_models(projected_dimensions, autoencoder3, autoencoder5, models_autoencoder3, models_autoencoder5, INDEX):\n",
        "    if INDEX == 0:  # MNIST\n",
        "        dataset0 = \"MNIST\"\n",
        "    else:\n",
        "        dataset0 = \"FMNIST\"\n",
        "\n",
        "    for i in range(len(projected_dimensions)):\n",
        "        state_dict_3 = torch.load(f'model_autoencoder3_{dataset0}_{projected_dimensions[i]}.pth')\n",
        "        model_3 = autoencoder3(projected_dimensions[i], INDEX)  # Assuming autoencoder3 is defined elsewhere\n",
        "        model_3.load_state_dict(state_dict_3)\n",
        "        models_autoencoder3.append(model_3)\n",
        "\n",
        "        state_dict_5 = torch.load(f'model_autoencoder5_{dataset0}_{projected_dimensions[i]}.pth')\n",
        "        model_5 = autoencoder5(projected_dimensions[i], INDEX)  # Assuming autoencoder5 is defined elsewhere\n",
        "        model_5.load_state_dict(state_dict_5)\n",
        "        models_autoencoder5.append(model_5)\n",
        "\n",
        "def evaluate_models(models, train, valid, test):\n",
        "    for n_layers in range(len(models)):\n",
        "        for i, model in enumerate(models[n_layers]):\n",
        "            n_lay = 3 if n_layers == 0 else 5\n",
        "            print(f\"Autoenc{n_lay}, train-{projected_dimensions[i]}. Projections:\", model.eval_performance(train))\n",
        "            print(f\"Autoenc{n_lay}, val-{projected_dimensions[i]}. Projections:\", model.eval_performance(valid))\n",
        "            print(f\"Autoenc{n_lay}, test-{projected_dimensions[i]}. Projections:\", model.eval_performance(test), \"\\n\")"
      ]
    },
    {
      "cell_type": "markdown",
      "metadata": {
        "id": "7N9jUVLu33o2"
      },
      "source": [
        "To obtain the MNIST dataset:"
      ]
    },
    {
      "cell_type": "code",
      "execution_count": 5,
      "metadata": {
        "id": "UQntwL9Qz41o"
      },
      "outputs": [],
      "source": [
        "### Run this cell\n",
        "\n",
        "from torchvision import datasets, transforms\n",
        "\n",
        "# Define a transform to normalize the data\n",
        "transform = transforms.Compose([transforms.ToTensor(),\n",
        "                              transforms.Normalize((0.5,), (0.5,)),\n",
        "                              ])\n",
        "\n",
        "# Download and load the training  data\n",
        "trainsetMNIST = datasets.MNIST('~/.pytorch/MNIST_data/', download=True, train=True, transform=transform)\n",
        "train_MNIST = torch.utils.data.DataLoader(trainsetMNIST, batch_size=64, shuffle=True)\n",
        "\n",
        "# Download and load the test data\n",
        "testsetMNIST = datasets.MNIST('~/.pytorch/MNIST_data/', download=True, train=False, transform=transform)\n",
        "test_MNIST = torch.utils.data.DataLoader(testsetMNIST, batch_size=64, shuffle=True)"
      ]
    },
    {
      "cell_type": "markdown",
      "metadata": {
        "id": "-veIn4g74DcK"
      },
      "source": [
        "To obtain the FMINST dataset:"
      ]
    },
    {
      "cell_type": "code",
      "execution_count": 6,
      "metadata": {
        "id": "HAKDZ32K4uGl"
      },
      "outputs": [],
      "source": [
        "\n",
        "# Download and load the training data\n",
        "trainsetFMNIST = datasets.FashionMNIST('~/.pytorch/F_MNIST_data/', download=True, train=True, transform=transform)\n",
        "train_FMNIST = torch.utils.data.DataLoader(trainsetFMNIST, batch_size=64, shuffle=True)\n",
        "\n",
        "# Download and load the test data\n",
        "testsetFMNIST = datasets.FashionMNIST('~/.pytorch/F_MNIST_data/', download=True, train=False, transform=transform)\n",
        "test_FMNIST = torch.utils.data.DataLoader(testsetFMNIST, batch_size=64, shuffle=True)"
      ]
    },
    {
      "cell_type": "code",
      "execution_count": 7,
      "metadata": {
        "colab": {
          "base_uri": "https://localhost:8080/"
        },
        "id": "SkG8UcIcyenX",
        "outputId": "c94aa188-c07a-4e32-bd8a-553c5fa72d53"
      },
      "outputs": [
        {
          "name": "stdout",
          "output_type": "stream",
          "text": [
            "<class 'torch.Tensor'>\n",
            "torch.Size([64, 1, 28, 28])\n",
            "torch.Size([64])\n",
            "tensor(-1.) tensor(1.)\n"
          ]
        }
      ],
      "source": [
        "dataiter = iter(train_MNIST)   #To iterate through the dataset\n",
        "\n",
        "images, labels = next(dataiter)\n",
        "print(type(images))\n",
        "print(images.shape)\n",
        "print(labels.shape)\n",
        "print(torch.min(images), torch.max(images))"
      ]
    },
    {
      "cell_type": "code",
      "execution_count": 8,
      "metadata": {
        "colab": {
          "base_uri": "https://localhost:8080/"
        },
        "id": "8A_ixSC0yenX",
        "outputId": "9b4b99cf-f6c5-493d-923a-40a158b2d36b"
      },
      "outputs": [
        {
          "name": "stdout",
          "output_type": "stream",
          "text": [
            "<class 'torch.Tensor'>\n",
            "torch.Size([64, 1, 28, 28])\n",
            "torch.Size([64])\n",
            "tensor(-1.) tensor(1.)\n"
          ]
        }
      ],
      "source": [
        "dataiter = iter(train_FMNIST)   #To iterate through the dataset\n",
        "\n",
        "images, labels = next(dataiter)\n",
        "print(type(images))\n",
        "print(images.shape)\n",
        "print(labels.shape)\n",
        "print(torch.min(images), torch.max(images))"
      ]
    },
    {
      "cell_type": "markdown",
      "metadata": {
        "id": "MLJw4fAPyenY"
      },
      "source": [
        "We can see that our images are of size 28 x 28 = 784, so the input layer is of size 784. It is important to see that the range of the values are -1,1 so for the output layer we will use the tanh.\n",
        "\n",
        "We also need to split the training data into training and validation sets."
      ]
    },
    {
      "cell_type": "markdown",
      "metadata": {},
      "source": [
        "Load MNIST Data Set"
      ]
    },
    {
      "cell_type": "code",
      "execution_count": 9,
      "metadata": {
        "id": "3G3fUJkZcJuS"
      },
      "outputs": [],
      "source": [
        "import copy\n",
        "\n",
        "valid_MNIST = copy.deepcopy(train_MNIST)  # Creates a copy of the object\n",
        "\n",
        "#We take the first 45k images for training\n",
        "train_MNIST.dataset.data = train_MNIST.dataset.data[:45000,:,:]\n",
        "\n",
        "#And the rest for validation\n",
        "valid_MNIST.dataset.data = valid_MNIST.dataset.data[45000:,:,:]\n"
      ]
    },
    {
      "cell_type": "markdown",
      "metadata": {},
      "source": [
        "Load FMNIST Data Set"
      ]
    },
    {
      "cell_type": "code",
      "execution_count": 10,
      "metadata": {
        "id": "Lsq22g3rhUNB"
      },
      "outputs": [],
      "source": [
        "import copy\n",
        "\n",
        "valid_FMNIST = copy.deepcopy(train_FMNIST)  # Creates a copy of the object\n",
        "\n",
        "#We take the first 45k images for training\n",
        "train_FMNIST.dataset.data = train_FMNIST.dataset.data[:45000,:,:]\n",
        "\n",
        "#And the rest for validation\n",
        "valid_FMNIST.dataset.data = valid_FMNIST.dataset.data[45000:,:,:]"
      ]
    },
    {
      "cell_type": "markdown",
      "metadata": {
        "id": "sOC5VQ_UhUNB"
      },
      "source": [
        "Select Data Set To Be Trained:"
      ]
    },
    {
      "cell_type": "code",
      "execution_count": 11,
      "metadata": {
        "id": "c4jKEwtbhUNC"
      },
      "outputs": [],
      "source": [
        "train_set = [train_MNIST, train_FMNIST]\n",
        "valid_set = [valid_MNIST, valid_FMNIST]\n",
        "test_set =  [test_MNIST, test_FMNIST]"
      ]
    },
    {
      "cell_type": "code",
      "execution_count": 12,
      "metadata": {},
      "outputs": [
        {
          "data": {
            "text/plain": [
              "<matplotlib.image.AxesImage at 0x7f2608e56a50>"
            ]
          },
          "execution_count": 12,
          "metadata": {},
          "output_type": "execute_result"
        },
        {
          "data": {
            "image/png": "[encoded data removed]",
            "text/plain": [
              "<Figure size 1000x500 with 2 Axes>"
            ]
          },
          "metadata": {
            "image/png": {
              "height": 395,
              "width": 822
            }
          },
          "output_type": "display_data"
        }
      ],
      "source": [
        "def add_noise(img, variance):\n",
        "    noise = np.random.normal(loc=0, scale=np.sqrt(variance), size=img.shape)\n",
        "    noisy_img = img + noise\n",
        "    return noisy_img\n",
        "\n",
        "img = train_set[INDEX].dataset.data[1,:,:]\n",
        "plt.figure(figsize=(10, 5))\n",
        "\n",
        "plt.subplot(1, 2, 1)\n",
        "plt.imshow(img.numpy().reshape([28,28]), cmap='Greys_r')\n",
        "\n",
        "plt.subplot(1, 2, 2)\n",
        "plt.imshow(add_noise(img,100).numpy().reshape([28,28]), cmap='Greys_r')\n"
      ]
    },
    {
      "cell_type": "markdown",
      "metadata": {
        "id": "QvJ5xmovyenY"
      },
      "source": [
        "## 3 layers at both encoder/decoder:\n"
      ]
    },
    {
      "cell_type": "code",
      "execution_count": 13,
      "metadata": {
        "id": "jB8JSqIAyenY"
      },
      "outputs": [],
      "source": [
        "\n",
        "class autoencoder3(nn.Module):\n",
        "    def __init__(self, projected_dimension, INDEX):\n",
        "        super().__init__()\n",
        "        self.projected_dimension = projected_dimension\n",
        "        self.criterion = nn.MSELoss()\n",
        "        self.learning_rate = 0.001\n",
        "        self.INDEX = INDEX\n",
        "\n",
        "\n",
        "        if self.INDEX == 0:  # MNIST\n",
        "            self.name_train = f\"3_layer_with_PSNR_train_MNIST_{self.projected_dimension}\"\n",
        "            self.name_test = f\"3_layer_with_PSNR_test_MNIST_{self.projected_dimension}\"\n",
        "            self.dataset = \"MNIST\"\n",
        "\n",
        "        elif self.INDEX == 1:  # FMNIST\n",
        "            self.name_train = f\"3_layer_with_PSNR_train_FMNIST_{self.projected_dimension}\"\n",
        "            self.name_test = f\"3_layer_with_PSNR_test_FMNIST_{self.projected_dimension}\"\n",
        "            self.dataset = \"FMNIST\"\n",
        "\n",
        "        else:\n",
        "            raise ValueError(\"Inside autoencoder3, INDEX should be either 0 or 1.\")\n",
        "\n",
        "        self.project = \"project_1\"\n",
        "        self.architecture = \"linear_autoencoder\"\n",
        "        self.input_image_size = 784\n",
        "        self.outputs = []\n",
        "        self.loss_during_training = []\n",
        "        self.valid_loss_during_training = []\n",
        "\n",
        "\n",
        "\n",
        "        # Building an linear encoder with Linear\n",
        "        # layer followed by Relu activation function\n",
        "        # 784 -> projected dimension\n",
        "        self.encoder = nn.Sequential(\n",
        "            nn.Linear(self.input_image_size, 300),\n",
        "            nn.ReLU(),\n",
        "            #nn.Dropout(p=0.2), # Dropout with a probability of 0.2\n",
        "            nn.Linear(300, 150),\n",
        "            nn.ReLU(),\n",
        "            #nn.Dropout(p=0.2),\n",
        "            nn.Linear(150, self.projected_dimension),\n",
        "            nn.ReLU(),\n",
        "        )\n",
        "\n",
        "        # Building an linear decoder with Linear\n",
        "        # layer followed by Relu activation function\n",
        "        # The Sigmoid activation function\n",
        "        # outputs the value between 0 and 1\n",
        "        # projected dimension -> 784\n",
        "        self.decoder = nn.Sequential(\n",
        "            nn.Linear(self.projected_dimension, 150),\n",
        "            nn.ReLU(),\n",
        "            #nn.Dropout(p=0.2),\n",
        "            nn.Linear(150, 300),\n",
        "            nn.ReLU(),\n",
        "            #nn.Dropout(p=0.2),\n",
        "            nn.Linear(300, self.input_image_size),\n",
        "            nn.Tanh(),\n",
        "        )\n",
        "        self.optimizer = optim.Adam(self.parameters(), self.learning_rate)\n",
        "\n",
        "    def forward(self, image):\n",
        "        encoded = self.encoder(image)\n",
        "        decoded = self.decoder(encoded)\n",
        "        return encoded, decoded\n",
        "\n",
        "    def psnr(self, img1, img2):  #  Peak signal-to-noise ratio (PSNR)\n",
        "        mse_criterio = nn.MSELoss()\n",
        "        mse = mse_criterio(img1, img2)\n",
        "        max_pixel = 1.0\n",
        "        psnr = 20 * torch.log10(max_pixel / torch.sqrt(mse))\n",
        "        return psnr\n",
        "\n",
        "    def do_training(self, epochs, train_data, valid_data):\n",
        "        self.train()\n",
        "\n",
        "\n",
        "\n",
        "\n",
        "        wandb.init(  # Esto es para que se guarde en la plataforma de wandb y nos evitamos tener que hacerlo manualmente\n",
        "            # Set the project where this run will be logged\n",
        "            project=self.project,\n",
        "            # We pass a run name (otherwise it’ll be randomly assigned, like sunshine-lollypop-10)\n",
        "            name=self.name_train,\n",
        "            # Track hyperparameters and run metadata\n",
        "            config={\n",
        "                \"learning_rate\": self.learning_rate,\n",
        "                \"architecture\": self.architecture,\n",
        "                \"dataset\": self.dataset,\n",
        "                \"epochs\": epochs,\n",
        "            },\n",
        "        )\n",
        "\n",
        "        # here training starts\n",
        "        for epoch in range(epochs):\n",
        "            running_loss = 0.\n",
        "            for img, _ in train_data:\n",
        "                self.optimizer.zero_grad()\n",
        "                img_noised = add_noise(img,4)\n",
        "                img = img.reshape(-1, self.input_image_size)\n",
        "                img_noised = img_noised.reshape(-1, self.input_image_size)\n",
        "                enco,reconstructed = self.forward(img_noised.float())\n",
        "\n",
        "                loss_train = self.criterion(reconstructed, img)\n",
        "\n",
        "                running_loss += loss_train.item()\n",
        "                loss_train.backward()\n",
        "                self.optimizer.step()\n",
        "\n",
        "            self.loss_during_training.append(running_loss/len(train_data))\n",
        "\n",
        "            with torch.no_grad():\n",
        "\n",
        "                # set model to evaluation mode\n",
        "                self.eval()\n",
        "\n",
        "                running_loss = 0.\n",
        "\n",
        "                for images,_ in valid_data:\n",
        "\n",
        "                    img_noised = add_noise(images,4)\n",
        "                    img_noised = img_noised.reshape(-1, self.input_image_size)\n",
        "                    images = images.reshape(-1, self.input_image_size)\n",
        "                    encod,reconstruct = self.forward(img_noised.float())\n",
        "\n",
        "                    loss_valid = self.criterion(reconstruct,images)\n",
        "\n",
        "                    running_loss += loss_valid.item()\n",
        "                self.valid_loss_during_training.append(running_loss/len(valid_data))\n",
        "\n",
        "            # set model back to train mode\n",
        "            self.train()\n",
        "\n",
        "            print(\"Epoch: \", epoch + 1, \"Loss train: \", self.loss_during_training[-1], \", Loss valid: \", self.valid_loss_during_training[-1])\n",
        "            wandb.log({\"projected dimension\": self.projected_dimension, \"Loss train\": self.loss_during_training[-1], \"Loss valid\": self.valid_loss_during_training[-1]})\n",
        "            self.outputs.append((self.projected_dimension, epoch, img, reconstructed))\n",
        "\n",
        "        wandb.finish()\n",
        "\n",
        "    def eval_performance(self,data_test):\n",
        "\n",
        "      performance = 0\n",
        "\n",
        "      # Turn off gradients for validation, saves memory and computations\n",
        "      with torch.no_grad():\n",
        "\n",
        "          # set model to evaluation mode\n",
        "          self.eval()\n",
        "\n",
        "          for images,_ in data_test:\n",
        "\n",
        "              img = images.view(-1, self.input_image_size)\n",
        "              _,reconstructed = self.forward(img)\n",
        "              performance = self.psnr(reconstructed, img)\n",
        "\n",
        "\n",
        "          return performance"
      ]
    },
    {
      "cell_type": "markdown",
      "metadata": {
        "id": "-XikycahyenZ"
      },
      "source": [
        "Definition of parameters of the model and Peak signal-to-noise ratio (PSNR)"
      ]
    },
    {
      "cell_type": "markdown",
      "metadata": {
        "id": "uanbXKp1yenZ"
      },
      "source": [
        "Training the model"
      ]
    },
    {
      "cell_type": "code",
      "execution_count": 14,
      "metadata": {},
      "outputs": [
        {
          "data": {
            "text/html": [
              "Tracking run with wandb version 0.16.4"
            ],
            "text/plain": [
              "<IPython.core.display.HTML object>"
            ]
          },
          "metadata": {},
          "output_type": "display_data"
        },
        {
          "data": {
            "text/html": [
              "Run data is saved locally in <code>/mnt/c/Users/alejo/OneDrive - Universidad Carlos III de Madrid/UC3M/Year 4/Segundo Cuatri/Neural Networks/projects/wandb/run-20240307_213603-74iasw0v</code>"
            ],
            "text/plain": [
              "<IPython.core.display.HTML object>"
            ]
          },
          "metadata": {},
          "output_type": "display_data"
        },
        {
          "data": {
            "text/html": [
              "Syncing run <strong><a href='https://wandb.ai/zurdito/project_1/runs/74iasw0v' target=\"_blank\">3_layer_with_PSNR_train_MNIST_15</a></strong> to <a href='https://wandb.ai/zurdito/project_1' target=\"_blank\">Weights & Biases</a> (<a href='https://wandb.me/run' target=\"_blank\">docs</a>)<br/>"
            ],
            "text/plain": [
              "<IPython.core.display.HTML object>"
            ]
          },
          "metadata": {},
          "output_type": "display_data"
        },
        {
          "data": {
            "text/html": [
              " View project at <a href='https://wandb.ai/zurdito/project_1' target=\"_blank\">https://wandb.ai/zurdito/project_1</a>"
            ],
            "text/plain": [
              "<IPython.core.display.HTML object>"
            ]
          },
          "metadata": {},
          "output_type": "display_data"
        },
        {
          "data": {
            "text/html": [
              " View run at <a href='https://wandb.ai/zurdito/project_1/runs/74iasw0v' target=\"_blank\">https://wandb.ai/zurdito/project_1/runs/74iasw0v</a>"
            ],
            "text/plain": [
              "<IPython.core.display.HTML object>"
            ]
          },
          "metadata": {},
          "output_type": "display_data"
        },
        {
          "name": "stdout",
          "output_type": "stream",
          "text": [
            "Epoch:  1 Loss train:  0.20001330004412343 , Loss valid:  0.16371931167359047\n",
            "Epoch:  2 Loss train:  0.15244184895841914 , Loss valid:  0.1449428531717747\n",
            "Epoch:  3 Loss train:  0.14018940350929784 , Loss valid:  0.13806260605441764\n",
            "Epoch:  4 Loss train:  0.1341771707150408 , Loss valid:  0.13331976488549657\n",
            "Epoch:  5 Loss train:  0.1298899388427592 , Loss valid:  0.1285543940802838\n",
            "Epoch:  6 Loss train:  0.12699497951490973 , Loss valid:  0.12675594655757255\n",
            "Epoch:  7 Loss train:  0.12486435239076275 , Loss valid:  0.1256902818350082\n",
            "Epoch:  8 Loss train:  0.12313440451610157 , Loss valid:  0.12427969914167486\n",
            "Epoch:  9 Loss train:  0.1216116338566115 , Loss valid:  0.12179922138122802\n",
            "Epoch:  10 Loss train:  0.12056935529901901 , Loss valid:  0.12156765996775729\n",
            "Epoch:  11 Loss train:  0.11953415036921135 , Loss valid:  0.12010420732041623\n",
            "Epoch:  12 Loss train:  0.11883149610366672 , Loss valid:  0.11985841032038344\n",
            "Epoch:  13 Loss train:  0.11809993570204824 , Loss valid:  0.11967677591328925\n",
            "Epoch:  14 Loss train:  0.11737718385517258 , Loss valid:  0.11909592310164838\n",
            "Epoch:  15 Loss train:  0.11692120249129155 , Loss valid:  0.118182864658376\n",
            "Epoch:  16 Loss train:  0.1164477055426687 , Loss valid:  0.11790949882979089\n",
            "Epoch:  17 Loss train:  0.11581919859798456 , Loss valid:  0.11779760344231383\n",
            "Epoch:  18 Loss train:  0.11564514144662429 , Loss valid:  0.11691421457427613\n",
            "Epoch:  19 Loss train:  0.11533696720884605 , Loss valid:  0.1165455752864797\n",
            "Epoch:  20 Loss train:  0.11503306398464536 , Loss valid:  0.11655196826508704\n",
            "Epoch:  21 Loss train:  0.11468484625220299 , Loss valid:  0.11627357909654049\n",
            "Epoch:  22 Loss train:  0.11453082011377608 , Loss valid:  0.11600476230712647\n",
            "Epoch:  23 Loss train:  0.11403235084038567 , Loss valid:  0.11650519475657889\n",
            "Epoch:  24 Loss train:  0.11400680507490919 , Loss valid:  0.11533556605907197\n",
            "Epoch:  25 Loss train:  0.11365021152464165 , Loss valid:  0.1158267098538419\n",
            "Epoch:  26 Loss train:  0.11352662959093736 , Loss valid:  0.11615000950529221\n",
            "Epoch:  27 Loss train:  0.11305701516737993 , Loss valid:  0.1145124520710174\n",
            "Epoch:  28 Loss train:  0.1133202245585959 , Loss valid:  0.11539540576173904\n",
            "Epoch:  29 Loss train:  0.11321111368438737 , Loss valid:  0.1148566446405776\n",
            "Epoch:  30 Loss train:  0.1129470913967287 , Loss valid:  0.11504795491061312\n"
          ]
        },
        {
          "data": {
            "application/vnd.jupyter.widget-view+json": {
              "model_id": "2f8f34d02ec843c19d6ac7b8ea71f3e3",
              "version_major": 2,
              "version_minor": 0
            },
            "text/plain": [
              "VBox(children=(Label(value='0.002 MB of 0.002 MB uploaded\\r'), FloatProgress(value=1.0, max=1.0)))"
            ]
          },
          "metadata": {},
          "output_type": "display_data"
        },
        {
          "data": {
            "text/html": [
              "<style>\n",
              "    table.wandb td:nth-child(1) { padding: 0 10px; text-align: left ; width: auto;} td:nth-child(2) {text-align: left ; width: 100%}\n",
              "    .wandb-row { display: flex; flex-direction: row; flex-wrap: wrap; justify-content: flex-start; width: 100% }\n",
              "    .wandb-col { display: flex; flex-direction: column; flex-basis: 100%; flex: 1; padding: 10px; }\n",
              "    </style>\n",
              "<div class=\"wandb-row\"><div class=\"wandb-col\"><h3>Run history:</h3><br/><table class=\"wandb\"><tr><td>Loss train</td><td>█▄▃▃▂▂▂▂▂▂▂▁▁▁▁▁▁▁▁▁▁▁▁▁▁▁▁▁▁▁</td></tr><tr><td>Loss valid</td><td>█▅▄▄▃▃▃▂▂▂▂▂▂▂▂▁▁▁▁▁▁▁▁▁▁▁▁▁▁▁</td></tr><tr><td>projected dimension</td><td>▁▁▁▁▁▁▁▁▁▁▁▁▁▁▁▁▁▁▁▁▁▁▁▁▁▁▁▁▁▁</td></tr></table><br/></div><div class=\"wandb-col\"><h3>Run summary:</h3><br/><table class=\"wandb\"><tr><td>Loss train</td><td>0.11295</td></tr><tr><td>Loss valid</td><td>0.11505</td></tr><tr><td>projected dimension</td><td>15</td></tr></table><br/></div></div>"
            ],
            "text/plain": [
              "<IPython.core.display.HTML object>"
            ]
          },
          "metadata": {},
          "output_type": "display_data"
        },
        {
          "data": {
            "text/html": [
              " View run <strong style=\"color:#cdcd00\">3_layer_with_PSNR_train_MNIST_15</strong> at: <a href='https://wandb.ai/zurdito/project_1/runs/74iasw0v' target=\"_blank\">https://wandb.ai/zurdito/project_1/runs/74iasw0v</a><br/>Synced 6 W&B file(s), 0 media file(s), 0 artifact file(s) and 0 other file(s)"
            ],
            "text/plain": [
              "<IPython.core.display.HTML object>"
            ]
          },
          "metadata": {},
          "output_type": "display_data"
        },
        {
          "data": {
            "text/html": [
              "Find logs at: <code>./wandb/run-20240307_213603-74iasw0v/logs</code>"
            ],
            "text/plain": [
              "<IPython.core.display.HTML object>"
            ]
          },
          "metadata": {},
          "output_type": "display_data"
        },
        {
          "data": {
            "application/vnd.jupyter.widget-view+json": {
              "model_id": "9eb5b29f920a44d48037b9aa22de7aa8",
              "version_major": 2,
              "version_minor": 0
            },
            "text/plain": [
              "VBox(children=(Label(value='Waiting for wandb.init()...\\r'), FloatProgress(value=0.011112338944445178, max=1.0…"
            ]
          },
          "metadata": {},
          "output_type": "display_data"
        },
        {
          "data": {
            "text/html": [
              "Tracking run with wandb version 0.16.4"
            ],
            "text/plain": [
              "<IPython.core.display.HTML object>"
            ]
          },
          "metadata": {},
          "output_type": "display_data"
        },
        {
          "data": {
            "text/html": [
              "Run data is saved locally in <code>/mnt/c/Users/alejo/OneDrive - Universidad Carlos III de Madrid/UC3M/Year 4/Segundo Cuatri/Neural Networks/projects/wandb/run-20240307_214334-lffjys9z</code>"
            ],
            "text/plain": [
              "<IPython.core.display.HTML object>"
            ]
          },
          "metadata": {},
          "output_type": "display_data"
        },
        {
          "data": {
            "text/html": [
              "Syncing run <strong><a href='https://wandb.ai/zurdito/project_1/runs/lffjys9z' target=\"_blank\">3_layer_with_PSNR_train_MNIST_30</a></strong> to <a href='https://wandb.ai/zurdito/project_1' target=\"_blank\">Weights & Biases</a> (<a href='https://wandb.me/run' target=\"_blank\">docs</a>)<br/>"
            ],
            "text/plain": [
              "<IPython.core.display.HTML object>"
            ]
          },
          "metadata": {},
          "output_type": "display_data"
        },
        {
          "data": {
            "text/html": [
              " View project at <a href='https://wandb.ai/zurdito/project_1' target=\"_blank\">https://wandb.ai/zurdito/project_1</a>"
            ],
            "text/plain": [
              "<IPython.core.display.HTML object>"
            ]
          },
          "metadata": {},
          "output_type": "display_data"
        },
        {
          "data": {
            "text/html": [
              " View run at <a href='https://wandb.ai/zurdito/project_1/runs/lffjys9z' target=\"_blank\">https://wandb.ai/zurdito/project_1/runs/lffjys9z</a>"
            ],
            "text/plain": [
              "<IPython.core.display.HTML object>"
            ]
          },
          "metadata": {},
          "output_type": "display_data"
        },
        {
          "name": "stdout",
          "output_type": "stream",
          "text": [
            "Epoch:  1 Loss train:  0.19223724750124596 , Loss valid:  0.14985626492094486\n",
            "Epoch:  2 Loss train:  0.1408235250908712 , Loss valid:  0.13715682930134712\n",
            "Epoch:  3 Loss train:  0.13128729715985668 , Loss valid:  0.1284426137804985\n",
            "Epoch:  4 Loss train:  0.1259601506171748 , Loss valid:  0.12497437992628585\n",
            "Epoch:  5 Loss train:  0.1220891281475567 , Loss valid:  0.12113151138133191\n",
            "Epoch:  6 Loss train:  0.11972357954999263 , Loss valid:  0.12091961950063705\n",
            "Epoch:  7 Loss train:  0.11766990352506665 , Loss valid:  0.1178475891339018\n",
            "Epoch:  8 Loss train:  0.11620102341244505 , Loss valid:  0.11699461027028712\n",
            "Epoch:  9 Loss train:  0.11510771812490103 , Loss valid:  0.11544460001144004\n",
            "Epoch:  10 Loss train:  0.1140230434459888 , Loss valid:  0.11568247992941674\n",
            "Epoch:  11 Loss train:  0.11344355552203277 , Loss valid:  0.11352283707324495\n",
            "Epoch:  12 Loss train:  0.11203820755789903 , Loss valid:  0.11471289253615319\n",
            "Epoch:  13 Loss train:  0.11210979604881934 , Loss valid:  0.11367068940654713\n",
            "Epoch:  14 Loss train:  0.11141344501679255 , Loss valid:  0.11261566443012115\n",
            "Epoch:  15 Loss train:  0.11087472042576833 , Loss valid:  0.11167875119346253\n",
            "Epoch:  16 Loss train:  0.11057892078745434 , Loss valid:  0.11221682499063776\n",
            "Epoch:  17 Loss train:  0.11009485144379803 , Loss valid:  0.1118452953214341\n",
            "Epoch:  18 Loss train:  0.10957575766158036 , Loss valid:  0.11118260438137866\n",
            "Epoch:  19 Loss train:  0.10948436822615225 , Loss valid:  0.11034304616933173\n",
            "Epoch:  20 Loss train:  0.10942825373389166 , Loss valid:  0.11010027733889031\n",
            "Epoch:  21 Loss train:  0.10859860393049364 , Loss valid:  0.1125284493286559\n",
            "Epoch:  22 Loss train:  0.10841771464964206 , Loss valid:  0.11044188512766615\n",
            "Epoch:  23 Loss train:  0.1081606709736992 , Loss valid:  0.11006630884206041\n",
            "Epoch:  24 Loss train:  0.10788073020309887 , Loss valid:  0.11007862595167565\n",
            "Epoch:  25 Loss train:  0.10780577271626415 , Loss valid:  0.10947239430660897\n",
            "Epoch:  26 Loss train:  0.10756525229027664 , Loss valid:  0.10899952012807765\n",
            "Epoch:  27 Loss train:  0.10748218825425614 , Loss valid:  0.10884398906788928\n",
            "Epoch:  28 Loss train:  0.10724397498944943 , Loss valid:  0.10914965303654367\n",
            "Epoch:  29 Loss train:  0.1071101743304594 , Loss valid:  0.10852888299429671\n",
            "Epoch:  30 Loss train:  0.10688631058755246 , Loss valid:  0.10843713844710208\n"
          ]
        },
        {
          "data": {
            "application/vnd.jupyter.widget-view+json": {
              "model_id": "052da26e26de4823addb530223bf255c",
              "version_major": 2,
              "version_minor": 0
            },
            "text/plain": [
              "VBox(children=(Label(value='0.002 MB of 0.002 MB uploaded\\r'), FloatProgress(value=1.0, max=1.0)))"
            ]
          },
          "metadata": {},
          "output_type": "display_data"
        },
        {
          "data": {
            "text/html": [
              "<style>\n",
              "    table.wandb td:nth-child(1) { padding: 0 10px; text-align: left ; width: auto;} td:nth-child(2) {text-align: left ; width: 100%}\n",
              "    .wandb-row { display: flex; flex-direction: row; flex-wrap: wrap; justify-content: flex-start; width: 100% }\n",
              "    .wandb-col { display: flex; flex-direction: column; flex-basis: 100%; flex: 1; padding: 10px; }\n",
              "    </style>\n",
              "<div class=\"wandb-row\"><div class=\"wandb-col\"><h3>Run history:</h3><br/><table class=\"wandb\"><tr><td>Loss train</td><td>█▄▃▃▂▂▂▂▂▂▂▁▁▁▁▁▁▁▁▁▁▁▁▁▁▁▁▁▁▁</td></tr><tr><td>Loss valid</td><td>█▆▄▄▃▃▃▂▂▂▂▂▂▂▂▂▂▁▁▁▂▁▁▁▁▁▁▁▁▁</td></tr><tr><td>projected dimension</td><td>▁▁▁▁▁▁▁▁▁▁▁▁▁▁▁▁▁▁▁▁▁▁▁▁▁▁▁▁▁▁</td></tr></table><br/></div><div class=\"wandb-col\"><h3>Run summary:</h3><br/><table class=\"wandb\"><tr><td>Loss train</td><td>0.10689</td></tr><tr><td>Loss valid</td><td>0.10844</td></tr><tr><td>projected dimension</td><td>30</td></tr></table><br/></div></div>"
            ],
            "text/plain": [
              "<IPython.core.display.HTML object>"
            ]
          },
          "metadata": {},
          "output_type": "display_data"
        },
        {
          "data": {
            "text/html": [
              " View run <strong style=\"color:#cdcd00\">3_layer_with_PSNR_train_MNIST_30</strong> at: <a href='https://wandb.ai/zurdito/project_1/runs/lffjys9z' target=\"_blank\">https://wandb.ai/zurdito/project_1/runs/lffjys9z</a><br/>Synced 6 W&B file(s), 0 media file(s), 0 artifact file(s) and 0 other file(s)"
            ],
            "text/plain": [
              "<IPython.core.display.HTML object>"
            ]
          },
          "metadata": {},
          "output_type": "display_data"
        },
        {
          "data": {
            "text/html": [
              "Find logs at: <code>./wandb/run-20240307_214334-lffjys9z/logs</code>"
            ],
            "text/plain": [
              "<IPython.core.display.HTML object>"
            ]
          },
          "metadata": {},
          "output_type": "display_data"
        },
        {
          "data": {
            "application/vnd.jupyter.widget-view+json": {
              "model_id": "9900019f71414098b41902440964005e",
              "version_major": 2,
              "version_minor": 0
            },
            "text/plain": [
              "VBox(children=(Label(value='Waiting for wandb.init()...\\r'), FloatProgress(value=0.01111233332222178, max=1.0)…"
            ]
          },
          "metadata": {},
          "output_type": "display_data"
        },
        {
          "data": {
            "text/html": [
              "Tracking run with wandb version 0.16.4"
            ],
            "text/plain": [
              "<IPython.core.display.HTML object>"
            ]
          },
          "metadata": {},
          "output_type": "display_data"
        },
        {
          "data": {
            "text/html": [
              "Run data is saved locally in <code>/mnt/c/Users/alejo/OneDrive - Universidad Carlos III de Madrid/UC3M/Year 4/Segundo Cuatri/Neural Networks/projects/wandb/run-20240307_215044-otn2apy6</code>"
            ],
            "text/plain": [
              "<IPython.core.display.HTML object>"
            ]
          },
          "metadata": {},
          "output_type": "display_data"
        },
        {
          "data": {
            "text/html": [
              "Syncing run <strong><a href='https://wandb.ai/zurdito/project_1/runs/otn2apy6' target=\"_blank\">3_layer_with_PSNR_train_MNIST_50</a></strong> to <a href='https://wandb.ai/zurdito/project_1' target=\"_blank\">Weights & Biases</a> (<a href='https://wandb.me/run' target=\"_blank\">docs</a>)<br/>"
            ],
            "text/plain": [
              "<IPython.core.display.HTML object>"
            ]
          },
          "metadata": {},
          "output_type": "display_data"
        },
        {
          "data": {
            "text/html": [
              " View project at <a href='https://wandb.ai/zurdito/project_1' target=\"_blank\">https://wandb.ai/zurdito/project_1</a>"
            ],
            "text/plain": [
              "<IPython.core.display.HTML object>"
            ]
          },
          "metadata": {},
          "output_type": "display_data"
        },
        {
          "data": {
            "text/html": [
              " View run at <a href='https://wandb.ai/zurdito/project_1/runs/otn2apy6' target=\"_blank\">https://wandb.ai/zurdito/project_1/runs/otn2apy6</a>"
            ],
            "text/plain": [
              "<IPython.core.display.HTML object>"
            ]
          },
          "metadata": {},
          "output_type": "display_data"
        },
        {
          "name": "stdout",
          "output_type": "stream",
          "text": [
            "Epoch:  1 Loss train:  0.19302685095251285 , Loss valid:  0.1499732623074917\n",
            "Epoch:  2 Loss train:  0.14027295453177596 , Loss valid:  0.1349205214926537\n",
            "Epoch:  3 Loss train:  0.13017861697484145 , Loss valid:  0.12707049028670533\n",
            "Epoch:  4 Loss train:  0.12452262540517206 , Loss valid:  0.12353055229846467\n",
            "Epoch:  5 Loss train:  0.12081178108399565 , Loss valid:  0.122136364243132\n",
            "Epoch:  6 Loss train:  0.1177649893797934 , Loss valid:  0.11796149180290547\n",
            "Epoch:  7 Loss train:  0.1155616397630762 , Loss valid:  0.11604760003850816\n",
            "Epoch:  8 Loss train:  0.1141600331228057 , Loss valid:  0.11493789937267912\n",
            "Epoch:  9 Loss train:  0.11335684619420631 , Loss valid:  0.11381113218500259\n",
            "Epoch:  10 Loss train:  0.11192772231615064 , Loss valid:  0.11263219739528413\n",
            "Epoch:  11 Loss train:  0.11103603202553297 , Loss valid:  0.1125586006552615\n",
            "Epoch:  12 Loss train:  0.11034311347810383 , Loss valid:  0.11165099185197912\n",
            "Epoch:  13 Loss train:  0.10975487547164614 , Loss valid:  0.1133499413728714\n",
            "Epoch:  14 Loss train:  0.10910333174450154 , Loss valid:  0.11065801581803789\n",
            "Epoch:  15 Loss train:  0.10846319242211228 , Loss valid:  0.11123841477835432\n",
            "Epoch:  16 Loss train:  0.10837710646658459 , Loss valid:  0.11008520259502086\n",
            "Epoch:  17 Loss train:  0.10765368108298969 , Loss valid:  0.10891535015816384\n",
            "Epoch:  18 Loss train:  0.10737299727572297 , Loss valid:  0.1087816650563098\n",
            "Epoch:  19 Loss train:  0.10721142613328993 , Loss valid:  0.10815285393532287\n",
            "Epoch:  20 Loss train:  0.10679043957497925 , Loss valid:  0.10929814884637265\n",
            "Epoch:  21 Loss train:  0.10636908935636959 , Loss valid:  0.1087001253632789\n",
            "Epoch:  22 Loss train:  0.1063003752655773 , Loss valid:  0.10777539262112151\n",
            "Epoch:  23 Loss train:  0.10591718207367441 , Loss valid:  0.10797286471153827\n",
            "Epoch:  24 Loss train:  0.10574359340931881 , Loss valid:  0.1069258727608843\n",
            "Epoch:  25 Loss train:  0.10538874951783907 , Loss valid:  0.10762743851605883\n",
            "Epoch:  26 Loss train:  0.10502590645443309 , Loss valid:  0.10707051858622978\n",
            "Epoch:  27 Loss train:  0.10492711131122302 , Loss valid:  0.10650763597260131\n",
            "Epoch:  28 Loss train:  0.10486639229665426 , Loss valid:  0.10684478485837896\n",
            "Epoch:  29 Loss train:  0.1046732885509052 , Loss valid:  0.10748721443592234\n",
            "Epoch:  30 Loss train:  0.10468256668272344 , Loss valid:  0.10799993359028025\n"
          ]
        },
        {
          "data": {
            "application/vnd.jupyter.widget-view+json": {
              "model_id": "f942847afb3d4017ac5fe13a7dd7add4",
              "version_major": 2,
              "version_minor": 0
            },
            "text/plain": [
              "VBox(children=(Label(value='0.002 MB of 0.002 MB uploaded\\r'), FloatProgress(value=1.0, max=1.0)))"
            ]
          },
          "metadata": {},
          "output_type": "display_data"
        },
        {
          "data": {
            "text/html": [
              "<style>\n",
              "    table.wandb td:nth-child(1) { padding: 0 10px; text-align: left ; width: auto;} td:nth-child(2) {text-align: left ; width: 100%}\n",
              "    .wandb-row { display: flex; flex-direction: row; flex-wrap: wrap; justify-content: flex-start; width: 100% }\n",
              "    .wandb-col { display: flex; flex-direction: column; flex-basis: 100%; flex: 1; padding: 10px; }\n",
              "    </style>\n",
              "<div class=\"wandb-row\"><div class=\"wandb-col\"><h3>Run history:</h3><br/><table class=\"wandb\"><tr><td>Loss train</td><td>█▄▃▃▂▂▂▂▂▂▂▁▁▁▁▁▁▁▁▁▁▁▁▁▁▁▁▁▁▁</td></tr><tr><td>Loss valid</td><td>█▆▄▄▄▃▃▂▂▂▂▂▂▂▂▂▁▁▁▁▁▁▁▁▁▁▁▁▁▁</td></tr><tr><td>projected dimension</td><td>▁▁▁▁▁▁▁▁▁▁▁▁▁▁▁▁▁▁▁▁▁▁▁▁▁▁▁▁▁▁</td></tr></table><br/></div><div class=\"wandb-col\"><h3>Run summary:</h3><br/><table class=\"wandb\"><tr><td>Loss train</td><td>0.10468</td></tr><tr><td>Loss valid</td><td>0.108</td></tr><tr><td>projected dimension</td><td>50</td></tr></table><br/></div></div>"
            ],
            "text/plain": [
              "<IPython.core.display.HTML object>"
            ]
          },
          "metadata": {},
          "output_type": "display_data"
        },
        {
          "data": {
            "text/html": [
              " View run <strong style=\"color:#cdcd00\">3_layer_with_PSNR_train_MNIST_50</strong> at: <a href='https://wandb.ai/zurdito/project_1/runs/otn2apy6' target=\"_blank\">https://wandb.ai/zurdito/project_1/runs/otn2apy6</a><br/>Synced 6 W&B file(s), 0 media file(s), 0 artifact file(s) and 0 other file(s)"
            ],
            "text/plain": [
              "<IPython.core.display.HTML object>"
            ]
          },
          "metadata": {},
          "output_type": "display_data"
        },
        {
          "data": {
            "text/html": [
              "Find logs at: <code>./wandb/run-20240307_215044-otn2apy6/logs</code>"
            ],
            "text/plain": [
              "<IPython.core.display.HTML object>"
            ]
          },
          "metadata": {},
          "output_type": "display_data"
        },
        {
          "data": {
            "application/vnd.jupyter.widget-view+json": {
              "model_id": "8d86fd81d94b41e5bbcb38a086b4b074",
              "version_major": 2,
              "version_minor": 0
            },
            "text/plain": [
              "VBox(children=(Label(value='Waiting for wandb.init()...\\r'), FloatProgress(value=0.011112516722222507, max=1.0…"
            ]
          },
          "metadata": {},
          "output_type": "display_data"
        },
        {
          "data": {
            "text/html": [
              "Tracking run with wandb version 0.16.4"
            ],
            "text/plain": [
              "<IPython.core.display.HTML object>"
            ]
          },
          "metadata": {},
          "output_type": "display_data"
        },
        {
          "data": {
            "text/html": [
              "Run data is saved locally in <code>/mnt/c/Users/alejo/OneDrive - Universidad Carlos III de Madrid/UC3M/Year 4/Segundo Cuatri/Neural Networks/projects/wandb/run-20240307_215748-aqlostp8</code>"
            ],
            "text/plain": [
              "<IPython.core.display.HTML object>"
            ]
          },
          "metadata": {},
          "output_type": "display_data"
        },
        {
          "data": {
            "text/html": [
              "Syncing run <strong><a href='https://wandb.ai/zurdito/project_1/runs/aqlostp8' target=\"_blank\">3_layer_with_PSNR_train_MNIST_100</a></strong> to <a href='https://wandb.ai/zurdito/project_1' target=\"_blank\">Weights & Biases</a> (<a href='https://wandb.me/run' target=\"_blank\">docs</a>)<br/>"
            ],
            "text/plain": [
              "<IPython.core.display.HTML object>"
            ]
          },
          "metadata": {},
          "output_type": "display_data"
        },
        {
          "data": {
            "text/html": [
              " View project at <a href='https://wandb.ai/zurdito/project_1' target=\"_blank\">https://wandb.ai/zurdito/project_1</a>"
            ],
            "text/plain": [
              "<IPython.core.display.HTML object>"
            ]
          },
          "metadata": {},
          "output_type": "display_data"
        },
        {
          "data": {
            "text/html": [
              " View run at <a href='https://wandb.ai/zurdito/project_1/runs/aqlostp8' target=\"_blank\">https://wandb.ai/zurdito/project_1/runs/aqlostp8</a>"
            ],
            "text/plain": [
              "<IPython.core.display.HTML object>"
            ]
          },
          "metadata": {},
          "output_type": "display_data"
        },
        {
          "name": "stdout",
          "output_type": "stream",
          "text": [
            "Epoch:  1 Loss train:  0.18940747789615256 , Loss valid:  0.14752592545874577\n",
            "Epoch:  2 Loss train:  0.1388757377439602 , Loss valid:  0.13526356524609504\n",
            "Epoch:  3 Loss train:  0.12895559972490778 , Loss valid:  0.12859679764889656\n",
            "Epoch:  4 Loss train:  0.12373715379825709 , Loss valid:  0.12332841728595977\n",
            "Epoch:  5 Loss train:  0.12000093497970904 , Loss valid:  0.12016017998152591\n",
            "Epoch:  6 Loss train:  0.1171501459215175 , Loss valid:  0.11863032611126595\n",
            "Epoch:  7 Loss train:  0.11527692901224575 , Loss valid:  0.11573278285721515\n",
            "Epoch:  8 Loss train:  0.11392663713459941 , Loss valid:  0.11512730013816914\n",
            "Epoch:  9 Loss train:  0.11283069347370077 , Loss valid:  0.11376436619048423\n",
            "Epoch:  10 Loss train:  0.11139806182208387 , Loss valid:  0.11273242698070851\n",
            "Epoch:  11 Loss train:  0.11062496322715147 , Loss valid:  0.11240835877809119\n",
            "Epoch:  12 Loss train:  0.10986416235523806 , Loss valid:  0.11178433568553722\n",
            "Epoch:  13 Loss train:  0.10965442920992659 , Loss valid:  0.11163442169732236\n",
            "Epoch:  14 Loss train:  0.1089585463262417 , Loss valid:  0.11085995600578633\n",
            "Epoch:  15 Loss train:  0.10848616028670222 , Loss valid:  0.10992485735010593\n",
            "Epoch:  16 Loss train:  0.10794047242961824 , Loss valid:  0.10947469602873985\n",
            "Epoch:  17 Loss train:  0.10755488388663666 , Loss valid:  0.10995809125139358\n",
            "Epoch:  18 Loss train:  0.10715294497045265 , Loss valid:  0.1083838662568559\n",
            "Epoch:  19 Loss train:  0.10684827919414436 , Loss valid:  0.10818308791581621\n",
            "Epoch:  20 Loss train:  0.10642969722605565 , Loss valid:  0.10848354738443455\n",
            "Epoch:  21 Loss train:  0.10614811066030101 , Loss valid:  0.1081261970578356\n",
            "Epoch:  22 Loss train:  0.10580323765647005 , Loss valid:  0.10709036788407793\n",
            "Epoch:  23 Loss train:  0.10566440123048695 , Loss valid:  0.10725362021872338\n",
            "Epoch:  24 Loss train:  0.10533933190163225 , Loss valid:  0.10674265810149781\n",
            "Epoch:  25 Loss train:  0.10507299734110181 , Loss valid:  0.1077655295425273\n",
            "Epoch:  26 Loss train:  0.10530610041777519 , Loss valid:  0.10732737323071094\n",
            "Epoch:  27 Loss train:  0.10478821174580265 , Loss valid:  0.10741446059434973\n",
            "Epoch:  28 Loss train:  0.10438077733851969 , Loss valid:  0.1060073916899397\n",
            "Epoch:  29 Loss train:  0.10465964808298106 , Loss valid:  0.10682702460821639\n",
            "Epoch:  30 Loss train:  0.10427482579623094 , Loss valid:  0.10620234523047792\n"
          ]
        },
        {
          "data": {
            "application/vnd.jupyter.widget-view+json": {
              "model_id": "e38cb3d1285d4a4e812adee07659138d",
              "version_major": 2,
              "version_minor": 0
            },
            "text/plain": [
              "VBox(children=(Label(value='0.002 MB of 0.002 MB uploaded\\r'), FloatProgress(value=1.0, max=1.0)))"
            ]
          },
          "metadata": {},
          "output_type": "display_data"
        },
        {
          "data": {
            "text/html": [
              "<style>\n",
              "    table.wandb td:nth-child(1) { padding: 0 10px; text-align: left ; width: auto;} td:nth-child(2) {text-align: left ; width: 100%}\n",
              "    .wandb-row { display: flex; flex-direction: row; flex-wrap: wrap; justify-content: flex-start; width: 100% }\n",
              "    .wandb-col { display: flex; flex-direction: column; flex-basis: 100%; flex: 1; padding: 10px; }\n",
              "    </style>\n",
              "<div class=\"wandb-row\"><div class=\"wandb-col\"><h3>Run history:</h3><br/><table class=\"wandb\"><tr><td>Loss train</td><td>█▄▃▃▂▂▂▂▂▂▂▁▁▁▁▁▁▁▁▁▁▁▁▁▁▁▁▁▁▁</td></tr><tr><td>Loss valid</td><td>█▆▅▄▃▃▃▃▂▂▂▂▂▂▂▂▂▁▁▁▁▁▁▁▁▁▁▁▁▁</td></tr><tr><td>projected dimension</td><td>▁▁▁▁▁▁▁▁▁▁▁▁▁▁▁▁▁▁▁▁▁▁▁▁▁▁▁▁▁▁</td></tr></table><br/></div><div class=\"wandb-col\"><h3>Run summary:</h3><br/><table class=\"wandb\"><tr><td>Loss train</td><td>0.10427</td></tr><tr><td>Loss valid</td><td>0.1062</td></tr><tr><td>projected dimension</td><td>100</td></tr></table><br/></div></div>"
            ],
            "text/plain": [
              "<IPython.core.display.HTML object>"
            ]
          },
          "metadata": {},
          "output_type": "display_data"
        },
        {
          "data": {
            "text/html": [
              " View run <strong style=\"color:#cdcd00\">3_layer_with_PSNR_train_MNIST_100</strong> at: <a href='https://wandb.ai/zurdito/project_1/runs/aqlostp8' target=\"_blank\">https://wandb.ai/zurdito/project_1/runs/aqlostp8</a><br/>Synced 6 W&B file(s), 0 media file(s), 0 artifact file(s) and 0 other file(s)"
            ],
            "text/plain": [
              "<IPython.core.display.HTML object>"
            ]
          },
          "metadata": {},
          "output_type": "display_data"
        },
        {
          "data": {
            "text/html": [
              "Find logs at: <code>./wandb/run-20240307_215748-aqlostp8/logs</code>"
            ],
            "text/plain": [
              "<IPython.core.display.HTML object>"
            ]
          },
          "metadata": {},
          "output_type": "display_data"
        }
      ],
      "source": [
        "epochs = 30\n",
        "models_autoencoder3 = train_models(projected_dimensions, autoencoder3, epochs, train_set, valid_set, INDEX)"
      ]
    },
    {
      "cell_type": "markdown",
      "metadata": {
        "id": "8Cv1gKgZyena"
      },
      "source": [
        "Visualization of reconstructed images"
      ]
    },
    {
      "cell_type": "code",
      "execution_count": 15,
      "metadata": {
        "colab": {
          "base_uri": "https://localhost:8080/",
          "height": 447
        },
        "id": "-C2_w-bg87bw",
        "outputId": "61f01e40-467b-403e-9139-e0a7ae4bf112"
      },
      "outputs": [
        {
          "data": {
            "text/plain": [
              "<matplotlib.image.AxesImage at 0x7f2605ccd990>"
            ]
          },
          "execution_count": 15,
          "metadata": {},
          "output_type": "execute_result"
        },
        {
          "data": {
            "image/png": "[encoded data removed]",
            "text/plain": [
              "<Figure size 640x480 with 1 Axes>"
            ]
          },
          "metadata": {
            "image/png": {
              "height": 413,
              "width": 416
            }
          },
          "output_type": "display_data"
        }
      ],
      "source": [
        "img = train_set[INDEX].dataset.data[1,:,:]\n",
        "noised_img = add_noise(img, 100)\n",
        "plt.imshow(img.numpy().reshape([28,28]), cmap='Greys_r')"
      ]
    },
    {
      "cell_type": "code",
      "execution_count": 16,
      "metadata": {
        "colab": {
          "base_uri": "https://localhost:8080/",
          "height": 447
        },
        "id": "amomyRpG-yUb",
        "outputId": "64a1e342-95f1-4882-85c3-fe366419dcbd"
      },
      "outputs": [
        {
          "data": {
            "text/plain": [
              "<matplotlib.image.AxesImage at 0x7f2605da9bd0>"
            ]
          },
          "execution_count": 16,
          "metadata": {},
          "output_type": "execute_result"
        },
        {
          "data": {
            "image/png": "[encoded data removed]",
            "text/plain": [
              "<Figure size 640x480 with 1 Axes>"
            ]
          },
          "metadata": {
            "image/png": {
              "height": 413,
              "width": 416
            }
          },
          "output_type": "display_data"
        }
      ],
      "source": [
        "plt.imshow(noised_img.numpy().reshape([28,28]), cmap='Greys_r')"
      ]
    },
    {
      "cell_type": "code",
      "execution_count": null,
      "metadata": {
        "colab": {
          "base_uri": "https://localhost:8080/",
          "height": 447
        },
        "id": "foBVOGbKLr6A",
        "outputId": "bc367ddc-cd71-4c47-8040-634589c52690"
      },
      "outputs": [],
      "source": [
        "noised_img = noised_img.reshape(-1, 784)\n",
        "reconstructed = models_autoencoder3[-1].forward(noised_img.float())\n",
        "plt.imshow(reconstructed.detach().numpy().reshape([28,28]))"
      ]
    },
    {
      "cell_type": "markdown",
      "metadata": {
        "id": "G4R72KGfyena"
      },
      "source": [
        "# 5 layers at both encoder/decoder:"
      ]
    },
    {
      "cell_type": "code",
      "execution_count": 18,
      "metadata": {
        "id": "NdVjO0MAyena"
      },
      "outputs": [],
      "source": [
        "class autoencoder5(nn.Module):\n",
        "    def __init__(self,projected_dimension, INDEX):\n",
        "        super().__init__()\n",
        "        self.projected_dimension = projected_dimension\n",
        "        self.criterion = nn.MSELoss()\n",
        "        self.learning_rate = 0.001\n",
        "        self.INDEX = INDEX\n",
        "        \n",
        "        if self.INDEX == 0:  # MNIST\n",
        "            self.name_train = f\"5_layer_with_PSNR_train_MNIST_{self.projected_dimension}\"\n",
        "            self.name_test = f\"5_layer_with_PSNR_test_MNIST_{self.projected_dimension}\"\n",
        "            self.dataset = \"MNIST\"\n",
        "\n",
        "        elif self.INDEX == 1:  # FMNIST\n",
        "            self.name_train = f\"5_layer_with_PSNR_train_FMNIST_{self.projected_dimension}\"\n",
        "            self.name_test = f\"5_layer_with_PSNR_test_FMNIST_{self.projected_dimension}\"\n",
        "            self.dataset = \"FMNIST\"\n",
        "\n",
        "        else:\n",
        "            raise ValueError(\"Inside autoencoder5, INDEX should be either 0 or 1.\")\n",
        "\n",
        "\n",
        "        self.project = \"project_1\"\n",
        "        self.architecture = \"linear_autoencoder\"\n",
        "        self.input_image_size = 784\n",
        "        self.outputs = []\n",
        "        self.loss_during_training = []\n",
        "        self.valid_loss_during_training = []\n",
        "\n",
        "        # Building an linear encoder with Linear\n",
        "        # layer followed by Relu activation function\n",
        "        # 784 -> projected dimension\n",
        "        self.encoder = nn.Sequential(\n",
        "            nn.Linear(784, 550),\n",
        "            nn.ReLU(),\n",
        "            #nn.Dropout(p=0.2),\n",
        "            nn.Linear(550, 400),\n",
        "            nn.ReLU(),\n",
        "            #nn.Dropout(p=0.2),\n",
        "            nn.Linear(400, 300),\n",
        "            nn.ReLU(),\n",
        "            #nn.Dropout(p=0.2),\n",
        "            nn.Linear(300,200),\n",
        "            nn.ReLU(),\n",
        "            #nn.Dropout(p=0.2),\n",
        "            nn.Linear(200,projected_dimension),\n",
        "            nn.ReLU()\n",
        "        )\n",
        "\n",
        "        # Building an linear decoder with Linear\n",
        "        # layer followed by Relu activation function\n",
        "        # The Sigmoid activation function\n",
        "        # outputs the value between 0 and 1\n",
        "        # projected dimension -> 784\n",
        "        self.decoder = nn.Sequential(\n",
        "            nn.Linear(projected_dimension, 200),\n",
        "            nn.ReLU(),\n",
        "            #nn.Dropout(p=0.2),\n",
        "            nn.Linear(200, 300),\n",
        "            nn.ReLU(),\n",
        "            #nn.Dropout(p=0.2),\n",
        "            nn.Linear(300, 400),\n",
        "            nn.ReLU(),\n",
        "            #nn.Dropout(p=0.2),\n",
        "            nn.Linear(400,550),\n",
        "            nn.ReLU(),\n",
        "            #nn.Dropout(p=0.2),\n",
        "            nn.Linear(550,784),\n",
        "            nn.Tanh()\n",
        "        )\n",
        "\n",
        "        self.optimizer = optim.Adam(self.parameters(), self.learning_rate)\n",
        "\n",
        "    def forward(self, image):\n",
        "        encoded = self.encoder(image)\n",
        "        decoded = self.decoder(encoded)\n",
        "        return decoded\n",
        "\n",
        "    def psnr(self, img1, img2):  #  Peak signal-to-noise ratio (PSNR)\n",
        "        mse_criterio = nn.MSELoss()\n",
        "        mse = mse_criterio(img1, img2)\n",
        "        max_pixel = 1.0\n",
        "        psnr = 20 * torch.log10(max_pixel / torch.sqrt(mse))\n",
        "        return psnr\n",
        "\n",
        "    def do_training(self, epochs, train_data, valid_data):\n",
        "        self.train()\n",
        "\n",
        "\n",
        "        wandb.init(  # Esto es para que se guarde en la plataforma de wandb y nos evitamos tener que hacerlo manualmente\n",
        "            # Set the project where this run will be logged\n",
        "            project=self.project,\n",
        "            # We pass a run name (otherwise it’ll be randomly assigned, like sunshine-lollypop-10)\n",
        "            name=self.name_train,\n",
        "            # Track hyperparameters and run metadata\n",
        "            config={\n",
        "                \"learning_rate\": self.learning_rate,\n",
        "                \"architecture\": self.architecture,\n",
        "                \"dataset\": self.dataset,\n",
        "                \"epochs\": epochs,\n",
        "            },\n",
        "        )\n",
        "\n",
        "        # Aqui es donde empieza realmente el entrenamiento\n",
        "        for epoch in range(epochs):\n",
        "            running_loss = 0.\n",
        "            for img, _ in train_data:\n",
        "                self.optimizer.zero_grad()\n",
        "                img = img.reshape(-1, self.input_image_size)\n",
        "                reconstructed = self.forward(img)\n",
        "                loss_train = self.criterion(reconstructed, img)\n",
        "\n",
        "                running_loss += loss_train.item()\n",
        "                loss_train.backward()\n",
        "                self.optimizer.step()\n",
        "\n",
        "            self.loss_during_training.append(running_loss/len(train_data))\n",
        "\n",
        "            with torch.no_grad():\n",
        "\n",
        "                # set model to evaluation mode\n",
        "                self.eval()\n",
        "\n",
        "                running_loss = 0.\n",
        "\n",
        "                for images,_ in valid_data:\n",
        "\n",
        "                    images = images.reshape(-1, self.input_image_size)\n",
        "\n",
        "                    out = self.forward(images)\n",
        "\n",
        "                    loss_valid = self.criterion(out,images)\n",
        "\n",
        "                    running_loss += loss_valid.item()\n",
        "                self.valid_loss_during_training.append(running_loss/len(valid_data))\n",
        "\n",
        "            # set model back to train mode\n",
        "            self.train()\n",
        "\n",
        "            print(\"Epoch: \", epoch + 1, \"Loss train: \", self.loss_during_training[-1], \", Loss valid: \", self.valid_loss_during_training[-1])\n",
        "            wandb.log({\"projected dimension\": self.projected_dimension, \"Loss train\": self.loss_during_training[-1], \"Loss valid\": self.valid_loss_during_training[-1]})\n",
        "            self.outputs.append((self.projected_dimension, epoch, img, reconstructed))\n",
        "\n",
        "        wandb.finish()\n",
        "\n",
        "    def eval_performance(self,data_test):\n",
        "\n",
        "      performance = 0\n",
        "\n",
        "      # Turn off gradients for validation, saves memory and computations\n",
        "      with torch.no_grad():\n",
        "\n",
        "          # set model to evaluation mode\n",
        "          self.eval()\n",
        "\n",
        "          for images,_ in data_test:\n",
        "\n",
        "              img = images.view(-1, self.input_image_size)\n",
        "              reconstructed = self.forward(img)\n",
        "              performance = self.psnr(reconstructed, img)\n",
        "\n",
        "\n",
        "          return performance"
      ]
    },
    {
      "cell_type": "code",
      "execution_count": 19,
      "metadata": {},
      "outputs": [
        {
          "data": {
            "text/html": [
              "Tracking run with wandb version 0.16.4"
            ],
            "text/plain": [
              "<IPython.core.display.HTML object>"
            ]
          },
          "metadata": {},
          "output_type": "display_data"
        },
        {
          "data": {
            "text/html": [
              "Run data is saved locally in <code>/mnt/c/Users/alejo/OneDrive - Universidad Carlos III de Madrid/UC3M/Year 4/Segundo Cuatri/Neural Networks/projects/wandb/run-20240307_221252-aegccs3n</code>"
            ],
            "text/plain": [
              "<IPython.core.display.HTML object>"
            ]
          },
          "metadata": {},
          "output_type": "display_data"
        },
        {
          "data": {
            "text/html": [
              "Syncing run <strong><a href='https://wandb.ai/zurdito/project_1/runs/aegccs3n' target=\"_blank\">5_layer_with_PSNR_train_MNIST_15</a></strong> to <a href='https://wandb.ai/zurdito/project_1' target=\"_blank\">Weights & Biases</a> (<a href='https://wandb.me/run' target=\"_blank\">docs</a>)<br/>"
            ],
            "text/plain": [
              "<IPython.core.display.HTML object>"
            ]
          },
          "metadata": {},
          "output_type": "display_data"
        },
        {
          "data": {
            "text/html": [
              " View project at <a href='https://wandb.ai/zurdito/project_1' target=\"_blank\">https://wandb.ai/zurdito/project_1</a>"
            ],
            "text/plain": [
              "<IPython.core.display.HTML object>"
            ]
          },
          "metadata": {},
          "output_type": "display_data"
        },
        {
          "data": {
            "text/html": [
              " View run at <a href='https://wandb.ai/zurdito/project_1/runs/aegccs3n' target=\"_blank\">https://wandb.ai/zurdito/project_1/runs/aegccs3n</a>"
            ],
            "text/plain": [
              "<IPython.core.display.HTML object>"
            ]
          },
          "metadata": {},
          "output_type": "display_data"
        },
        {
          "name": "stdout",
          "output_type": "stream",
          "text": [
            "Epoch:  1 Loss train:  0.19373067047192968 , Loss valid:  0.13507718548495717\n",
            "Epoch:  2 Loss train:  0.11510168782181361 , Loss valid:  0.1043956348236571\n",
            "Epoch:  3 Loss train:  0.0946384854932231 , Loss valid:  0.09078150030146254\n",
            "Epoch:  4 Loss train:  0.08626200360330669 , Loss valid:  0.08500740800766235\n",
            "Epoch:  5 Loss train:  0.0813688595821573 , Loss valid:  0.08299665070594625\n",
            "Epoch:  6 Loss train:  0.07736791485116225 , Loss valid:  0.07880265980641893\n",
            "Epoch:  7 Loss train:  0.07378451372708449 , Loss valid:  0.07613802874024878\n",
            "Epoch:  8 Loss train:  0.07000945131717758 , Loss valid:  0.07298653801070883\n",
            "Epoch:  9 Loss train:  0.06657831579319794 , Loss valid:  0.0692792813036036\n",
            "Epoch:  10 Loss train:  0.064388202550948 , Loss valid:  0.06894466667733294\n",
            "Epoch:  11 Loss train:  0.06221546336944977 , Loss valid:  0.06712838760081757\n",
            "Epoch:  12 Loss train:  0.06089124596804719 , Loss valid:  0.06690561222903271\n",
            "Epoch:  13 Loss train:  0.05935981989287856 , Loss valid:  0.06405892873064001\n",
            "Epoch:  14 Loss train:  0.05832523732996461 , Loss valid:  0.06444257619850179\n",
            "Epoch:  15 Loss train:  0.057323274440767076 , Loss valid:  0.06491705066663153\n",
            "Epoch:  16 Loss train:  0.05642667333912951 , Loss valid:  0.06252842848288252\n",
            "Epoch:  17 Loss train:  0.055495148201854055 , Loss valid:  0.06229925830947592\n",
            "Epoch:  18 Loss train:  0.05472531209869141 , Loss valid:  0.06121776038978962\n",
            "Epoch:  19 Loss train:  0.053703282991508866 , Loss valid:  0.060967399053117065\n",
            "Epoch:  20 Loss train:  0.05326574188868769 , Loss valid:  0.059118098258338074\n",
            "Epoch:  21 Loss train:  0.052409427843733945 , Loss valid:  0.06030946190052844\n",
            "Epoch:  22 Loss train:  0.0518131746635349 , Loss valid:  0.06116344911303926\n",
            "Epoch:  23 Loss train:  0.051430876102213835 , Loss valid:  0.05887786257774272\n",
            "Epoch:  24 Loss train:  0.0509143477961929 , Loss valid:  0.05949078893407862\n",
            "Epoch:  25 Loss train:  0.050315916358323935 , Loss valid:  0.06020972083540673\n",
            "Epoch:  26 Loss train:  0.04992947379254143 , Loss valid:  0.057924877519303176\n",
            "Epoch:  27 Loss train:  0.04950753429544751 , Loss valid:  0.05748670811348773\n",
            "Epoch:  28 Loss train:  0.04914313456869091 , Loss valid:  0.05641288381624729\n",
            "Epoch:  29 Loss train:  0.04872076576363973 , Loss valid:  0.056500474347713145\n",
            "Epoch:  30 Loss train:  0.04848997220291163 , Loss valid:  0.05656899663996189\n"
          ]
        },
        {
          "data": {
            "application/vnd.jupyter.widget-view+json": {
              "model_id": "42a49a006c1e47ff8a2d6e1968d1588e",
              "version_major": 2,
              "version_minor": 0
            },
            "text/plain": [
              "VBox(children=(Label(value='0.002 MB of 0.002 MB uploaded\\r'), FloatProgress(value=1.0, max=1.0)))"
            ]
          },
          "metadata": {},
          "output_type": "display_data"
        },
        {
          "data": {
            "text/html": [
              "<style>\n",
              "    table.wandb td:nth-child(1) { padding: 0 10px; text-align: left ; width: auto;} td:nth-child(2) {text-align: left ; width: 100%}\n",
              "    .wandb-row { display: flex; flex-direction: row; flex-wrap: wrap; justify-content: flex-start; width: 100% }\n",
              "    .wandb-col { display: flex; flex-direction: column; flex-basis: 100%; flex: 1; padding: 10px; }\n",
              "    </style>\n",
              "<div class=\"wandb-row\"><div class=\"wandb-col\"><h3>Run history:</h3><br/><table class=\"wandb\"><tr><td>Loss train</td><td>█▄▃▃▃▂▂▂▂▂▂▂▂▁▁▁▁▁▁▁▁▁▁▁▁▁▁▁▁▁</td></tr><tr><td>Loss valid</td><td>█▅▄▄▃▃▃▂▂▂▂▂▂▂▂▂▂▁▁▁▁▁▁▁▁▁▁▁▁▁</td></tr><tr><td>projected dimension</td><td>▁▁▁▁▁▁▁▁▁▁▁▁▁▁▁▁▁▁▁▁▁▁▁▁▁▁▁▁▁▁</td></tr></table><br/></div><div class=\"wandb-col\"><h3>Run summary:</h3><br/><table class=\"wandb\"><tr><td>Loss train</td><td>0.04849</td></tr><tr><td>Loss valid</td><td>0.05657</td></tr><tr><td>projected dimension</td><td>15</td></tr></table><br/></div></div>"
            ],
            "text/plain": [
              "<IPython.core.display.HTML object>"
            ]
          },
          "metadata": {},
          "output_type": "display_data"
        },
        {
          "data": {
            "text/html": [
              " View run <strong style=\"color:#cdcd00\">5_layer_with_PSNR_train_MNIST_15</strong> at: <a href='https://wandb.ai/zurdito/project_1/runs/aegccs3n' target=\"_blank\">https://wandb.ai/zurdito/project_1/runs/aegccs3n</a><br/>Synced 6 W&B file(s), 0 media file(s), 0 artifact file(s) and 0 other file(s)"
            ],
            "text/plain": [
              "<IPython.core.display.HTML object>"
            ]
          },
          "metadata": {},
          "output_type": "display_data"
        },
        {
          "data": {
            "text/html": [
              "Find logs at: <code>./wandb/run-20240307_221252-aegccs3n/logs</code>"
            ],
            "text/plain": [
              "<IPython.core.display.HTML object>"
            ]
          },
          "metadata": {},
          "output_type": "display_data"
        },
        {
          "data": {
            "application/vnd.jupyter.widget-view+json": {
              "model_id": "fe1bd83a5f4a4f23a8f5cea317860191",
              "version_major": 2,
              "version_minor": 0
            },
            "text/plain": [
              "VBox(children=(Label(value='Waiting for wandb.init()...\\r'), FloatProgress(value=0.011112534433333267, max=1.0…"
            ]
          },
          "metadata": {},
          "output_type": "display_data"
        },
        {
          "data": {
            "text/html": [
              "Tracking run with wandb version 0.16.4"
            ],
            "text/plain": [
              "<IPython.core.display.HTML object>"
            ]
          },
          "metadata": {},
          "output_type": "display_data"
        },
        {
          "data": {
            "text/html": [
              "Run data is saved locally in <code>/mnt/c/Users/alejo/OneDrive - Universidad Carlos III de Madrid/UC3M/Year 4/Segundo Cuatri/Neural Networks/projects/wandb/run-20240307_222244-k07a0n7s</code>"
            ],
            "text/plain": [
              "<IPython.core.display.HTML object>"
            ]
          },
          "metadata": {},
          "output_type": "display_data"
        },
        {
          "data": {
            "text/html": [
              "Syncing run <strong><a href='https://wandb.ai/zurdito/project_1/runs/k07a0n7s' target=\"_blank\">5_layer_with_PSNR_train_MNIST_30</a></strong> to <a href='https://wandb.ai/zurdito/project_1' target=\"_blank\">Weights & Biases</a> (<a href='https://wandb.me/run' target=\"_blank\">docs</a>)<br/>"
            ],
            "text/plain": [
              "<IPython.core.display.HTML object>"
            ]
          },
          "metadata": {},
          "output_type": "display_data"
        },
        {
          "data": {
            "text/html": [
              " View project at <a href='https://wandb.ai/zurdito/project_1' target=\"_blank\">https://wandb.ai/zurdito/project_1</a>"
            ],
            "text/plain": [
              "<IPython.core.display.HTML object>"
            ]
          },
          "metadata": {},
          "output_type": "display_data"
        },
        {
          "data": {
            "text/html": [
              " View run at <a href='https://wandb.ai/zurdito/project_1/runs/k07a0n7s' target=\"_blank\">https://wandb.ai/zurdito/project_1/runs/k07a0n7s</a>"
            ],
            "text/plain": [
              "<IPython.core.display.HTML object>"
            ]
          },
          "metadata": {},
          "output_type": "display_data"
        },
        {
          "name": "stdout",
          "output_type": "stream",
          "text": [
            "Epoch:  1 Loss train:  0.19331959650894118 , Loss valid:  0.12950052666537304\n",
            "Epoch:  2 Loss train:  0.1124592632880773 , Loss valid:  0.10440985991599712\n",
            "Epoch:  3 Loss train:  0.09420260032427243 , Loss valid:  0.09495065186886077\n",
            "Epoch:  4 Loss train:  0.0857709998222576 , Loss valid:  0.08699445768873743\n",
            "Epoch:  5 Loss train:  0.08087667060846632 , Loss valid:  0.0824338101960243\n",
            "Epoch:  6 Loss train:  0.0774743570046584 , Loss valid:  0.07929801392428418\n",
            "Epoch:  7 Loss train:  0.07501597682924264 , Loss valid:  0.08096755219900861\n",
            "Epoch:  8 Loss train:  0.07245476516387002 , Loss valid:  0.07665162330612223\n",
            "Epoch:  9 Loss train:  0.06987331532979045 , Loss valid:  0.07384721448129795\n",
            "Epoch:  10 Loss train:  0.06708309883040121 , Loss valid:  0.07119158565046939\n",
            "Epoch:  11 Loss train:  0.06411956634838134 , Loss valid:  0.06842328276722989\n",
            "Epoch:  12 Loss train:  0.06187540250936185 , Loss valid:  0.06591740122183841\n",
            "Epoch:  13 Loss train:  0.06010386731941253 , Loss valid:  0.06408282876648802\n",
            "Epoch:  14 Loss train:  0.058212292153091934 , Loss valid:  0.06380102951475915\n",
            "Epoch:  15 Loss train:  0.056755779252853245 , Loss valid:  0.06215578044982667\n",
            "Epoch:  16 Loss train:  0.05535195767350325 , Loss valid:  0.062105164042812716\n",
            "Epoch:  17 Loss train:  0.05380757686957209 , Loss valid:  0.06030830818604916\n",
            "Epoch:  18 Loss train:  0.05269446996019476 , Loss valid:  0.05866018432251951\n",
            "Epoch:  19 Loss train:  0.05148253854448823 , Loss valid:  0.05909894608119701\n",
            "Epoch:  20 Loss train:  0.05047638476720418 , Loss valid:  0.05843898750683094\n",
            "Epoch:  21 Loss train:  0.049786567100620065 , Loss valid:  0.05730562871123882\n",
            "Epoch:  22 Loss train:  0.04883108339907432 , Loss valid:  0.05479428912413881\n",
            "Epoch:  23 Loss train:  0.04791280156297779 , Loss valid:  0.054044378120848474\n",
            "Epoch:  24 Loss train:  0.04703074339671399 , Loss valid:  0.054303016894041226\n",
            "Epoch:  25 Loss train:  0.046450410085857256 , Loss valid:  0.053120902133114795\n",
            "Epoch:  26 Loss train:  0.0458458676320416 , Loss valid:  0.053647188192352334\n",
            "Epoch:  27 Loss train:  0.04511486445236104 , Loss valid:  0.05340313962165345\n",
            "Epoch:  28 Loss train:  0.04454479085027494 , Loss valid:  0.05138960677258512\n",
            "Epoch:  29 Loss train:  0.04400434050793675 , Loss valid:  0.05114357311357843\n",
            "Epoch:  30 Loss train:  0.04355987271463329 , Loss valid:  0.05209579455091598\n"
          ]
        },
        {
          "data": {
            "application/vnd.jupyter.widget-view+json": {
              "model_id": "adec69cbf1234804b924485eef4e57f4",
              "version_major": 2,
              "version_minor": 0
            },
            "text/plain": [
              "VBox(children=(Label(value='0.002 MB of 0.029 MB uploaded\\r'), FloatProgress(value=0.05978905735003296, max=1.…"
            ]
          },
          "metadata": {},
          "output_type": "display_data"
        },
        {
          "data": {
            "text/html": [
              "<style>\n",
              "    table.wandb td:nth-child(1) { padding: 0 10px; text-align: left ; width: auto;} td:nth-child(2) {text-align: left ; width: 100%}\n",
              "    .wandb-row { display: flex; flex-direction: row; flex-wrap: wrap; justify-content: flex-start; width: 100% }\n",
              "    .wandb-col { display: flex; flex-direction: column; flex-basis: 100%; flex: 1; padding: 10px; }\n",
              "    </style>\n",
              "<div class=\"wandb-row\"><div class=\"wandb-col\"><h3>Run history:</h3><br/><table class=\"wandb\"><tr><td>Loss train</td><td>█▄▃▃▃▃▂▂▂▂▂▂▂▂▂▂▁▁▁▁▁▁▁▁▁▁▁▁▁▁</td></tr><tr><td>Loss valid</td><td>█▆▅▄▄▄▄▃▃▃▃▂▂▂▂▂▂▂▂▂▂▁▁▁▁▁▁▁▁▁</td></tr><tr><td>projected dimension</td><td>▁▁▁▁▁▁▁▁▁▁▁▁▁▁▁▁▁▁▁▁▁▁▁▁▁▁▁▁▁▁</td></tr></table><br/></div><div class=\"wandb-col\"><h3>Run summary:</h3><br/><table class=\"wandb\"><tr><td>Loss train</td><td>0.04356</td></tr><tr><td>Loss valid</td><td>0.0521</td></tr><tr><td>projected dimension</td><td>30</td></tr></table><br/></div></div>"
            ],
            "text/plain": [
              "<IPython.core.display.HTML object>"
            ]
          },
          "metadata": {},
          "output_type": "display_data"
        },
        {
          "data": {
            "text/html": [
              " View run <strong style=\"color:#cdcd00\">5_layer_with_PSNR_train_MNIST_30</strong> at: <a href='https://wandb.ai/zurdito/project_1/runs/k07a0n7s' target=\"_blank\">https://wandb.ai/zurdito/project_1/runs/k07a0n7s</a><br/>Synced 6 W&B file(s), 0 media file(s), 0 artifact file(s) and 0 other file(s)"
            ],
            "text/plain": [
              "<IPython.core.display.HTML object>"
            ]
          },
          "metadata": {},
          "output_type": "display_data"
        },
        {
          "data": {
            "text/html": [
              "Find logs at: <code>./wandb/run-20240307_222244-k07a0n7s/logs</code>"
            ],
            "text/plain": [
              "<IPython.core.display.HTML object>"
            ]
          },
          "metadata": {},
          "output_type": "display_data"
        },
        {
          "data": {
            "application/vnd.jupyter.widget-view+json": {
              "model_id": "11114d9b3741407fa0d82a1c9e624700",
              "version_major": 2,
              "version_minor": 0
            },
            "text/plain": [
              "VBox(children=(Label(value='Waiting for wandb.init()...\\r'), FloatProgress(value=0.011112312155556638, max=1.0…"
            ]
          },
          "metadata": {},
          "output_type": "display_data"
        },
        {
          "data": {
            "text/html": [
              "Tracking run with wandb version 0.16.4"
            ],
            "text/plain": [
              "<IPython.core.display.HTML object>"
            ]
          },
          "metadata": {},
          "output_type": "display_data"
        },
        {
          "data": {
            "text/html": [
              "Run data is saved locally in <code>/mnt/c/Users/alejo/OneDrive - Universidad Carlos III de Madrid/UC3M/Year 4/Segundo Cuatri/Neural Networks/projects/wandb/run-20240307_223211-10kykw4p</code>"
            ],
            "text/plain": [
              "<IPython.core.display.HTML object>"
            ]
          },
          "metadata": {},
          "output_type": "display_data"
        },
        {
          "data": {
            "text/html": [
              "Syncing run <strong><a href='https://wandb.ai/zurdito/project_1/runs/10kykw4p' target=\"_blank\">5_layer_with_PSNR_train_MNIST_50</a></strong> to <a href='https://wandb.ai/zurdito/project_1' target=\"_blank\">Weights & Biases</a> (<a href='https://wandb.me/run' target=\"_blank\">docs</a>)<br/>"
            ],
            "text/plain": [
              "<IPython.core.display.HTML object>"
            ]
          },
          "metadata": {},
          "output_type": "display_data"
        },
        {
          "data": {
            "text/html": [
              " View project at <a href='https://wandb.ai/zurdito/project_1' target=\"_blank\">https://wandb.ai/zurdito/project_1</a>"
            ],
            "text/plain": [
              "<IPython.core.display.HTML object>"
            ]
          },
          "metadata": {},
          "output_type": "display_data"
        },
        {
          "data": {
            "text/html": [
              " View run at <a href='https://wandb.ai/zurdito/project_1/runs/10kykw4p' target=\"_blank\">https://wandb.ai/zurdito/project_1/runs/10kykw4p</a>"
            ],
            "text/plain": [
              "<IPython.core.display.HTML object>"
            ]
          },
          "metadata": {},
          "output_type": "display_data"
        },
        {
          "name": "stdout",
          "output_type": "stream",
          "text": [
            "Epoch:  1 Loss train:  0.1979117696173489 , Loss valid:  0.13484925646731194\n",
            "Epoch:  2 Loss train:  0.11536254771900448 , Loss valid:  0.10654816066331052\n",
            "Epoch:  3 Loss train:  0.09825000745794651 , Loss valid:  0.0962404896604254\n",
            "Epoch:  4 Loss train:  0.08782025110188195 , Loss valid:  0.0878013200582342\n",
            "Epoch:  5 Loss train:  0.08184815223582766 , Loss valid:  0.08301020718001305\n",
            "Epoch:  6 Loss train:  0.07818037436597726 , Loss valid:  0.07955966017981793\n",
            "Epoch:  7 Loss train:  0.0750107114541937 , Loss valid:  0.07964788922604094\n",
            "Epoch:  8 Loss train:  0.07172955047677863 , Loss valid:  0.07395130402230202\n",
            "Epoch:  9 Loss train:  0.0685232116798447 , Loss valid:  0.07092307135462761\n",
            "Epoch:  10 Loss train:  0.065634967002552 , Loss valid:  0.06834127021596786\n",
            "Epoch:  11 Loss train:  0.06351752689806744 , Loss valid:  0.06654425068421567\n",
            "Epoch:  12 Loss train:  0.06167585170425644 , Loss valid:  0.06741996930634722\n",
            "Epoch:  13 Loss train:  0.059982924050101166 , Loss valid:  0.06458209451842815\n",
            "Epoch:  14 Loss train:  0.058570583298040386 , Loss valid:  0.06393741909810838\n",
            "Epoch:  15 Loss train:  0.05732343247985806 , Loss valid:  0.06280686807759264\n",
            "Epoch:  16 Loss train:  0.0557256611646153 , Loss valid:  0.061330025865042465\n",
            "Epoch:  17 Loss train:  0.05468493514821272 , Loss valid:  0.062154468244060554\n",
            "Epoch:  18 Loss train:  0.05322432313749397 , Loss valid:  0.058910647002940485\n",
            "Epoch:  19 Loss train:  0.052106806743805384 , Loss valid:  0.05827834382653237\n",
            "Epoch:  20 Loss train:  0.0511767644466917 , Loss valid:  0.05662135304288661\n",
            "Epoch:  21 Loss train:  0.05016983450199901 , Loss valid:  0.059026065849243324\n",
            "Epoch:  22 Loss train:  0.04923884747338227 , Loss valid:  0.05578361037880816\n",
            "Epoch:  23 Loss train:  0.048439334151970055 , Loss valid:  0.055790901834026296\n",
            "Epoch:  24 Loss train:  0.04753256456354971 , Loss valid:  0.053919987443913804\n",
            "Epoch:  25 Loss train:  0.0467611363961954 , Loss valid:  0.05506180266433574\n",
            "Epoch:  26 Loss train:  0.04631658999080008 , Loss valid:  0.052585181799974845\n",
            "Epoch:  27 Loss train:  0.04545724903635511 , Loss valid:  0.0531484861164651\n",
            "Epoch:  28 Loss train:  0.04470577832332558 , Loss valid:  0.05202531587887318\n",
            "Epoch:  29 Loss train:  0.0441679732281376 , Loss valid:  0.05140245723280501\n",
            "Epoch:  30 Loss train:  0.043517728119199586 , Loss valid:  0.05173373685238209\n"
          ]
        },
        {
          "data": {
            "application/vnd.jupyter.widget-view+json": {
              "model_id": "d6e41d64eb644b1c95bba5d9fd8c9693",
              "version_major": 2,
              "version_minor": 0
            },
            "text/plain": [
              "VBox(children=(Label(value='0.002 MB of 0.002 MB uploaded\\r'), FloatProgress(value=1.0, max=1.0)))"
            ]
          },
          "metadata": {},
          "output_type": "display_data"
        },
        {
          "data": {
            "text/html": [
              "<style>\n",
              "    table.wandb td:nth-child(1) { padding: 0 10px; text-align: left ; width: auto;} td:nth-child(2) {text-align: left ; width: 100%}\n",
              "    .wandb-row { display: flex; flex-direction: row; flex-wrap: wrap; justify-content: flex-start; width: 100% }\n",
              "    .wandb-col { display: flex; flex-direction: column; flex-basis: 100%; flex: 1; padding: 10px; }\n",
              "    </style>\n",
              "<div class=\"wandb-row\"><div class=\"wandb-col\"><h3>Run history:</h3><br/><table class=\"wandb\"><tr><td>Loss train</td><td>█▄▃▃▃▃▂▂▂▂▂▂▂▂▂▂▂▁▁▁▁▁▁▁▁▁▁▁▁▁</td></tr><tr><td>Loss valid</td><td>█▆▅▄▄▃▃▃▃▂▂▂▂▂▂▂▂▂▂▁▂▁▁▁▁▁▁▁▁▁</td></tr><tr><td>projected dimension</td><td>▁▁▁▁▁▁▁▁▁▁▁▁▁▁▁▁▁▁▁▁▁▁▁▁▁▁▁▁▁▁</td></tr></table><br/></div><div class=\"wandb-col\"><h3>Run summary:</h3><br/><table class=\"wandb\"><tr><td>Loss train</td><td>0.04352</td></tr><tr><td>Loss valid</td><td>0.05173</td></tr><tr><td>projected dimension</td><td>50</td></tr></table><br/></div></div>"
            ],
            "text/plain": [
              "<IPython.core.display.HTML object>"
            ]
          },
          "metadata": {},
          "output_type": "display_data"
        },
        {
          "data": {
            "text/html": [
              " View run <strong style=\"color:#cdcd00\">5_layer_with_PSNR_train_MNIST_50</strong> at: <a href='https://wandb.ai/zurdito/project_1/runs/10kykw4p' target=\"_blank\">https://wandb.ai/zurdito/project_1/runs/10kykw4p</a><br/>Synced 6 W&B file(s), 0 media file(s), 0 artifact file(s) and 0 other file(s)"
            ],
            "text/plain": [
              "<IPython.core.display.HTML object>"
            ]
          },
          "metadata": {},
          "output_type": "display_data"
        },
        {
          "data": {
            "text/html": [
              "Find logs at: <code>./wandb/run-20240307_223211-10kykw4p/logs</code>"
            ],
            "text/plain": [
              "<IPython.core.display.HTML object>"
            ]
          },
          "metadata": {},
          "output_type": "display_data"
        },
        {
          "data": {
            "application/vnd.jupyter.widget-view+json": {
              "model_id": "33a646134b724b959037d4781c55ba47",
              "version_major": 2,
              "version_minor": 0
            },
            "text/plain": [
              "VBox(children=(Label(value='Waiting for wandb.init()...\\r'), FloatProgress(value=0.01111270889999408, max=1.0)…"
            ]
          },
          "metadata": {},
          "output_type": "display_data"
        },
        {
          "data": {
            "text/html": [
              "Tracking run with wandb version 0.16.4"
            ],
            "text/plain": [
              "<IPython.core.display.HTML object>"
            ]
          },
          "metadata": {},
          "output_type": "display_data"
        },
        {
          "data": {
            "text/html": [
              "Run data is saved locally in <code>/mnt/c/Users/alejo/OneDrive - Universidad Carlos III de Madrid/UC3M/Year 4/Segundo Cuatri/Neural Networks/projects/wandb/run-20240307_224133-4wgbkm0q</code>"
            ],
            "text/plain": [
              "<IPython.core.display.HTML object>"
            ]
          },
          "metadata": {},
          "output_type": "display_data"
        },
        {
          "data": {
            "text/html": [
              "Syncing run <strong><a href='https://wandb.ai/zurdito/project_1/runs/4wgbkm0q' target=\"_blank\">5_layer_with_PSNR_train_MNIST_100</a></strong> to <a href='https://wandb.ai/zurdito/project_1' target=\"_blank\">Weights & Biases</a> (<a href='https://wandb.me/run' target=\"_blank\">docs</a>)<br/>"
            ],
            "text/plain": [
              "<IPython.core.display.HTML object>"
            ]
          },
          "metadata": {},
          "output_type": "display_data"
        },
        {
          "data": {
            "text/html": [
              " View project at <a href='https://wandb.ai/zurdito/project_1' target=\"_blank\">https://wandb.ai/zurdito/project_1</a>"
            ],
            "text/plain": [
              "<IPython.core.display.HTML object>"
            ]
          },
          "metadata": {},
          "output_type": "display_data"
        },
        {
          "data": {
            "text/html": [
              " View run at <a href='https://wandb.ai/zurdito/project_1/runs/4wgbkm0q' target=\"_blank\">https://wandb.ai/zurdito/project_1/runs/4wgbkm0q</a>"
            ],
            "text/plain": [
              "<IPython.core.display.HTML object>"
            ]
          },
          "metadata": {},
          "output_type": "display_data"
        },
        {
          "name": "stdout",
          "output_type": "stream",
          "text": [
            "Epoch:  1 Loss train:  0.200150233799253 , Loss valid:  0.13838610284506006\n",
            "Epoch:  2 Loss train:  0.1190869363278828 , Loss valid:  0.10765700498793987\n",
            "Epoch:  3 Loss train:  0.0978816286872395 , Loss valid:  0.09464903825775106\n",
            "Epoch:  4 Loss train:  0.0879929919346151 , Loss valid:  0.0877997117473724\n",
            "Epoch:  5 Loss train:  0.08283818643328479 , Loss valid:  0.08396253141951053\n",
            "Epoch:  6 Loss train:  0.07952146080788225 , Loss valid:  0.08172802817314229\n",
            "Epoch:  7 Loss train:  0.07662967810491947 , Loss valid:  0.07971048548500588\n",
            "Epoch:  8 Loss train:  0.07458040810888633 , Loss valid:  0.07788539931495139\n",
            "Epoch:  9 Loss train:  0.07261547608174045 , Loss valid:  0.07552319365613004\n",
            "Epoch:  10 Loss train:  0.07091351978438483 , Loss valid:  0.07585245478660502\n",
            "Epoch:  11 Loss train:  0.06933775901349938 , Loss valid:  0.0726099413601642\n",
            "Epoch:  12 Loss train:  0.06760589067231525 , Loss valid:  0.07344618141651153\n",
            "Epoch:  13 Loss train:  0.06601661910429936 , Loss valid:  0.07206759487694882\n",
            "Epoch:  14 Loss train:  0.06417540086179295 , Loss valid:  0.0687403602168915\n",
            "Epoch:  15 Loss train:  0.06285469118632715 , Loss valid:  0.06882257588366245\n",
            "Epoch:  16 Loss train:  0.06130189178194004 , Loss valid:  0.06783576425402722\n",
            "Epoch:  17 Loss train:  0.059765973429999904 , Loss valid:  0.06479622908729188\n",
            "Epoch:  18 Loss train:  0.05810061633184722 , Loss valid:  0.06370122264674369\n",
            "Epoch:  19 Loss train:  0.056797516024248165 , Loss valid:  0.061817435571487916\n",
            "Epoch:  20 Loss train:  0.05547558890380473 , Loss valid:  0.06122329277878112\n",
            "Epoch:  21 Loss train:  0.05445499609182165 , Loss valid:  0.0605604332495243\n",
            "Epoch:  22 Loss train:  0.053454562921119345 , Loss valid:  0.05982618000596127\n",
            "Epoch:  23 Loss train:  0.052395055843093855 , Loss valid:  0.05834900183563537\n",
            "Epoch:  24 Loss train:  0.05146095430245623 , Loss valid:  0.05791264441102109\n",
            "Epoch:  25 Loss train:  0.050671414493329146 , Loss valid:  0.05822114116967993\n",
            "Epoch:  26 Loss train:  0.049806673005646604 , Loss valid:  0.05717535101352854\n",
            "Epoch:  27 Loss train:  0.04911117386919531 , Loss valid:  0.05516293949269234\n",
            "Epoch:  28 Loss train:  0.04819794001840902 , Loss valid:  0.05524127055355843\n",
            "Epoch:  29 Loss train:  0.0474492498588833 , Loss valid:  0.05456325633728758\n",
            "Epoch:  30 Loss train:  0.04661626056556336 , Loss valid:  0.05726122829191228\n"
          ]
        },
        {
          "data": {
            "application/vnd.jupyter.widget-view+json": {
              "model_id": "5f171719690b432a8b689f10ec9777b6",
              "version_major": 2,
              "version_minor": 0
            },
            "text/plain": [
              "VBox(children=(Label(value='0.002 MB of 0.002 MB uploaded\\r'), FloatProgress(value=1.0, max=1.0)))"
            ]
          },
          "metadata": {},
          "output_type": "display_data"
        },
        {
          "data": {
            "text/html": [
              "<style>\n",
              "    table.wandb td:nth-child(1) { padding: 0 10px; text-align: left ; width: auto;} td:nth-child(2) {text-align: left ; width: 100%}\n",
              "    .wandb-row { display: flex; flex-direction: row; flex-wrap: wrap; justify-content: flex-start; width: 100% }\n",
              "    .wandb-col { display: flex; flex-direction: column; flex-basis: 100%; flex: 1; padding: 10px; }\n",
              "    </style>\n",
              "<div class=\"wandb-row\"><div class=\"wandb-col\"><h3>Run history:</h3><br/><table class=\"wandb\"><tr><td>Loss train</td><td>█▄▃▃▃▃▂▂▂▂▂▂▂▂▂▂▂▂▁▁▁▁▁▁▁▁▁▁▁▁</td></tr><tr><td>Loss valid</td><td>█▅▄▄▃▃▃▃▃▃▃▃▂▂▂▂▂▂▂▂▂▁▁▁▁▁▁▁▁▁</td></tr><tr><td>projected dimension</td><td>▁▁▁▁▁▁▁▁▁▁▁▁▁▁▁▁▁▁▁▁▁▁▁▁▁▁▁▁▁▁</td></tr></table><br/></div><div class=\"wandb-col\"><h3>Run summary:</h3><br/><table class=\"wandb\"><tr><td>Loss train</td><td>0.04662</td></tr><tr><td>Loss valid</td><td>0.05726</td></tr><tr><td>projected dimension</td><td>100</td></tr></table><br/></div></div>"
            ],
            "text/plain": [
              "<IPython.core.display.HTML object>"
            ]
          },
          "metadata": {},
          "output_type": "display_data"
        },
        {
          "data": {
            "text/html": [
              " View run <strong style=\"color:#cdcd00\">5_layer_with_PSNR_train_MNIST_100</strong> at: <a href='https://wandb.ai/zurdito/project_1/runs/4wgbkm0q' target=\"_blank\">https://wandb.ai/zurdito/project_1/runs/4wgbkm0q</a><br/>Synced 6 W&B file(s), 0 media file(s), 0 artifact file(s) and 0 other file(s)"
            ],
            "text/plain": [
              "<IPython.core.display.HTML object>"
            ]
          },
          "metadata": {},
          "output_type": "display_data"
        },
        {
          "data": {
            "text/html": [
              "Find logs at: <code>./wandb/run-20240307_224133-4wgbkm0q/logs</code>"
            ],
            "text/plain": [
              "<IPython.core.display.HTML object>"
            ]
          },
          "metadata": {},
          "output_type": "display_data"
        }
      ],
      "source": [
        "epochs = 30\n",
        "models_autoencoder5 = train_models(projected_dimensions, autoencoder5, epochs, train_set, valid_set, INDEX)"
      ]
    },
    {
      "cell_type": "markdown",
      "metadata": {
        "id": "nrESsVANyenc"
      },
      "source": [
        "### Save the models"
      ]
    },
    {
      "cell_type": "code",
      "execution_count": 20,
      "metadata": {},
      "outputs": [],
      "source": [
        "save_models(projected_dimensions, models_autoencoder3, models_autoencoder5, INDEX)"
      ]
    },
    {
      "cell_type": "markdown",
      "metadata": {
        "id": "GBQ_VcpVSnXv"
      },
      "source": [
        "### Load the models"
      ]
    },
    {
      "cell_type": "code",
      "execution_count": 21,
      "metadata": {},
      "outputs": [],
      "source": [
        "models_autoencoder3 = []\n",
        "models_autoencoder5 = []\n",
        "load_models(projected_dimensions, autoencoder3, autoencoder5, models_autoencoder3, models_autoencoder5, INDEX)"
      ]
    },
    {
      "cell_type": "markdown",
      "metadata": {
        "id": "YhHn3DCBoyHm"
      },
      "source": [
        "### Evaluation of the performance of the models without regularization"
      ]
    },
    {
      "cell_type": "code",
      "execution_count": 22,
      "metadata": {
        "id": "a1KP4OMzo9MD"
      },
      "outputs": [
        {
          "name": "stdout",
          "output_type": "stream",
          "text": [
            "Autoenc3, train-15. Projections: tensor(10.2761)\n",
            "Autoenc3, val-15. Projections: tensor(10.8408)\n",
            "Autoenc3, test-15. Projections: tensor(11.0808) \n",
            "\n",
            "Autoenc3, train-30. Projections: tensor(11.9150)\n",
            "Autoenc3, val-30. Projections: tensor(11.3848)\n",
            "Autoenc3, test-30. Projections: tensor(11.7351) \n",
            "\n",
            "Autoenc3, train-50. Projections: tensor(11.3367)\n",
            "Autoenc3, val-50. Projections: tensor(11.0231)\n",
            "Autoenc3, test-50. Projections: tensor(11.3568) \n",
            "\n",
            "Autoenc3, train-100. Projections: tensor(11.9843)\n",
            "Autoenc3, val-100. Projections: tensor(10.9808)\n",
            "Autoenc3, test-100. Projections: tensor(11.6429) \n",
            "\n",
            "Autoenc5, train-15. Projections: tensor(12.9971)\n",
            "Autoenc5, val-15. Projections: tensor(12.1647)\n",
            "Autoenc5, test-15. Projections: tensor(13.8004) \n",
            "\n",
            "Autoenc5, train-30. Projections: tensor(12.9160)\n",
            "Autoenc5, val-30. Projections: tensor(12.6693)\n",
            "Autoenc5, test-30. Projections: tensor(12.6603) \n",
            "\n",
            "Autoenc5, train-50. Projections: tensor(14.2898)\n",
            "Autoenc5, val-50. Projections: tensor(12.9193)\n",
            "Autoenc5, test-50. Projections: tensor(12.7604) \n",
            "\n",
            "Autoenc5, train-100. Projections: tensor(14.7059)\n",
            "Autoenc5, val-100. Projections: tensor(13.1372)\n",
            "Autoenc5, test-100. Projections: tensor(11.2696) \n",
            "\n"
          ]
        }
      ],
      "source": [
        "models = [models_autoencoder3, models_autoencoder5]\n",
        "evaluate_models(models, train_set[INDEX], valid_set[INDEX], test_set[INDEX]) "
      ]
    },
    {
      "cell_type": "markdown",
      "metadata": {
        "id": "3y4v1hBEs1vI"
      },
      "source": [
        "After analysing the losses of the train and validation sets we can see that we can apply early stopping in 15 epochs because the validation loss is getting small slowly after that point."
      ]
    },
    {
      "cell_type": "markdown",
      "metadata": {
        "id": "ULaBdnR4ovFP"
      },
      "source": [
        "## Training the models with early stopping, dropout and Lasso regularization"
      ]
    },
    {
      "cell_type": "markdown",
      "metadata": {},
      "source": [
        "### Autoencoder with 3 Layers and Regularization"
      ]
    },
    {
      "cell_type": "code",
      "execution_count": 23,
      "metadata": {
        "id": "aCU80C3routB"
      },
      "outputs": [],
      "source": [
        "\n",
        "class autoencoder3_regularized(nn.Module):\n",
        "    def __init__(self, projected_dimension, INDEX):\n",
        "        super().__init__()\n",
        "        self.projected_dimension = projected_dimension\n",
        "        self.criterion = nn.MSELoss()\n",
        "        self.learning_rate = 0.001\n",
        "        self.lambd = 1e-5\n",
        "        self.INDEX = INDEX\n",
        "\n",
        "        if self.INDEX == 0:  # MNIST\n",
        "            self.name_train = f\"3_layer_train_dropout_MNIST_{self.projected_dimension}\"\n",
        "            self.name_test = f\"3_layer_test_dropout_MNIST_{self.projected_dimension}\"\n",
        "            self.dataset = \"MNIST\"\n",
        "\n",
        "        elif self.INDEX == 1:  # FMNIST\n",
        "            self.name_train = f\"3_layer_train_dropout_FMNIST_{self.projected_dimension}\"\n",
        "            self.name_test = f\"3_layer_test_dropout_FMNIST_{self.projected_dimension}\"\n",
        "            self.dataset = \"FMNIST\"\n",
        "\n",
        "        else:\n",
        "            raise ValueError(\"Inside autoencoder3, INDEX should be either 0 or 1.\")\n",
        "\n",
        "        self.project = \"project_1\"\n",
        "        self.architecture = \"linear_autoencoder\"\n",
        "        self.input_image_size = 784\n",
        "        self.outputs = []\n",
        "        self.loss_during_training = []\n",
        "        self.valid_loss_during_training = []\n",
        "\n",
        "\n",
        "\n",
        "        # Building an linear encoder with Linear\n",
        "        # layer followed by Relu activation function\n",
        "        # 784 -> projected dimension\n",
        "        self.encoder = nn.Sequential(\n",
        "            nn.Linear(self.input_image_size, 300),\n",
        "            nn.ReLU(),\n",
        "            nn.Dropout(p=0.2), # Dropout with a probability of 0.2\n",
        "            nn.Linear(300, 150),\n",
        "            nn.ReLU(),\n",
        "            nn.Dropout(p=0.2),\n",
        "            nn.Linear(150, self.projected_dimension),\n",
        "            nn.ReLU(),\n",
        "        )\n",
        "\n",
        "        # Building an linear decoder with Linear\n",
        "        # layer followed by Relu activation function\n",
        "        # The Sigmoid activation function\n",
        "        # outputs the value between 0 and 1\n",
        "        # projected dimension -> 784\n",
        "        self.decoder = nn.Sequential(\n",
        "            nn.Linear(self.projected_dimension, 150),\n",
        "            nn.ReLU(),\n",
        "            nn.Dropout(p=0.2),\n",
        "            nn.Linear(150, 300),\n",
        "            nn.ReLU(),\n",
        "            nn.Dropout(p=0.2),\n",
        "            nn.Linear(300, self.input_image_size),\n",
        "            nn.Tanh(),\n",
        "        )\n",
        "        self.optimizer = optim.Adam(self.parameters(), self.learning_rate)\n",
        "\n",
        "    def forward(self, image):\n",
        "        encoded = self.encoder(image)\n",
        "        decoded = self.decoder(encoded)\n",
        "        return encoded, decoded\n",
        "\n",
        "    def psnr(self, img1, img2):  #  Peak signal-to-noise ratio (PSNR)\n",
        "        mse_criterio = nn.MSELoss()\n",
        "        mse = mse_criterio(img1, img2)\n",
        "        max_pixel = 1.0\n",
        "        psnr = 20 * torch.log10(max_pixel / torch.sqrt(mse))\n",
        "        return psnr\n",
        "\n",
        "    def do_training(self, epochs, train_data, valid_data):\n",
        "        self.train()\n",
        "\n",
        "\n",
        "\n",
        "\n",
        "        wandb.init(  # Esto es para que se guarde en la plataforma de wandb y nos evitamos tener que hacerlo manualmente\n",
        "            # Set the project where this run will be logged\n",
        "            project=self.project,\n",
        "            # We pass a run name (otherwise it’ll be randomly assigned, like sunshine-lollypop-10)\n",
        "            name=self.name_train,\n",
        "            # Track hyperparameters and run metadata\n",
        "            config={\n",
        "                \"learning_rate\": self.learning_rate,\n",
        "                \"architecture\": self.architecture,\n",
        "                \"dataset\": self.dataset,\n",
        "                \"epochs\": epochs,\n",
        "            },\n",
        "        )\n",
        "\n",
        "        # Aqui es donde empieza realmente el entrenamiento\n",
        "        for epoch in range(epochs):\n",
        "            running_loss = 0.\n",
        "            for img, _ in train_data:\n",
        "                self.optimizer.zero_grad()\n",
        "                img = img.reshape(-1, self.input_image_size)\n",
        "                enco,reconstructed = self.forward(img)\n",
        "                l1_reg = torch.abs(enco).sum()\n",
        "                loss_train = self.criterion(reconstructed, img) + self.lambd*l1_reg\n",
        "\n",
        "                running_loss += loss_train.item()\n",
        "                loss_train.backward()\n",
        "                self.optimizer.step()\n",
        "\n",
        "            self.loss_during_training.append(running_loss/len(train_data))\n",
        "\n",
        "            with torch.no_grad():\n",
        "\n",
        "                # set model to evaluation mode\n",
        "                self.eval()\n",
        "\n",
        "                running_loss = 0.\n",
        "\n",
        "                for images,_ in valid_data:\n",
        "\n",
        "                    images = images.reshape(-1, self.input_image_size)\n",
        "\n",
        "                    enco,out = self.forward(images)\n",
        "                    l1_reg = torch.abs(enco).sum()\n",
        "                    loss_valid = self.criterion(out,images) + self.lambd*l1_reg\n",
        "\n",
        "                    running_loss += loss_valid.item()\n",
        "                self.valid_loss_during_training.append(running_loss/len(valid_data))\n",
        "\n",
        "            # set model back to train mode\n",
        "            self.train()\n",
        "\n",
        "            print(\"Epoch: \", epoch + 1, \"Loss train: \", self.loss_during_training[-1], \", Loss valid: \", self.valid_loss_during_training[-1])\n",
        "            wandb.log({\"projected dimension\": self.projected_dimension, \"Loss train\": self.loss_during_training[-1], \"Loss valid\": self.valid_loss_during_training[-1]})\n",
        "            self.outputs.append((self.projected_dimension, epoch, img, reconstructed))\n",
        "\n",
        "        wandb.finish()\n",
        "\n",
        "    def eval_performance(self,data_test):\n",
        "\n",
        "      performance = 0\n",
        "\n",
        "      # Turn off gradients for validation, saves memory and computations\n",
        "      with torch.no_grad():\n",
        "\n",
        "          # set model to evaluation mode\n",
        "          self.eval()\n",
        "\n",
        "          for images,_ in data_test:\n",
        "\n",
        "              img = images.view(-1, self.input_image_size)\n",
        "              _,reconstructed = self.forward(img)\n",
        "              performance = self.psnr(reconstructed, img)\n",
        "\n",
        "\n",
        "          return performance\n"
      ]
    },
    {
      "cell_type": "code",
      "execution_count": 24,
      "metadata": {},
      "outputs": [
        {
          "data": {
            "text/html": [
              "Tracking run with wandb version 0.16.4"
            ],
            "text/plain": [
              "<IPython.core.display.HTML object>"
            ]
          },
          "metadata": {},
          "output_type": "display_data"
        },
        {
          "data": {
            "text/html": [
              "Run data is saved locally in <code>/mnt/c/Users/alejo/OneDrive - Universidad Carlos III de Madrid/UC3M/Year 4/Segundo Cuatri/Neural Networks/projects/wandb/run-20240307_225238-zkushm5s</code>"
            ],
            "text/plain": [
              "<IPython.core.display.HTML object>"
            ]
          },
          "metadata": {},
          "output_type": "display_data"
        },
        {
          "data": {
            "text/html": [
              "Syncing run <strong><a href='https://wandb.ai/zurdito/project_1/runs/zkushm5s' target=\"_blank\">3_layer_train_dropout_MNIST_15</a></strong> to <a href='https://wandb.ai/zurdito/project_1' target=\"_blank\">Weights & Biases</a> (<a href='https://wandb.me/run' target=\"_blank\">docs</a>)<br/>"
            ],
            "text/plain": [
              "<IPython.core.display.HTML object>"
            ]
          },
          "metadata": {},
          "output_type": "display_data"
        },
        {
          "data": {
            "text/html": [
              " View project at <a href='https://wandb.ai/zurdito/project_1' target=\"_blank\">https://wandb.ai/zurdito/project_1</a>"
            ],
            "text/plain": [
              "<IPython.core.display.HTML object>"
            ]
          },
          "metadata": {},
          "output_type": "display_data"
        },
        {
          "data": {
            "text/html": [
              " View run at <a href='https://wandb.ai/zurdito/project_1/runs/zkushm5s' target=\"_blank\">https://wandb.ai/zurdito/project_1/runs/zkushm5s</a>"
            ],
            "text/plain": [
              "<IPython.core.display.HTML object>"
            ]
          },
          "metadata": {},
          "output_type": "display_data"
        },
        {
          "name": "stdout",
          "output_type": "stream",
          "text": [
            "Epoch:  1 Loss train:  0.21391634463163262 , Loss valid:  0.14241494831252605\n",
            "Epoch:  2 Loss train:  0.1455335312692279 , Loss valid:  0.12317659350785803\n",
            "Epoch:  3 Loss train:  0.13438743677794596 , Loss valid:  0.1138523832280585\n"
          ]
        },
        {
          "ename": "KeyboardInterrupt",
          "evalue": "",
          "output_type": "error",
          "traceback": [
            "\u001b[0;31m---------------------------------------------------------------------------\u001b[0m",
            "\u001b[0;31mKeyboardInterrupt\u001b[0m                         Traceback (most recent call last)",
            "Cell \u001b[0;32mIn[24], line 2\u001b[0m\n\u001b[1;32m      1\u001b[0m epochs \u001b[38;5;241m=\u001b[39m \u001b[38;5;241m15\u001b[39m\n\u001b[0;32m----> 2\u001b[0m models_autoencoder3_regularized \u001b[38;5;241m=\u001b[39m train_models(projected_dimensions, autoencoder3_regularized, epochs, train_set, valid_set, INDEX)\n",
            "Cell \u001b[0;32mIn[4], line 5\u001b[0m, in \u001b[0;36mtrain_models\u001b[0;34m(projected_dimensions, autoencoder, epochs, train_set, valid_set, INDEX)\u001b[0m\n\u001b[1;32m      3\u001b[0m \u001b[38;5;28;01mfor\u001b[39;00m i \u001b[38;5;129;01min\u001b[39;00m \u001b[38;5;28mrange\u001b[39m(\u001b[38;5;28mlen\u001b[39m(projected_dimensions)):\n\u001b[1;32m      4\u001b[0m     model \u001b[38;5;241m=\u001b[39m autoencoder(projected_dimensions[i], INDEX)  \u001b[38;5;66;03m# To initialize the model with the projected dimension\u001b[39;00m\n\u001b[0;32m----> 5\u001b[0m     model\u001b[38;5;241m.\u001b[39mdo_training(epochs, train_set[INDEX], valid_set[INDEX])\n\u001b[1;32m      6\u001b[0m     models_autoencoder\u001b[38;5;241m.\u001b[39mappend(model)\n\u001b[1;32m      7\u001b[0m \u001b[38;5;28;01mreturn\u001b[39;00m models_autoencoder\n",
            "Cell \u001b[0;32mIn[23], line 122\u001b[0m, in \u001b[0;36mautoencoder3_regularized.do_training\u001b[0;34m(self, epochs, train_data, valid_data)\u001b[0m\n\u001b[1;32m    118\u001b[0m \u001b[38;5;28;01mfor\u001b[39;00m images,_ \u001b[38;5;129;01min\u001b[39;00m valid_data:\n\u001b[1;32m    120\u001b[0m     images \u001b[38;5;241m=\u001b[39m images\u001b[38;5;241m.\u001b[39mreshape(\u001b[38;5;241m-\u001b[39m\u001b[38;5;241m1\u001b[39m, \u001b[38;5;28mself\u001b[39m\u001b[38;5;241m.\u001b[39minput_image_size)\n\u001b[0;32m--> 122\u001b[0m     enco,out \u001b[38;5;241m=\u001b[39m \u001b[38;5;28mself\u001b[39m\u001b[38;5;241m.\u001b[39mforward(images)\n\u001b[1;32m    123\u001b[0m     l1_reg \u001b[38;5;241m=\u001b[39m torch\u001b[38;5;241m.\u001b[39mabs(enco)\u001b[38;5;241m.\u001b[39msum()\n\u001b[1;32m    124\u001b[0m     loss_valid \u001b[38;5;241m=\u001b[39m \u001b[38;5;28mself\u001b[39m\u001b[38;5;241m.\u001b[39mcriterion(out,images) \u001b[38;5;241m+\u001b[39m \u001b[38;5;28mself\u001b[39m\u001b[38;5;241m.\u001b[39mlambd\u001b[38;5;241m*\u001b[39ml1_reg\n",
            "Cell \u001b[0;32mIn[23], line 65\u001b[0m, in \u001b[0;36mautoencoder3_regularized.forward\u001b[0;34m(self, image)\u001b[0m\n\u001b[1;32m     63\u001b[0m \u001b[38;5;28;01mdef\u001b[39;00m \u001b[38;5;21mforward\u001b[39m(\u001b[38;5;28mself\u001b[39m, image):\n\u001b[1;32m     64\u001b[0m     encoded \u001b[38;5;241m=\u001b[39m \u001b[38;5;28mself\u001b[39m\u001b[38;5;241m.\u001b[39mencoder(image)\n\u001b[0;32m---> 65\u001b[0m     decoded \u001b[38;5;241m=\u001b[39m \u001b[38;5;28mself\u001b[39m\u001b[38;5;241m.\u001b[39mdecoder(encoded)\n\u001b[1;32m     66\u001b[0m     \u001b[38;5;28;01mreturn\u001b[39;00m encoded, decoded\n",
            "File \u001b[0;32m~/anaconda3/lib/python3.11/site-packages/torch/nn/modules/module.py:1511\u001b[0m, in \u001b[0;36mModule._wrapped_call_impl\u001b[0;34m(self, *args, **kwargs)\u001b[0m\n\u001b[1;32m   1509\u001b[0m     \u001b[38;5;28;01mreturn\u001b[39;00m \u001b[38;5;28mself\u001b[39m\u001b[38;5;241m.\u001b[39m_compiled_call_impl(\u001b[38;5;241m*\u001b[39margs, \u001b[38;5;241m*\u001b[39m\u001b[38;5;241m*\u001b[39mkwargs)  \u001b[38;5;66;03m# type: ignore[misc]\u001b[39;00m\n\u001b[1;32m   1510\u001b[0m \u001b[38;5;28;01melse\u001b[39;00m:\n\u001b[0;32m-> 1511\u001b[0m     \u001b[38;5;28;01mreturn\u001b[39;00m \u001b[38;5;28mself\u001b[39m\u001b[38;5;241m.\u001b[39m_call_impl(\u001b[38;5;241m*\u001b[39margs, \u001b[38;5;241m*\u001b[39m\u001b[38;5;241m*\u001b[39mkwargs)\n",
            "File \u001b[0;32m~/anaconda3/lib/python3.11/site-packages/torch/nn/modules/module.py:1520\u001b[0m, in \u001b[0;36mModule._call_impl\u001b[0;34m(self, *args, **kwargs)\u001b[0m\n\u001b[1;32m   1515\u001b[0m \u001b[38;5;66;03m# If we don't have any hooks, we want to skip the rest of the logic in\u001b[39;00m\n\u001b[1;32m   1516\u001b[0m \u001b[38;5;66;03m# this function, and just call forward.\u001b[39;00m\n\u001b[1;32m   1517\u001b[0m \u001b[38;5;28;01mif\u001b[39;00m \u001b[38;5;129;01mnot\u001b[39;00m (\u001b[38;5;28mself\u001b[39m\u001b[38;5;241m.\u001b[39m_backward_hooks \u001b[38;5;129;01mor\u001b[39;00m \u001b[38;5;28mself\u001b[39m\u001b[38;5;241m.\u001b[39m_backward_pre_hooks \u001b[38;5;129;01mor\u001b[39;00m \u001b[38;5;28mself\u001b[39m\u001b[38;5;241m.\u001b[39m_forward_hooks \u001b[38;5;129;01mor\u001b[39;00m \u001b[38;5;28mself\u001b[39m\u001b[38;5;241m.\u001b[39m_forward_pre_hooks\n\u001b[1;32m   1518\u001b[0m         \u001b[38;5;129;01mor\u001b[39;00m _global_backward_pre_hooks \u001b[38;5;129;01mor\u001b[39;00m _global_backward_hooks\n\u001b[1;32m   1519\u001b[0m         \u001b[38;5;129;01mor\u001b[39;00m _global_forward_hooks \u001b[38;5;129;01mor\u001b[39;00m _global_forward_pre_hooks):\n\u001b[0;32m-> 1520\u001b[0m     \u001b[38;5;28;01mreturn\u001b[39;00m forward_call(\u001b[38;5;241m*\u001b[39margs, \u001b[38;5;241m*\u001b[39m\u001b[38;5;241m*\u001b[39mkwargs)\n\u001b[1;32m   1522\u001b[0m \u001b[38;5;28;01mtry\u001b[39;00m:\n\u001b[1;32m   1523\u001b[0m     result \u001b[38;5;241m=\u001b[39m \u001b[38;5;28;01mNone\u001b[39;00m\n",
            "File \u001b[0;32m~/anaconda3/lib/python3.11/site-packages/torch/nn/modules/container.py:217\u001b[0m, in \u001b[0;36mSequential.forward\u001b[0;34m(self, input)\u001b[0m\n\u001b[1;32m    215\u001b[0m \u001b[38;5;28;01mdef\u001b[39;00m \u001b[38;5;21mforward\u001b[39m(\u001b[38;5;28mself\u001b[39m, \u001b[38;5;28minput\u001b[39m):\n\u001b[1;32m    216\u001b[0m     \u001b[38;5;28;01mfor\u001b[39;00m module \u001b[38;5;129;01min\u001b[39;00m \u001b[38;5;28mself\u001b[39m:\n\u001b[0;32m--> 217\u001b[0m         \u001b[38;5;28minput\u001b[39m \u001b[38;5;241m=\u001b[39m module(\u001b[38;5;28minput\u001b[39m)\n\u001b[1;32m    218\u001b[0m     \u001b[38;5;28;01mreturn\u001b[39;00m \u001b[38;5;28minput\u001b[39m\n",
            "File \u001b[0;32m~/anaconda3/lib/python3.11/site-packages/torch/nn/modules/module.py:1511\u001b[0m, in \u001b[0;36mModule._wrapped_call_impl\u001b[0;34m(self, *args, **kwargs)\u001b[0m\n\u001b[1;32m   1509\u001b[0m     \u001b[38;5;28;01mreturn\u001b[39;00m \u001b[38;5;28mself\u001b[39m\u001b[38;5;241m.\u001b[39m_compiled_call_impl(\u001b[38;5;241m*\u001b[39margs, \u001b[38;5;241m*\u001b[39m\u001b[38;5;241m*\u001b[39mkwargs)  \u001b[38;5;66;03m# type: ignore[misc]\u001b[39;00m\n\u001b[1;32m   1510\u001b[0m \u001b[38;5;28;01melse\u001b[39;00m:\n\u001b[0;32m-> 1511\u001b[0m     \u001b[38;5;28;01mreturn\u001b[39;00m \u001b[38;5;28mself\u001b[39m\u001b[38;5;241m.\u001b[39m_call_impl(\u001b[38;5;241m*\u001b[39margs, \u001b[38;5;241m*\u001b[39m\u001b[38;5;241m*\u001b[39mkwargs)\n",
            "File \u001b[0;32m~/anaconda3/lib/python3.11/site-packages/torch/nn/modules/module.py:1520\u001b[0m, in \u001b[0;36mModule._call_impl\u001b[0;34m(self, *args, **kwargs)\u001b[0m\n\u001b[1;32m   1515\u001b[0m \u001b[38;5;66;03m# If we don't have any hooks, we want to skip the rest of the logic in\u001b[39;00m\n\u001b[1;32m   1516\u001b[0m \u001b[38;5;66;03m# this function, and just call forward.\u001b[39;00m\n\u001b[1;32m   1517\u001b[0m \u001b[38;5;28;01mif\u001b[39;00m \u001b[38;5;129;01mnot\u001b[39;00m (\u001b[38;5;28mself\u001b[39m\u001b[38;5;241m.\u001b[39m_backward_hooks \u001b[38;5;129;01mor\u001b[39;00m \u001b[38;5;28mself\u001b[39m\u001b[38;5;241m.\u001b[39m_backward_pre_hooks \u001b[38;5;129;01mor\u001b[39;00m \u001b[38;5;28mself\u001b[39m\u001b[38;5;241m.\u001b[39m_forward_hooks \u001b[38;5;129;01mor\u001b[39;00m \u001b[38;5;28mself\u001b[39m\u001b[38;5;241m.\u001b[39m_forward_pre_hooks\n\u001b[1;32m   1518\u001b[0m         \u001b[38;5;129;01mor\u001b[39;00m _global_backward_pre_hooks \u001b[38;5;129;01mor\u001b[39;00m _global_backward_hooks\n\u001b[1;32m   1519\u001b[0m         \u001b[38;5;129;01mor\u001b[39;00m _global_forward_hooks \u001b[38;5;129;01mor\u001b[39;00m _global_forward_pre_hooks):\n\u001b[0;32m-> 1520\u001b[0m     \u001b[38;5;28;01mreturn\u001b[39;00m forward_call(\u001b[38;5;241m*\u001b[39margs, \u001b[38;5;241m*\u001b[39m\u001b[38;5;241m*\u001b[39mkwargs)\n\u001b[1;32m   1522\u001b[0m \u001b[38;5;28;01mtry\u001b[39;00m:\n\u001b[1;32m   1523\u001b[0m     result \u001b[38;5;241m=\u001b[39m \u001b[38;5;28;01mNone\u001b[39;00m\n",
            "File \u001b[0;32m~/anaconda3/lib/python3.11/site-packages/torch/nn/modules/linear.py:116\u001b[0m, in \u001b[0;36mLinear.forward\u001b[0;34m(self, input)\u001b[0m\n\u001b[1;32m    115\u001b[0m \u001b[38;5;28;01mdef\u001b[39;00m \u001b[38;5;21mforward\u001b[39m(\u001b[38;5;28mself\u001b[39m, \u001b[38;5;28minput\u001b[39m: Tensor) \u001b[38;5;241m-\u001b[39m\u001b[38;5;241m>\u001b[39m Tensor:\n\u001b[0;32m--> 116\u001b[0m     \u001b[38;5;28;01mreturn\u001b[39;00m F\u001b[38;5;241m.\u001b[39mlinear(\u001b[38;5;28minput\u001b[39m, \u001b[38;5;28mself\u001b[39m\u001b[38;5;241m.\u001b[39mweight, \u001b[38;5;28mself\u001b[39m\u001b[38;5;241m.\u001b[39mbias)\n",
            "\u001b[0;31mKeyboardInterrupt\u001b[0m: "
          ]
        }
      ],
      "source": [
        "epochs = 15\n",
        "models_autoencoder3_regularized = train_models(projected_dimensions, autoencoder3_regularized, epochs, train_set, valid_set, INDEX)"
      ]
    },
    {
      "cell_type": "markdown",
      "metadata": {},
      "source": [
        "### Autoencoder with 5 Layers and Regularization"
      ]
    },
    {
      "cell_type": "code",
      "execution_count": null,
      "metadata": {
        "id": "p56RDLyzn5rn"
      },
      "outputs": [],
      "source": [
        "class autoencoder5_regularized(nn.Module):\n",
        "    def __init__(self, projected_dimension, INDEX):\n",
        "        super().__init__()\n",
        "        self.projected_dimension = projected_dimension\n",
        "        self.criterion = nn.MSELoss()\n",
        "        self.learning_rate = 0.001\n",
        "        self.lambd = 1e-5\n",
        "        self.INDEX = INDEX\n",
        "\n",
        "        if self.INDEX == 0:  # MNIST\n",
        "            self.name_train = f\"5_layer_train_dropout_MNIST_{self.projected_dimension}\"\n",
        "            self.name_test = f\"5_layer_test_dropout_MNIST_{self.projected_dimension}\"\n",
        "            self.dataset = \"MNIST\"\n",
        "\n",
        "        elif self.INDEX == 1:  # FMNIST\n",
        "            self.name_train = f\"5_layer_train_dropout_FMNIST_{self.projected_dimension}\"\n",
        "            self.name_test = f\"5_layer_test_dropout_FMNIST_{self.projected_dimension}\"\n",
        "            self.dataset = \"FMNIST\"\n",
        "\n",
        "        else:\n",
        "            raise ValueError(\"Inside autoencoder5, INDEX should be either 0 or 1.\")\n",
        "\n",
        "        self.project = \"project_1\"\n",
        "        self.architecture = \"linear_autoencoder\"\n",
        "        self.input_image_size = 784\n",
        "        self.outputs = []\n",
        "        self.loss_during_training = []\n",
        "        self.valid_loss_during_training = []\n",
        "\n",
        "\n",
        "\n",
        "        # Building an linear encoder with Linear\n",
        "        # layer followed by Relu activation function\n",
        "        # 784 -> projected dimension\n",
        "        self.encoder = nn.Sequential(\n",
        "            nn.Linear(784, 550),\n",
        "            nn.ReLU(),\n",
        "            nn.Dropout(p=0.2),\n",
        "            nn.Linear(550, 400),\n",
        "            nn.ReLU(),\n",
        "            nn.Dropout(p=0.2),\n",
        "            nn.Linear(400, 300),\n",
        "            nn.ReLU(),\n",
        "            nn.Dropout(p=0.2),\n",
        "            nn.Linear(300,200),\n",
        "            nn.ReLU(),\n",
        "            nn.Dropout(p=0.2),\n",
        "            nn.Linear(200,projected_dimension),\n",
        "            nn.ReLU(),\n",
        "        )\n",
        "\n",
        "        # Building an linear decoder with Linear\n",
        "        # layer followed by Relu activation function\n",
        "        # The Sigmoid activation function\n",
        "        # outputs the value between 0 and 1\n",
        "        # projected dimension -> 784\n",
        "        self.decoder = nn.Sequential(\n",
        "            nn.Linear(projected_dimension, 200),\n",
        "            nn.ReLU(),\n",
        "            nn.Dropout(p=0.2),\n",
        "            nn.Linear(200, 300),\n",
        "            nn.ReLU(),\n",
        "            nn.Dropout(p=0.2),\n",
        "            nn.Linear(300, 400),\n",
        "            nn.ReLU(),\n",
        "            nn.Dropout(p=0.2),\n",
        "            nn.Linear(400,550),\n",
        "            nn.ReLU(),\n",
        "            nn.Dropout(p=0.2),\n",
        "            nn.Linear(550,784),\n",
        "            nn.Tanh()\n",
        "        )\n",
        "        self.optimizer = optim.Adam(self.parameters(), self.learning_rate)\n",
        "\n",
        "    def forward(self, image):\n",
        "        encoded = self.encoder(image)\n",
        "        decoded = self.decoder(encoded)\n",
        "        return encoded, decoded\n",
        "\n",
        "    def psnr(self, img1, img2):  #  Peak signal-to-noise ratio (PSNR)\n",
        "        mse_criterio = nn.MSELoss()\n",
        "        mse = mse_criterio(img1, img2)\n",
        "        max_pixel = 1.0\n",
        "        psnr = 20 * torch.log10(max_pixel / torch.sqrt(mse))\n",
        "        return psnr\n",
        "\n",
        "    def do_training(self, epochs, train_data, valid_data):\n",
        "        self.train()\n",
        "\n",
        "\n",
        "\n",
        "\n",
        "        wandb.init(  # Esto es para que se guarde en la plataforma de wandb y nos evitamos tener que hacerlo manualmente\n",
        "            # Set the project where this run will be logged\n",
        "            project=self.project,\n",
        "            # We pass a run name (otherwise it’ll be randomly assigned, like sunshine-lollypop-10)\n",
        "            name=self.name_train,\n",
        "            # Track hyperparameters and run metadata\n",
        "            config={\n",
        "                \"learning_rate\": self.learning_rate,\n",
        "                \"architecture\": self.architecture,\n",
        "                \"dataset\": self.dataset,\n",
        "                \"epochs\": epochs,\n",
        "            },\n",
        "        )\n",
        "\n",
        "        # Aqui es donde empieza realmente el entrenamiento\n",
        "        for epoch in range(epochs):\n",
        "            running_loss = 0.\n",
        "            for img, _ in train_data:\n",
        "                self.optimizer.zero_grad()\n",
        "                img = img.reshape(-1, self.input_image_size)\n",
        "                enco,reconstructed = self.forward(img)\n",
        "                l1_reg = torch.abs(enco).sum()\n",
        "                loss_train = self.criterion(reconstructed, img) + self.lambd*l1_reg\n",
        "\n",
        "                running_loss += loss_train.item()\n",
        "                loss_train.backward()\n",
        "                self.optimizer.step()\n",
        "\n",
        "            self.loss_during_training.append(running_loss/len(train_data))\n",
        "\n",
        "            with torch.no_grad():\n",
        "\n",
        "                # set model to evaluation mode\n",
        "                self.eval()\n",
        "\n",
        "                running_loss = 0.\n",
        "\n",
        "                for images,_ in valid_data:\n",
        "\n",
        "                    images = images.reshape(-1, self.input_image_size)\n",
        "\n",
        "                    enco,out = self.forward(images)\n",
        "                    l1_reg = torch.abs(enco).sum()\n",
        "                    loss_valid = self.criterion(out,images) + self.lambd*l1_reg\n",
        "\n",
        "                    running_loss += loss_valid.item()\n",
        "                self.valid_loss_during_training.append(running_loss/len(valid_data))\n",
        "\n",
        "            # set model back to train mode\n",
        "            self.train()\n",
        "\n",
        "            print(\"Epoch: \", epoch + 1, \"Loss train: \", self.loss_during_training[-1], \", Loss valid: \", self.valid_loss_during_training[-1])\n",
        "            wandb.log({\"projected dimension\": self.projected_dimension, \"Loss train\": self.loss_during_training[-1], \"Loss valid\": self.valid_loss_during_training[-1]})\n",
        "            self.outputs.append((self.projected_dimension, epoch, img, reconstructed))\n",
        "\n",
        "        wandb.finish()\n",
        "\n",
        "    def eval_performance(self,data_test):\n",
        "\n",
        "      performance = 0\n",
        "\n",
        "      # Turn off gradients for validation, saves memory and computations\n",
        "      with torch.no_grad():\n",
        "\n",
        "          # set model to evaluation mode\n",
        "          self.eval()\n",
        "\n",
        "          for images,_ in data_test:\n",
        "\n",
        "              img = images.view(-1, self.input_image_size)\n",
        "              _, reconstructed = self.forward(img)\n",
        "              performance = self.psnr(reconstructed, img)\n",
        "\n",
        "\n",
        "          return performance\n"
      ]
    },
    {
      "cell_type": "code",
      "execution_count": null,
      "metadata": {},
      "outputs": [],
      "source": [
        "epochs = 15\n",
        "models_autoencoder5_regularized = train_models(projected_dimensions, autoencoder5_regularized, epochs, train_set, valid_set, INDEX)"
      ]
    },
    {
      "cell_type": "markdown",
      "metadata": {
        "id": "Wxwz10gFzwvA"
      },
      "source": [
        "Save the models"
      ]
    },
    {
      "cell_type": "code",
      "execution_count": null,
      "metadata": {},
      "outputs": [],
      "source": [
        "save_models(projected_dimensions, models_autoencoder3_regularized, models_autoencoder5_regularized, INDEX)"
      ]
    },
    {
      "cell_type": "markdown",
      "metadata": {
        "id": "aadkv49k0H6O"
      },
      "source": [
        "Load the models"
      ]
    },
    {
      "cell_type": "code",
      "execution_count": null,
      "metadata": {},
      "outputs": [],
      "source": [
        "models_autoencoder3_regularized = []\n",
        "models_autoencoder5_regularized = []\n",
        "load_models(projected_dimensions, autoencoder3_regularized, autoencoder5_regularized, \n",
        "            models_autoencoder3_regularized, models_autoencoder5_regularized, INDEX)"
      ]
    },
    {
      "cell_type": "markdown",
      "metadata": {
        "id": "7GMLjJKDqY42"
      },
      "source": [
        "Evaluation of performance after regularization"
      ]
    },
    {
      "cell_type": "code",
      "execution_count": null,
      "metadata": {
        "colab": {
          "base_uri": "https://localhost:8080/",
          "height": 304
        },
        "id": "wiOaSiRGqof5",
        "outputId": "276324a3-8785-4958-bb15-f413e1a9c10b"
      },
      "outputs": [],
      "source": [
        "models_regularized = [models_autoencoder3_regularized, models_autoencoder5_regularized]\n",
        "evaluate_models(models_regularized, train_MNIST, valid_MNIST, test_MNIST)"
      ]
    },
    {
      "cell_type": "markdown",
      "metadata": {
        "id": "IhHjdaH4q_mK"
      },
      "source": [
        "After looking at the performance we have chosen the model with 3 layers and 50 dimensions"
      ]
    },
    {
      "cell_type": "markdown",
      "metadata": {
        "id": "CS44CBOprJKG"
      },
      "source": [
        "# Denoising autoencoder\n",
        "\n",
        "Now for the best model we have found we will train a new one with noisy images and compare the output with the original ones. We will tune the variance of the noise we are introducing"
      ]
    },
    {
      "cell_type": "code",
      "execution_count": null,
      "metadata": {
        "id": "uK7OOl33rFNN"
      },
      "outputs": [],
      "source": [
        "\n",
        "class denoising_autoencoder3(nn.Module):\n",
        "    def __init__(self, projected_dimension , variance):\n",
        "        super().__init__()\n",
        "        self.projected_dimension = projected_dimension\n",
        "        self.criterion = nn.MSELoss()\n",
        "        self.learning_rate = 0.001\n",
        "        self.lambd = 1e-5\n",
        "        self.variance = variance\n",
        "\n",
        "        if INDEX == 0:  # MNIST\n",
        "            self.name_train = f\"def_denoising_train_MNIST_{variance}\"\n",
        "            self.dataset = \"MNIST\"\n",
        "\n",
        "        elif INDEX == 1:  # FMNIST\n",
        "            self.name_train = f\"def_denoising_train_FMNIST_{variance}\"\n",
        "\n",
        "            self.dataset = \"FMNIST\"\n",
        "\n",
        "        else:\n",
        "            raise ValueError(\"Inside autoencoder3, INDEX should be either 0 or 1.\")\n",
        "\n",
        "        self.project = \"project_1\"\n",
        "        self.architecture = \"denoising_autoencoder\"\n",
        "        self.input_image_size = 784\n",
        "        self.outputs = []\n",
        "        self.loss_during_training = []\n",
        "\n",
        "        # Building an linear encoder with Linear\n",
        "        # layer followed by Relu activation function\n",
        "        # 784 -> projected dimension\n",
        "        self.encoder = nn.Sequential(\n",
        "            nn.Linear(self.input_image_size, 300),\n",
        "            nn.ReLU(),\n",
        "            nn.Dropout(p=0.2), # Dropout with a probability of 0.2\n",
        "\n",
        "            nn.Linear(300, 150),\n",
        "            nn.ReLU(),\n",
        "            nn.Dropout(p=0.2),\n",
        "\n",
        "            nn.Linear(150, self.projected_dimension),\n",
        "            nn.ReLU()\n",
        "        )\n",
        "\n",
        "        # Building an linear decoder with Linear\n",
        "        # layer followed by Relu activation function\n",
        "        # The Sigmoid activation function\n",
        "        # outputs the value between 0 and 1\n",
        "        # projected dimension -> 784\n",
        "        self.decoder = nn.Sequential(\n",
        "            nn.Linear(self.projected_dimension, 150),\n",
        "            nn.ReLU(),\n",
        "            nn.Dropout(p=0.2),\n",
        "\n",
        "            nn.Linear(150, 300),\n",
        "            nn.ReLU(),\n",
        "            nn.Dropout(p=0.2),\n",
        "\n",
        "            nn.Linear(300, self.input_image_size),\n",
        "            nn.Tanh()\n",
        "        )\n",
        "        self.optimizer = optim.Adam(self.parameters(), self.learning_rate)\n",
        "\n",
        "    def forward(self, image):\n",
        "        encoded = self.encoder(image)\n",
        "        decoded = self.decoder(encoded)\n",
        "        return encoded, decoded\n",
        "\n",
        "    def psnr(self, img1, img2):  #  Peak signal-to-noise ratio (PSNR)\n",
        "        mse_criterio = nn.MSELoss()\n",
        "        mse = mse_criterio(img1, img2)\n",
        "        max_pixel = 1.0\n",
        "        psnr = 20 * torch.log10(max_pixel / torch.sqrt(mse))\n",
        "        return psnr\n",
        "\n",
        "    def do_training(self, epochs, train_data, valid_data,data_test):\n",
        "        self.train()\n",
        "        wandb.init(  # Esto es para que se guarde en la plataforma de wandb y nos evitamos tener que hacerlo manualmente\n",
        "            # Set the project where this run will be logged\n",
        "            project=self.project,\n",
        "            # We pass a run name (otherwise it’ll be randomly assigned, like sunshine-lollypop-10)\n",
        "            name=self.name_train,\n",
        "            # Track hyperparameters and run metadata\n",
        "            config={\n",
        "                \"learning_rate\": self.learning_rate,\n",
        "                \"architecture\": self.architecture,\n",
        "                \"dataset\": self.dataset,\n",
        "                \"epochs\": epochs,\n",
        "            },\n",
        "        )\n",
        "\n",
        "        # Aqui es donde empieza realmente el entrenamiento\n",
        "        for epoch in range(epochs):\n",
        "            running_loss = 0.\n",
        "            for img, _ in train_data:\n",
        "                self.optimizer.zero_grad()\n",
        "                img_noised = add_noise(img,self.variance)\n",
        "                img_noised = torch.clamp(img_noised,-1,1)\n",
        "                img = img.reshape(-1,self.input_image_size)\n",
        "                img_noised = img_noised.reshape(-1,self.input_image_size)\n",
        "                enco,reconstructed = self.forward(img_noised)\n",
        "                l1_reg = torch.tensor(0., requires_grad=True)\n",
        "                for param in self.encoder.parameters():\n",
        "                    l1_reg = l1_reg + torch.norm(param, 1)\n",
        "\n",
        "                loss_train = self.criterion(reconstructed, img) + self.lambd * l1_reg\n",
        "\n",
        "                running_loss += loss_train.item()\n",
        "                loss_train.backward()\n",
        "                self.optimizer.step()\n",
        "\n",
        "            self.loss_during_training.append(running_loss/len(train_data))\n",
        "            psnr_score = self.eval_performance(data_test)\n",
        "            self.train()\n",
        "            print(\"Epoch: \", epoch + 1, \"Loss train: \", self.loss_during_training[-1])\n",
        "            wandb.log({\"variance\": variances[run], \"Loss train\": self.loss_during_training[-1],\"PSNR\":psnr_score})\n",
        "            self.outputs.append((epoch, img, reconstructed))\n",
        "\n",
        "        wandb.finish()\n",
        "\n",
        "\n",
        "    def eval_performance(self,data_test):\n",
        "\n",
        "      performance = 0\n",
        "\n",
        "      # Turn off gradients for validation, saves memory and computations\n",
        "      with torch.no_grad():\n",
        "\n",
        "          # set model to evaluation mode\n",
        "          self.eval()\n",
        "\n",
        "          for images,_ in data_test:\n",
        "\n",
        "              img = images.view(-1, self.input_image_size)\n",
        "              _,reconstructed = self.forward(img)\n",
        "\n",
        "              performance = self.psnr(reconstructed, img)\n",
        "\n",
        "\n",
        "          return performance"
      ]
    },
    {
      "cell_type": "code",
      "execution_count": null,
      "metadata": {},
      "outputs": [],
      "source": [
        "best_dimension = 50\n",
        "epochs = 15\n",
        "denoising_autoencoders3_MNIST = []\n",
        "variances = [1,4,10,50,100]\n",
        "INDEX = 0\n",
        "for run in range(len(variances)):\n",
        "    model = denoising_autoencoder3(best_dimension,variances[run])  # To initialize the model with the projected dimension\n",
        "    model.do_training(epochs,train_MNIST,valid_MNIST,test_MNIST)\n",
        "    denoising_autoencoders3_MNIST.append(model)"
      ]
    },
    {
      "cell_type": "code",
      "execution_count": null,
      "metadata": {},
      "outputs": [],
      "source": [
        "best_dimension = 50\n",
        "epochs = 15\n",
        "denoising_autoencoders3_FMNIST = []\n",
        "variances = [1,4,10,50,100]\n",
        "INDEX=1\n",
        "for run in range(len(variances)):\n",
        "    model = denoising_autoencoder3(best_dimension,variances[run])  # To initialize the model with the projected dimension\n",
        "    model.do_training(epochs,train_FMNIST,valid_FMNIST,test_FMNIST)\n",
        "    denoising_autoencoders3_FMNIST.append(model)"
      ]
    },
    {
      "cell_type": "markdown",
      "metadata": {
        "id": "_XEyC3iNrmS_"
      },
      "source": [
        "Visualization of the denoising autoencoder"
      ]
    },
    {
      "cell_type": "code",
      "execution_count": null,
      "metadata": {
        "id": "mpRxwVEdrqkR"
      },
      "outputs": [],
      "source": [
        "import matplotlib.pyplot as plt\n",
        "\n",
        "num_samples = 4\n",
        "num_columns = 9\n",
        "\n",
        "for i in range(num_samples):\n",
        "    img = test_FMNIST.dataset.data[i,:,:]\n",
        "    noised_img = add_noise(img, 1)\n",
        "\n",
        "    fig, axes = plt.subplots(1, num_columns, figsize=(18, 2))\n",
        "\n",
        "    for ax, image, title in zip(axes[:3], [img, noised_img, reconstructed], ['Original', 'Distorted', 'Reconstructed']):\n",
        "        ax.imshow(image.detach().numpy().reshape([28, 28]), cmap='Greys_r', aspect='auto')\n",
        "        ax.set_title(title)\n",
        "        ax.axis('off')\n",
        "\n",
        "    noised_img = noised_img.reshape(-1, 784)\n",
        "    _, reconstructed = denoising_autoencoders3_FMNIST[0].forward(noised_img.float())\n",
        "\n",
        "    for ax, image, title in zip(axes[3:], [img, noised_img, reconstructed], ['Original', 'Distorted', 'Reconstructed']):\n",
        "        ax.imshow(image.detach().numpy().reshape([28, 28]), cmap='Greys_r', aspect='auto')\n",
        "        ax.set_title(title)\n",
        "        ax.axis('off')\n",
        "\n",
        "    plt.show()\n"
      ]
    }
  ],
  "metadata": {
    "colab": {
      "provenance": []
    },
    "kernelspec": {
      "display_name": "Python 3",
      "name": "python3"
    },
    "language_info": {
      "codemirror_mode": {
        "name": "ipython",
        "version": 3
      },
      "file_extension": ".py",
      "mimetype": "text/x-python",
      "name": "python",
      "nbconvert_exporter": "python",
      "pygments_lexer": "ipython3",
      "version": "3.11.5"
    },
    "widgets": {
      "application/vnd.jupyter.widget-state+json": {
        "0278f66cabcd4772a1f1c6e1d56d420b": {
          "model_module": "@jupyter-widgets/controls",
          "model_module_version": "1.5.0",
          "model_name": "VBoxModel",
          "state": {
            "_dom_classes": [],
            "_model_module": "@jupyter-widgets/controls",
            "_model_module_version": "1.5.0",
            "_model_name": "VBoxModel",
            "_view_count": null,
            "_view_module": "@jupyter-widgets/controls",
            "_view_module_version": "1.5.0",
            "_view_name": "VBoxView",
            "box_style": "",
            "children": [
              "IPY_MODEL_b501a54758294422854ff7b9df4c859f",
              "IPY_MODEL_a757677bb5434dcaba97bace109aca42"
            ],
            "layout": "IPY_MODEL_5ac34b297b484a72a43e5d6251d71cdc"
          }
        },
        "03110499a1fd4eee84f0c2f88cc7a44e": {
          "model_module": "@jupyter-widgets/controls",
          "model_module_version": "1.5.0",
          "model_name": "LabelModel",
          "state": {
            "_dom_classes": [],
            "_model_module": "@jupyter-widgets/controls",
            "_model_module_version": "1.5.0",
            "_model_name": "LabelModel",
            "_view_count": null,
            "_view_module": "@jupyter-widgets/controls",
            "_view_module_version": "1.5.0",
            "_view_name": "LabelView",
            "description": "",
            "description_tooltip": null,
            "layout": "IPY_MODEL_7843f09f409f4e8fbee343e2c80bb247",
            "placeholder": "​",
            "style": "IPY_MODEL_2d8cc64089ba472ebd78bdfdc0d84f0e",
            "value": "0.013 MB of 0.013 MB uploaded\r"
          }
        },
        "0368c69f7a194ea09261f10536d32c5e": {
          "model_module": "@jupyter-widgets/controls",
          "model_module_version": "1.5.0",
          "model_name": "LabelModel",
          "state": {
            "_dom_classes": [],
            "_model_module": "@jupyter-widgets/controls",
            "_model_module_version": "1.5.0",
            "_model_name": "LabelModel",
            "_view_count": null,
            "_view_module": "@jupyter-widgets/controls",
            "_view_module_version": "1.5.0",
            "_view_name": "LabelView",
            "description": "",
            "description_tooltip": null,
            "layout": "IPY_MODEL_c67ac6d5b7b749b68aa8ce8d64f5fe58",
            "placeholder": "​",
            "style": "IPY_MODEL_91a558b6efe2477798daee05c0729e74",
            "value": "0.011 MB of 0.011 MB uploaded\r"
          }
        },
        "04ca5ef8fc4f41d196199eef87eed60c": {
          "model_module": "@jupyter-widgets/controls",
          "model_module_version": "1.5.0",
          "model_name": "DescriptionStyleModel",
          "state": {
            "_model_module": "@jupyter-widgets/controls",
            "_model_module_version": "1.5.0",
            "_model_name": "DescriptionStyleModel",
            "_view_count": null,
            "_view_module": "@jupyter-widgets/base",
            "_view_module_version": "1.2.0",
            "_view_name": "StyleView",
            "description_width": ""
          }
        },
        "05f6b3511dfa45098cc9cfc11a92471f": {
          "model_module": "@jupyter-widgets/base",
          "model_module_version": "1.2.0",
          "model_name": "LayoutModel",
          "state": {
            "_model_module": "@jupyter-widgets/base",
            "_model_module_version": "1.2.0",
            "_model_name": "LayoutModel",
            "_view_count": null,
            "_view_module": "@jupyter-widgets/base",
            "_view_module_version": "1.2.0",
            "_view_name": "LayoutView",
            "align_content": null,
            "align_items": null,
            "align_self": null,
            "border": null,
            "bottom": null,
            "display": null,
            "flex": null,
            "flex_flow": null,
            "grid_area": null,
            "grid_auto_columns": null,
            "grid_auto_flow": null,
            "grid_auto_rows": null,
            "grid_column": null,
            "grid_gap": null,
            "grid_row": null,
            "grid_template_areas": null,
            "grid_template_columns": null,
            "grid_template_rows": null,
            "height": null,
            "justify_content": null,
            "justify_items": null,
            "left": null,
            "margin": null,
            "max_height": null,
            "max_width": null,
            "min_height": null,
            "min_width": null,
            "object_fit": null,
            "object_position": null,
            "order": null,
            "overflow": null,
            "overflow_x": null,
            "overflow_y": null,
            "padding": null,
            "right": null,
            "top": null,
            "visibility": null,
            "width": null
          }
        },
        "0658fb5dbf2944558c1ded46b9bb6be4": {
          "model_module": "@jupyter-widgets/controls",
          "model_module_version": "1.5.0",
          "model_name": "FloatProgressModel",
          "state": {
            "_dom_classes": [],
            "_model_module": "@jupyter-widgets/controls",
            "_model_module_version": "1.5.0",
            "_model_name": "FloatProgressModel",
            "_view_count": null,
            "_view_module": "@jupyter-widgets/controls",
            "_view_module_version": "1.5.0",
            "_view_name": "ProgressView",
            "bar_style": "",
            "description": "",
            "description_tooltip": null,
            "layout": "IPY_MODEL_39f9dc0b2a3a4f06acf7ff47fb33febc",
            "max": 1,
            "min": 0,
            "orientation": "horizontal",
            "style": "IPY_MODEL_c96fa79ca48240839ab753a9f8878bbc",
            "value": 1
          }
        },
        "0867f6034298400fa3cda277701fa8db": {
          "model_module": "@jupyter-widgets/base",
          "model_module_version": "1.2.0",
          "model_name": "LayoutModel",
          "state": {
            "_model_module": "@jupyter-widgets/base",
            "_model_module_version": "1.2.0",
            "_model_name": "LayoutModel",
            "_view_count": null,
            "_view_module": "@jupyter-widgets/base",
            "_view_module_version": "1.2.0",
            "_view_name": "LayoutView",
            "align_content": null,
            "align_items": null,
            "align_self": null,
            "border": null,
            "bottom": null,
            "display": null,
            "flex": null,
            "flex_flow": null,
            "grid_area": null,
            "grid_auto_columns": null,
            "grid_auto_flow": null,
            "grid_auto_rows": null,
            "grid_column": null,
            "grid_gap": null,
            "grid_row": null,
            "grid_template_areas": null,
            "grid_template_columns": null,
            "grid_template_rows": null,
            "height": null,
            "justify_content": null,
            "justify_items": null,
            "left": null,
            "margin": null,
            "max_height": null,
            "max_width": null,
            "min_height": null,
            "min_width": null,
            "object_fit": null,
            "object_position": null,
            "order": null,
            "overflow": null,
            "overflow_x": null,
            "overflow_y": null,
            "padding": null,
            "right": null,
            "top": null,
            "visibility": null,
            "width": null
          }
        },
        "08c2b1ae4f9a431b850ab8b7432500f2": {
          "model_module": "@jupyter-widgets/controls",
          "model_module_version": "1.5.0",
          "model_name": "VBoxModel",
          "state": {
            "_dom_classes": [],
            "_model_module": "@jupyter-widgets/controls",
            "_model_module_version": "1.5.0",
            "_model_name": "VBoxModel",
            "_view_count": null,
            "_view_module": "@jupyter-widgets/controls",
            "_view_module_version": "1.5.0",
            "_view_name": "VBoxView",
            "box_style": "",
            "children": [
              "IPY_MODEL_7717f2ead0854516bfb58f1c76b09880",
              "IPY_MODEL_f56211e5c5eb45ab906b0b21c769c20b"
            ],
            "layout": "IPY_MODEL_12be198da58e4fc0a0fa61970622c663"
          }
        },
        "0f8b64e06286495ab279ae7adcb1a260": {
          "model_module": "@jupyter-widgets/base",
          "model_module_version": "1.2.0",
          "model_name": "LayoutModel",
          "state": {
            "_model_module": "@jupyter-widgets/base",
            "_model_module_version": "1.2.0",
            "_model_name": "LayoutModel",
            "_view_count": null,
            "_view_module": "@jupyter-widgets/base",
            "_view_module_version": "1.2.0",
            "_view_name": "LayoutView",
            "align_content": null,
            "align_items": null,
            "align_self": null,
            "border": null,
            "bottom": null,
            "display": null,
            "flex": null,
            "flex_flow": null,
            "grid_area": null,
            "grid_auto_columns": null,
            "grid_auto_flow": null,
            "grid_auto_rows": null,
            "grid_column": null,
            "grid_gap": null,
            "grid_row": null,
            "grid_template_areas": null,
            "grid_template_columns": null,
            "grid_template_rows": null,
            "height": null,
            "justify_content": null,
            "justify_items": null,
            "left": null,
            "margin": null,
            "max_height": null,
            "max_width": null,
            "min_height": null,
            "min_width": null,
            "object_fit": null,
            "object_position": null,
            "order": null,
            "overflow": null,
            "overflow_x": null,
            "overflow_y": null,
            "padding": null,
            "right": null,
            "top": null,
            "visibility": null,
            "width": null
          }
        },
        "10e92d6043be4ca4b173a469e7d533fa": {
          "model_module": "@jupyter-widgets/base",
          "model_module_version": "1.2.0",
          "model_name": "LayoutModel",
          "state": {
            "_model_module": "@jupyter-widgets/base",
            "_model_module_version": "1.2.0",
            "_model_name": "LayoutModel",
            "_view_count": null,
            "_view_module": "@jupyter-widgets/base",
            "_view_module_version": "1.2.0",
            "_view_name": "LayoutView",
            "align_content": null,
            "align_items": null,
            "align_self": null,
            "border": null,
            "bottom": null,
            "display": null,
            "flex": null,
            "flex_flow": null,
            "grid_area": null,
            "grid_auto_columns": null,
            "grid_auto_flow": null,
            "grid_auto_rows": null,
            "grid_column": null,
            "grid_gap": null,
            "grid_row": null,
            "grid_template_areas": null,
            "grid_template_columns": null,
            "grid_template_rows": null,
            "height": null,
            "justify_content": null,
            "justify_items": null,
            "left": null,
            "margin": null,
            "max_height": null,
            "max_width": null,
            "min_height": null,
            "min_width": null,
            "object_fit": null,
            "object_position": null,
            "order": null,
            "overflow": null,
            "overflow_x": null,
            "overflow_y": null,
            "padding": null,
            "right": null,
            "top": null,
            "visibility": null,
            "width": null
          }
        },
        "126eb6f6f7114fca96311f3579964b41": {
          "model_module": "@jupyter-widgets/controls",
          "model_module_version": "1.5.0",
          "model_name": "VBoxModel",
          "state": {
            "_dom_classes": [],
            "_model_module": "@jupyter-widgets/controls",
            "_model_module_version": "1.5.0",
            "_model_name": "VBoxModel",
            "_view_count": null,
            "_view_module": "@jupyter-widgets/controls",
            "_view_module_version": "1.5.0",
            "_view_name": "VBoxView",
            "box_style": "",
            "children": [
              "IPY_MODEL_32fb91a0d72b4de693f29b6c73ed7044",
              "IPY_MODEL_7d0c22602c484eeeab68aaeba145b2a4"
            ],
            "layout": "IPY_MODEL_15e73daa634e47828a503d001a28eeaa"
          }
        },
        "12be198da58e4fc0a0fa61970622c663": {
          "model_module": "@jupyter-widgets/base",
          "model_module_version": "1.2.0",
          "model_name": "LayoutModel",
          "state": {
            "_model_module": "@jupyter-widgets/base",
            "_model_module_version": "1.2.0",
            "_model_name": "LayoutModel",
            "_view_count": null,
            "_view_module": "@jupyter-widgets/base",
            "_view_module_version": "1.2.0",
            "_view_name": "LayoutView",
            "align_content": null,
            "align_items": null,
            "align_self": null,
            "border": null,
            "bottom": null,
            "display": null,
            "flex": null,
            "flex_flow": null,
            "grid_area": null,
            "grid_auto_columns": null,
            "grid_auto_flow": null,
            "grid_auto_rows": null,
            "grid_column": null,
            "grid_gap": null,
            "grid_row": null,
            "grid_template_areas": null,
            "grid_template_columns": null,
            "grid_template_rows": null,
            "height": null,
            "justify_content": null,
            "justify_items": null,
            "left": null,
            "margin": null,
            "max_height": null,
            "max_width": null,
            "min_height": null,
            "min_width": null,
            "object_fit": null,
            "object_position": null,
            "order": null,
            "overflow": null,
            "overflow_x": null,
            "overflow_y": null,
            "padding": null,
            "right": null,
            "top": null,
            "visibility": null,
            "width": null
          }
        },
        "15e73daa634e47828a503d001a28eeaa": {
          "model_module": "@jupyter-widgets/base",
          "model_module_version": "1.2.0",
          "model_name": "LayoutModel",
          "state": {
            "_model_module": "@jupyter-widgets/base",
            "_model_module_version": "1.2.0",
            "_model_name": "LayoutModel",
            "_view_count": null,
            "_view_module": "@jupyter-widgets/base",
            "_view_module_version": "1.2.0",
            "_view_name": "LayoutView",
            "align_content": null,
            "align_items": null,
            "align_self": null,
            "border": null,
            "bottom": null,
            "display": null,
            "flex": null,
            "flex_flow": null,
            "grid_area": null,
            "grid_auto_columns": null,
            "grid_auto_flow": null,
            "grid_auto_rows": null,
            "grid_column": null,
            "grid_gap": null,
            "grid_row": null,
            "grid_template_areas": null,
            "grid_template_columns": null,
            "grid_template_rows": null,
            "height": null,
            "justify_content": null,
            "justify_items": null,
            "left": null,
            "margin": null,
            "max_height": null,
            "max_width": null,
            "min_height": null,
            "min_width": null,
            "object_fit": null,
            "object_position": null,
            "order": null,
            "overflow": null,
            "overflow_x": null,
            "overflow_y": null,
            "padding": null,
            "right": null,
            "top": null,
            "visibility": null,
            "width": null
          }
        },
        "1b45e87f7343445298d060c7a44bf9c0": {
          "model_module": "@jupyter-widgets/base",
          "model_module_version": "1.2.0",
          "model_name": "LayoutModel",
          "state": {
            "_model_module": "@jupyter-widgets/base",
            "_model_module_version": "1.2.0",
            "_model_name": "LayoutModel",
            "_view_count": null,
            "_view_module": "@jupyter-widgets/base",
            "_view_module_version": "1.2.0",
            "_view_name": "LayoutView",
            "align_content": null,
            "align_items": null,
            "align_self": null,
            "border": null,
            "bottom": null,
            "display": null,
            "flex": null,
            "flex_flow": null,
            "grid_area": null,
            "grid_auto_columns": null,
            "grid_auto_flow": null,
            "grid_auto_rows": null,
            "grid_column": null,
            "grid_gap": null,
            "grid_row": null,
            "grid_template_areas": null,
            "grid_template_columns": null,
            "grid_template_rows": null,
            "height": null,
            "justify_content": null,
            "justify_items": null,
            "left": null,
            "margin": null,
            "max_height": null,
            "max_width": null,
            "min_height": null,
            "min_width": null,
            "object_fit": null,
            "object_position": null,
            "order": null,
            "overflow": null,
            "overflow_x": null,
            "overflow_y": null,
            "padding": null,
            "right": null,
            "top": null,
            "visibility": null,
            "width": null
          }
        },
        "1d96b9294ac7463b812e77f635ac9c6e": {
          "model_module": "@jupyter-widgets/controls",
          "model_module_version": "1.5.0",
          "model_name": "LabelModel",
          "state": {
            "_dom_classes": [],
            "_model_module": "@jupyter-widgets/controls",
            "_model_module_version": "1.5.0",
            "_model_name": "LabelModel",
            "_view_count": null,
            "_view_module": "@jupyter-widgets/controls",
            "_view_module_version": "1.5.0",
            "_view_name": "LabelView",
            "description": "",
            "description_tooltip": null,
            "layout": "IPY_MODEL_522d840572e54f24a8ff481aba22a00f",
            "placeholder": "​",
            "style": "IPY_MODEL_4cc0997cc5cc43d0aab13c5c1a7d8b09",
            "value": "0.012 MB of 0.012 MB uploaded\r"
          }
        },
        "1e175ebb097845c1b12f70aca2cd1ba1": {
          "model_module": "@jupyter-widgets/base",
          "model_module_version": "1.2.0",
          "model_name": "LayoutModel",
          "state": {
            "_model_module": "@jupyter-widgets/base",
            "_model_module_version": "1.2.0",
            "_model_name": "LayoutModel",
            "_view_count": null,
            "_view_module": "@jupyter-widgets/base",
            "_view_module_version": "1.2.0",
            "_view_name": "LayoutView",
            "align_content": null,
            "align_items": null,
            "align_self": null,
            "border": null,
            "bottom": null,
            "display": null,
            "flex": null,
            "flex_flow": null,
            "grid_area": null,
            "grid_auto_columns": null,
            "grid_auto_flow": null,
            "grid_auto_rows": null,
            "grid_column": null,
            "grid_gap": null,
            "grid_row": null,
            "grid_template_areas": null,
            "grid_template_columns": null,
            "grid_template_rows": null,
            "height": null,
            "justify_content": null,
            "justify_items": null,
            "left": null,
            "margin": null,
            "max_height": null,
            "max_width": null,
            "min_height": null,
            "min_width": null,
            "object_fit": null,
            "object_position": null,
            "order": null,
            "overflow": null,
            "overflow_x": null,
            "overflow_y": null,
            "padding": null,
            "right": null,
            "top": null,
            "visibility": null,
            "width": null
          }
        },
        "1e1bcb8660bc40feb0f732cf702aa1c3": {
          "model_module": "@jupyter-widgets/base",
          "model_module_version": "1.2.0",
          "model_name": "LayoutModel",
          "state": {
            "_model_module": "@jupyter-widgets/base",
            "_model_module_version": "1.2.0",
            "_model_name": "LayoutModel",
            "_view_count": null,
            "_view_module": "@jupyter-widgets/base",
            "_view_module_version": "1.2.0",
            "_view_name": "LayoutView",
            "align_content": null,
            "align_items": null,
            "align_self": null,
            "border": null,
            "bottom": null,
            "display": null,
            "flex": null,
            "flex_flow": null,
            "grid_area": null,
            "grid_auto_columns": null,
            "grid_auto_flow": null,
            "grid_auto_rows": null,
            "grid_column": null,
            "grid_gap": null,
            "grid_row": null,
            "grid_template_areas": null,
            "grid_template_columns": null,
            "grid_template_rows": null,
            "height": null,
            "justify_content": null,
            "justify_items": null,
            "left": null,
            "margin": null,
            "max_height": null,
            "max_width": null,
            "min_height": null,
            "min_width": null,
            "object_fit": null,
            "object_position": null,
            "order": null,
            "overflow": null,
            "overflow_x": null,
            "overflow_y": null,
            "padding": null,
            "right": null,
            "top": null,
            "visibility": null,
            "width": null
          }
        },
        "1ea31b7d429d4d8d99efbfc8f303fa40": {
          "model_module": "@jupyter-widgets/controls",
          "model_module_version": "1.5.0",
          "model_name": "FloatProgressModel",
          "state": {
            "_dom_classes": [],
            "_model_module": "@jupyter-widgets/controls",
            "_model_module_version": "1.5.0",
            "_model_name": "FloatProgressModel",
            "_view_count": null,
            "_view_module": "@jupyter-widgets/controls",
            "_view_module_version": "1.5.0",
            "_view_name": "ProgressView",
            "bar_style": "",
            "description": "",
            "description_tooltip": null,
            "layout": "IPY_MODEL_9b54ed4682fd47deb1bfde2890bc53c8",
            "max": 1,
            "min": 0,
            "orientation": "horizontal",
            "style": "IPY_MODEL_8cdd6b61ba084166adac74ac1bc6d2b0",
            "value": 1
          }
        },
        "1eb265e1c0274e87b3716c67966504b7": {
          "model_module": "@jupyter-widgets/controls",
          "model_module_version": "1.5.0",
          "model_name": "ProgressStyleModel",
          "state": {
            "_model_module": "@jupyter-widgets/controls",
            "_model_module_version": "1.5.0",
            "_model_name": "ProgressStyleModel",
            "_view_count": null,
            "_view_module": "@jupyter-widgets/base",
            "_view_module_version": "1.2.0",
            "_view_name": "StyleView",
            "bar_color": null,
            "description_width": ""
          }
        },
        "1f4807038276423ca4050594ec6e9c3f": {
          "model_module": "@jupyter-widgets/controls",
          "model_module_version": "1.5.0",
          "model_name": "LabelModel",
          "state": {
            "_dom_classes": [],
            "_model_module": "@jupyter-widgets/controls",
            "_model_module_version": "1.5.0",
            "_model_name": "LabelModel",
            "_view_count": null,
            "_view_module": "@jupyter-widgets/controls",
            "_view_module_version": "1.5.0",
            "_view_name": "LabelView",
            "description": "",
            "description_tooltip": null,
            "layout": "IPY_MODEL_1b45e87f7343445298d060c7a44bf9c0",
            "placeholder": "​",
            "style": "IPY_MODEL_aaf96bfc8033421387bcbc7e1533cf77",
            "value": "0.012 MB of 0.012 MB uploaded\r"
          }
        },
        "27809b64f2d440c3836780f3ddec336d": {
          "model_module": "@jupyter-widgets/base",
          "model_module_version": "1.2.0",
          "model_name": "LayoutModel",
          "state": {
            "_model_module": "@jupyter-widgets/base",
            "_model_module_version": "1.2.0",
            "_model_name": "LayoutModel",
            "_view_count": null,
            "_view_module": "@jupyter-widgets/base",
            "_view_module_version": "1.2.0",
            "_view_name": "LayoutView",
            "align_content": null,
            "align_items": null,
            "align_self": null,
            "border": null,
            "bottom": null,
            "display": null,
            "flex": null,
            "flex_flow": null,
            "grid_area": null,
            "grid_auto_columns": null,
            "grid_auto_flow": null,
            "grid_auto_rows": null,
            "grid_column": null,
            "grid_gap": null,
            "grid_row": null,
            "grid_template_areas": null,
            "grid_template_columns": null,
            "grid_template_rows": null,
            "height": null,
            "justify_content": null,
            "justify_items": null,
            "left": null,
            "margin": null,
            "max_height": null,
            "max_width": null,
            "min_height": null,
            "min_width": null,
            "object_fit": null,
            "object_position": null,
            "order": null,
            "overflow": null,
            "overflow_x": null,
            "overflow_y": null,
            "padding": null,
            "right": null,
            "top": null,
            "visibility": null,
            "width": null
          }
        },
        "2a797e6329e44c0fad4f5489ea721b11": {
          "model_module": "@jupyter-widgets/controls",
          "model_module_version": "1.5.0",
          "model_name": "VBoxModel",
          "state": {
            "_dom_classes": [],
            "_model_module": "@jupyter-widgets/controls",
            "_model_module_version": "1.5.0",
            "_model_name": "VBoxModel",
            "_view_count": null,
            "_view_module": "@jupyter-widgets/controls",
            "_view_module_version": "1.5.0",
            "_view_name": "VBoxView",
            "box_style": "",
            "children": [
              "IPY_MODEL_f1ba801262094339859ba5035b6006f4",
              "IPY_MODEL_fddd0c50c4e84ab9bec5c6caf4a0d378"
            ],
            "layout": "IPY_MODEL_a346acddef54452a8d00a1a13ab75423"
          }
        },
        "2d10c0d110424d6aa1b95305c2354361": {
          "model_module": "@jupyter-widgets/controls",
          "model_module_version": "1.5.0",
          "model_name": "FloatProgressModel",
          "state": {
            "_dom_classes": [],
            "_model_module": "@jupyter-widgets/controls",
            "_model_module_version": "1.5.0",
            "_model_name": "FloatProgressModel",
            "_view_count": null,
            "_view_module": "@jupyter-widgets/controls",
            "_view_module_version": "1.5.0",
            "_view_name": "ProgressView",
            "bar_style": "",
            "description": "",
            "description_tooltip": null,
            "layout": "IPY_MODEL_fbd16ee0a79c4f1593922da9f16a0c5a",
            "max": 1,
            "min": 0,
            "orientation": "horizontal",
            "style": "IPY_MODEL_a59135cf69ad4fc2bcbea580b4a17e7f",
            "value": 1
          }
        },
        "2d8cc64089ba472ebd78bdfdc0d84f0e": {
          "model_module": "@jupyter-widgets/controls",
          "model_module_version": "1.5.0",
          "model_name": "DescriptionStyleModel",
          "state": {
            "_model_module": "@jupyter-widgets/controls",
            "_model_module_version": "1.5.0",
            "_model_name": "DescriptionStyleModel",
            "_view_count": null,
            "_view_module": "@jupyter-widgets/base",
            "_view_module_version": "1.2.0",
            "_view_name": "StyleView",
            "description_width": ""
          }
        },
        "2df0a499b64740308102a8ac6e3d249e": {
          "model_module": "@jupyter-widgets/base",
          "model_module_version": "1.2.0",
          "model_name": "LayoutModel",
          "state": {
            "_model_module": "@jupyter-widgets/base",
            "_model_module_version": "1.2.0",
            "_model_name": "LayoutModel",
            "_view_count": null,
            "_view_module": "@jupyter-widgets/base",
            "_view_module_version": "1.2.0",
            "_view_name": "LayoutView",
            "align_content": null,
            "align_items": null,
            "align_self": null,
            "border": null,
            "bottom": null,
            "display": null,
            "flex": null,
            "flex_flow": null,
            "grid_area": null,
            "grid_auto_columns": null,
            "grid_auto_flow": null,
            "grid_auto_rows": null,
            "grid_column": null,
            "grid_gap": null,
            "grid_row": null,
            "grid_template_areas": null,
            "grid_template_columns": null,
            "grid_template_rows": null,
            "height": null,
            "justify_content": null,
            "justify_items": null,
            "left": null,
            "margin": null,
            "max_height": null,
            "max_width": null,
            "min_height": null,
            "min_width": null,
            "object_fit": null,
            "object_position": null,
            "order": null,
            "overflow": null,
            "overflow_x": null,
            "overflow_y": null,
            "padding": null,
            "right": null,
            "top": null,
            "visibility": null,
            "width": null
          }
        },
        "3066450583824be588187a4dc10e7bc6": {
          "model_module": "@jupyter-widgets/controls",
          "model_module_version": "1.5.0",
          "model_name": "FloatProgressModel",
          "state": {
            "_dom_classes": [],
            "_model_module": "@jupyter-widgets/controls",
            "_model_module_version": "1.5.0",
            "_model_name": "FloatProgressModel",
            "_view_count": null,
            "_view_module": "@jupyter-widgets/controls",
            "_view_module_version": "1.5.0",
            "_view_name": "ProgressView",
            "bar_style": "",
            "description": "",
            "description_tooltip": null,
            "layout": "IPY_MODEL_1e175ebb097845c1b12f70aca2cd1ba1",
            "max": 1,
            "min": 0,
            "orientation": "horizontal",
            "style": "IPY_MODEL_5c7cddffd45244d58e3ceb9a201c2ebf",
            "value": 1
          }
        },
        "32fb91a0d72b4de693f29b6c73ed7044": {
          "model_module": "@jupyter-widgets/controls",
          "model_module_version": "1.5.0",
          "model_name": "LabelModel",
          "state": {
            "_dom_classes": [],
            "_model_module": "@jupyter-widgets/controls",
            "_model_module_version": "1.5.0",
            "_model_name": "LabelModel",
            "_view_count": null,
            "_view_module": "@jupyter-widgets/controls",
            "_view_module_version": "1.5.0",
            "_view_name": "LabelView",
            "description": "",
            "description_tooltip": null,
            "layout": "IPY_MODEL_5d79175aa5954a6c81881428810b7244",
            "placeholder": "​",
            "style": "IPY_MODEL_50f6255a0cd14ff2a0fde9f2da25a432",
            "value": "0.012 MB of 0.012 MB uploaded\r"
          }
        },
        "35a4f8a829294cb89931ce4ba226746f": {
          "model_module": "@jupyter-widgets/base",
          "model_module_version": "1.2.0",
          "model_name": "LayoutModel",
          "state": {
            "_model_module": "@jupyter-widgets/base",
            "_model_module_version": "1.2.0",
            "_model_name": "LayoutModel",
            "_view_count": null,
            "_view_module": "@jupyter-widgets/base",
            "_view_module_version": "1.2.0",
            "_view_name": "LayoutView",
            "align_content": null,
            "align_items": null,
            "align_self": null,
            "border": null,
            "bottom": null,
            "display": null,
            "flex": null,
            "flex_flow": null,
            "grid_area": null,
            "grid_auto_columns": null,
            "grid_auto_flow": null,
            "grid_auto_rows": null,
            "grid_column": null,
            "grid_gap": null,
            "grid_row": null,
            "grid_template_areas": null,
            "grid_template_columns": null,
            "grid_template_rows": null,
            "height": null,
            "justify_content": null,
            "justify_items": null,
            "left": null,
            "margin": null,
            "max_height": null,
            "max_width": null,
            "min_height": null,
            "min_width": null,
            "object_fit": null,
            "object_position": null,
            "order": null,
            "overflow": null,
            "overflow_x": null,
            "overflow_y": null,
            "padding": null,
            "right": null,
            "top": null,
            "visibility": null,
            "width": null
          }
        },
        "399155d72d8d41c4a87d31d1b6e03488": {
          "model_module": "@jupyter-widgets/controls",
          "model_module_version": "1.5.0",
          "model_name": "DescriptionStyleModel",
          "state": {
            "_model_module": "@jupyter-widgets/controls",
            "_model_module_version": "1.5.0",
            "_model_name": "DescriptionStyleModel",
            "_view_count": null,
            "_view_module": "@jupyter-widgets/base",
            "_view_module_version": "1.2.0",
            "_view_name": "StyleView",
            "description_width": ""
          }
        },
        "39f9dc0b2a3a4f06acf7ff47fb33febc": {
          "model_module": "@jupyter-widgets/base",
          "model_module_version": "1.2.0",
          "model_name": "LayoutModel",
          "state": {
            "_model_module": "@jupyter-widgets/base",
            "_model_module_version": "1.2.0",
            "_model_name": "LayoutModel",
            "_view_count": null,
            "_view_module": "@jupyter-widgets/base",
            "_view_module_version": "1.2.0",
            "_view_name": "LayoutView",
            "align_content": null,
            "align_items": null,
            "align_self": null,
            "border": null,
            "bottom": null,
            "display": null,
            "flex": null,
            "flex_flow": null,
            "grid_area": null,
            "grid_auto_columns": null,
            "grid_auto_flow": null,
            "grid_auto_rows": null,
            "grid_column": null,
            "grid_gap": null,
            "grid_row": null,
            "grid_template_areas": null,
            "grid_template_columns": null,
            "grid_template_rows": null,
            "height": null,
            "justify_content": null,
            "justify_items": null,
            "left": null,
            "margin": null,
            "max_height": null,
            "max_width": null,
            "min_height": null,
            "min_width": null,
            "object_fit": null,
            "object_position": null,
            "order": null,
            "overflow": null,
            "overflow_x": null,
            "overflow_y": null,
            "padding": null,
            "right": null,
            "top": null,
            "visibility": null,
            "width": null
          }
        },
        "3df98fb3a4aa4ea399537c8cfcd21c66": {
          "model_module": "@jupyter-widgets/controls",
          "model_module_version": "1.5.0",
          "model_name": "ProgressStyleModel",
          "state": {
            "_model_module": "@jupyter-widgets/controls",
            "_model_module_version": "1.5.0",
            "_model_name": "ProgressStyleModel",
            "_view_count": null,
            "_view_module": "@jupyter-widgets/base",
            "_view_module_version": "1.2.0",
            "_view_name": "StyleView",
            "bar_color": null,
            "description_width": ""
          }
        },
        "41d2000d9d2f44c6a031a36deab1f60c": {
          "model_module": "@jupyter-widgets/controls",
          "model_module_version": "1.5.0",
          "model_name": "VBoxModel",
          "state": {
            "_dom_classes": [],
            "_model_module": "@jupyter-widgets/controls",
            "_model_module_version": "1.5.0",
            "_model_name": "VBoxModel",
            "_view_count": null,
            "_view_module": "@jupyter-widgets/controls",
            "_view_module_version": "1.5.0",
            "_view_name": "VBoxView",
            "box_style": "",
            "children": [
              "IPY_MODEL_1d96b9294ac7463b812e77f635ac9c6e",
              "IPY_MODEL_eee95794d88545a0a65f06aa7ce22f8e"
            ],
            "layout": "IPY_MODEL_5b724fc807ed48cfa3406ee970101245"
          }
        },
        "42da99a37b1e43bead73c030fbd9e14c": {
          "model_module": "@jupyter-widgets/controls",
          "model_module_version": "1.5.0",
          "model_name": "DescriptionStyleModel",
          "state": {
            "_model_module": "@jupyter-widgets/controls",
            "_model_module_version": "1.5.0",
            "_model_name": "DescriptionStyleModel",
            "_view_count": null,
            "_view_module": "@jupyter-widgets/base",
            "_view_module_version": "1.2.0",
            "_view_name": "StyleView",
            "description_width": ""
          }
        },
        "4879c235bad748beaea7ff0c4ad61c0c": {
          "model_module": "@jupyter-widgets/controls",
          "model_module_version": "1.5.0",
          "model_name": "VBoxModel",
          "state": {
            "_dom_classes": [],
            "_model_module": "@jupyter-widgets/controls",
            "_model_module_version": "1.5.0",
            "_model_name": "VBoxModel",
            "_view_count": null,
            "_view_module": "@jupyter-widgets/controls",
            "_view_module_version": "1.5.0",
            "_view_name": "VBoxView",
            "box_style": "",
            "children": [
              "IPY_MODEL_f5f0b34829f94f6cb3b7c819757dd34a",
              "IPY_MODEL_b74581d0213f449f8aabb8f5ab0a6a82"
            ],
            "layout": "IPY_MODEL_bb661c949d234ee698e9e98a4809bc15"
          }
        },
        "4cc0997cc5cc43d0aab13c5c1a7d8b09": {
          "model_module": "@jupyter-widgets/controls",
          "model_module_version": "1.5.0",
          "model_name": "DescriptionStyleModel",
          "state": {
            "_model_module": "@jupyter-widgets/controls",
            "_model_module_version": "1.5.0",
            "_model_name": "DescriptionStyleModel",
            "_view_count": null,
            "_view_module": "@jupyter-widgets/base",
            "_view_module_version": "1.2.0",
            "_view_name": "StyleView",
            "description_width": ""
          }
        },
        "4e0c3782555843499dde238bead11e1d": {
          "model_module": "@jupyter-widgets/controls",
          "model_module_version": "1.5.0",
          "model_name": "FloatProgressModel",
          "state": {
            "_dom_classes": [],
            "_model_module": "@jupyter-widgets/controls",
            "_model_module_version": "1.5.0",
            "_model_name": "FloatProgressModel",
            "_view_count": null,
            "_view_module": "@jupyter-widgets/controls",
            "_view_module_version": "1.5.0",
            "_view_name": "ProgressView",
            "bar_style": "",
            "description": "",
            "description_tooltip": null,
            "layout": "IPY_MODEL_dc93c8da3001437986e1201c75841b21",
            "max": 1,
            "min": 0,
            "orientation": "horizontal",
            "style": "IPY_MODEL_b48b6c3b2e834f80b7afc74de5531621",
            "value": 1
          }
        },
        "4e9870bd297e484c8c2ae3b66addb795": {
          "model_module": "@jupyter-widgets/controls",
          "model_module_version": "1.5.0",
          "model_name": "DescriptionStyleModel",
          "state": {
            "_model_module": "@jupyter-widgets/controls",
            "_model_module_version": "1.5.0",
            "_model_name": "DescriptionStyleModel",
            "_view_count": null,
            "_view_module": "@jupyter-widgets/base",
            "_view_module_version": "1.2.0",
            "_view_name": "StyleView",
            "description_width": ""
          }
        },
        "4f53c24789aa484fbc218005b4ab261e": {
          "model_module": "@jupyter-widgets/controls",
          "model_module_version": "1.5.0",
          "model_name": "FloatProgressModel",
          "state": {
            "_dom_classes": [],
            "_model_module": "@jupyter-widgets/controls",
            "_model_module_version": "1.5.0",
            "_model_name": "FloatProgressModel",
            "_view_count": null,
            "_view_module": "@jupyter-widgets/controls",
            "_view_module_version": "1.5.0",
            "_view_name": "ProgressView",
            "bar_style": "",
            "description": "",
            "description_tooltip": null,
            "layout": "IPY_MODEL_b65ada38917343afbb5ba04b04c3bc87",
            "max": 1,
            "min": 0,
            "orientation": "horizontal",
            "style": "IPY_MODEL_6698c99e42be422f86a990c9796d66a2",
            "value": 1
          }
        },
        "50f6255a0cd14ff2a0fde9f2da25a432": {
          "model_module": "@jupyter-widgets/controls",
          "model_module_version": "1.5.0",
          "model_name": "DescriptionStyleModel",
          "state": {
            "_model_module": "@jupyter-widgets/controls",
            "_model_module_version": "1.5.0",
            "_model_name": "DescriptionStyleModel",
            "_view_count": null,
            "_view_module": "@jupyter-widgets/base",
            "_view_module_version": "1.2.0",
            "_view_name": "StyleView",
            "description_width": ""
          }
        },
        "522d840572e54f24a8ff481aba22a00f": {
          "model_module": "@jupyter-widgets/base",
          "model_module_version": "1.2.0",
          "model_name": "LayoutModel",
          "state": {
            "_model_module": "@jupyter-widgets/base",
            "_model_module_version": "1.2.0",
            "_model_name": "LayoutModel",
            "_view_count": null,
            "_view_module": "@jupyter-widgets/base",
            "_view_module_version": "1.2.0",
            "_view_name": "LayoutView",
            "align_content": null,
            "align_items": null,
            "align_self": null,
            "border": null,
            "bottom": null,
            "display": null,
            "flex": null,
            "flex_flow": null,
            "grid_area": null,
            "grid_auto_columns": null,
            "grid_auto_flow": null,
            "grid_auto_rows": null,
            "grid_column": null,
            "grid_gap": null,
            "grid_row": null,
            "grid_template_areas": null,
            "grid_template_columns": null,
            "grid_template_rows": null,
            "height": null,
            "justify_content": null,
            "justify_items": null,
            "left": null,
            "margin": null,
            "max_height": null,
            "max_width": null,
            "min_height": null,
            "min_width": null,
            "object_fit": null,
            "object_position": null,
            "order": null,
            "overflow": null,
            "overflow_x": null,
            "overflow_y": null,
            "padding": null,
            "right": null,
            "top": null,
            "visibility": null,
            "width": null
          }
        },
        "5ac34b297b484a72a43e5d6251d71cdc": {
          "model_module": "@jupyter-widgets/base",
          "model_module_version": "1.2.0",
          "model_name": "LayoutModel",
          "state": {
            "_model_module": "@jupyter-widgets/base",
            "_model_module_version": "1.2.0",
            "_model_name": "LayoutModel",
            "_view_count": null,
            "_view_module": "@jupyter-widgets/base",
            "_view_module_version": "1.2.0",
            "_view_name": "LayoutView",
            "align_content": null,
            "align_items": null,
            "align_self": null,
            "border": null,
            "bottom": null,
            "display": null,
            "flex": null,
            "flex_flow": null,
            "grid_area": null,
            "grid_auto_columns": null,
            "grid_auto_flow": null,
            "grid_auto_rows": null,
            "grid_column": null,
            "grid_gap": null,
            "grid_row": null,
            "grid_template_areas": null,
            "grid_template_columns": null,
            "grid_template_rows": null,
            "height": null,
            "justify_content": null,
            "justify_items": null,
            "left": null,
            "margin": null,
            "max_height": null,
            "max_width": null,
            "min_height": null,
            "min_width": null,
            "object_fit": null,
            "object_position": null,
            "order": null,
            "overflow": null,
            "overflow_x": null,
            "overflow_y": null,
            "padding": null,
            "right": null,
            "top": null,
            "visibility": null,
            "width": null
          }
        },
        "5b724fc807ed48cfa3406ee970101245": {
          "model_module": "@jupyter-widgets/base",
          "model_module_version": "1.2.0",
          "model_name": "LayoutModel",
          "state": {
            "_model_module": "@jupyter-widgets/base",
            "_model_module_version": "1.2.0",
            "_model_name": "LayoutModel",
            "_view_count": null,
            "_view_module": "@jupyter-widgets/base",
            "_view_module_version": "1.2.0",
            "_view_name": "LayoutView",
            "align_content": null,
            "align_items": null,
            "align_self": null,
            "border": null,
            "bottom": null,
            "display": null,
            "flex": null,
            "flex_flow": null,
            "grid_area": null,
            "grid_auto_columns": null,
            "grid_auto_flow": null,
            "grid_auto_rows": null,
            "grid_column": null,
            "grid_gap": null,
            "grid_row": null,
            "grid_template_areas": null,
            "grid_template_columns": null,
            "grid_template_rows": null,
            "height": null,
            "justify_content": null,
            "justify_items": null,
            "left": null,
            "margin": null,
            "max_height": null,
            "max_width": null,
            "min_height": null,
            "min_width": null,
            "object_fit": null,
            "object_position": null,
            "order": null,
            "overflow": null,
            "overflow_x": null,
            "overflow_y": null,
            "padding": null,
            "right": null,
            "top": null,
            "visibility": null,
            "width": null
          }
        },
        "5c7cddffd45244d58e3ceb9a201c2ebf": {
          "model_module": "@jupyter-widgets/controls",
          "model_module_version": "1.5.0",
          "model_name": "ProgressStyleModel",
          "state": {
            "_model_module": "@jupyter-widgets/controls",
            "_model_module_version": "1.5.0",
            "_model_name": "ProgressStyleModel",
            "_view_count": null,
            "_view_module": "@jupyter-widgets/base",
            "_view_module_version": "1.2.0",
            "_view_name": "StyleView",
            "bar_color": null,
            "description_width": ""
          }
        },
        "5d79175aa5954a6c81881428810b7244": {
          "model_module": "@jupyter-widgets/base",
          "model_module_version": "1.2.0",
          "model_name": "LayoutModel",
          "state": {
            "_model_module": "@jupyter-widgets/base",
            "_model_module_version": "1.2.0",
            "_model_name": "LayoutModel",
            "_view_count": null,
            "_view_module": "@jupyter-widgets/base",
            "_view_module_version": "1.2.0",
            "_view_name": "LayoutView",
            "align_content": null,
            "align_items": null,
            "align_self": null,
            "border": null,
            "bottom": null,
            "display": null,
            "flex": null,
            "flex_flow": null,
            "grid_area": null,
            "grid_auto_columns": null,
            "grid_auto_flow": null,
            "grid_auto_rows": null,
            "grid_column": null,
            "grid_gap": null,
            "grid_row": null,
            "grid_template_areas": null,
            "grid_template_columns": null,
            "grid_template_rows": null,
            "height": null,
            "justify_content": null,
            "justify_items": null,
            "left": null,
            "margin": null,
            "max_height": null,
            "max_width": null,
            "min_height": null,
            "min_width": null,
            "object_fit": null,
            "object_position": null,
            "order": null,
            "overflow": null,
            "overflow_x": null,
            "overflow_y": null,
            "padding": null,
            "right": null,
            "top": null,
            "visibility": null,
            "width": null
          }
        },
        "60136765daec4e97b877a8a0be640d4a": {
          "model_module": "@jupyter-widgets/base",
          "model_module_version": "1.2.0",
          "model_name": "LayoutModel",
          "state": {
            "_model_module": "@jupyter-widgets/base",
            "_model_module_version": "1.2.0",
            "_model_name": "LayoutModel",
            "_view_count": null,
            "_view_module": "@jupyter-widgets/base",
            "_view_module_version": "1.2.0",
            "_view_name": "LayoutView",
            "align_content": null,
            "align_items": null,
            "align_self": null,
            "border": null,
            "bottom": null,
            "display": null,
            "flex": null,
            "flex_flow": null,
            "grid_area": null,
            "grid_auto_columns": null,
            "grid_auto_flow": null,
            "grid_auto_rows": null,
            "grid_column": null,
            "grid_gap": null,
            "grid_row": null,
            "grid_template_areas": null,
            "grid_template_columns": null,
            "grid_template_rows": null,
            "height": null,
            "justify_content": null,
            "justify_items": null,
            "left": null,
            "margin": null,
            "max_height": null,
            "max_width": null,
            "min_height": null,
            "min_width": null,
            "object_fit": null,
            "object_position": null,
            "order": null,
            "overflow": null,
            "overflow_x": null,
            "overflow_y": null,
            "padding": null,
            "right": null,
            "top": null,
            "visibility": null,
            "width": null
          }
        },
        "6698c99e42be422f86a990c9796d66a2": {
          "model_module": "@jupyter-widgets/controls",
          "model_module_version": "1.5.0",
          "model_name": "ProgressStyleModel",
          "state": {
            "_model_module": "@jupyter-widgets/controls",
            "_model_module_version": "1.5.0",
            "_model_name": "ProgressStyleModel",
            "_view_count": null,
            "_view_module": "@jupyter-widgets/base",
            "_view_module_version": "1.2.0",
            "_view_name": "StyleView",
            "bar_color": null,
            "description_width": ""
          }
        },
        "6721da9bafb14c03b4c09ab46c63a4d9": {
          "model_module": "@jupyter-widgets/controls",
          "model_module_version": "1.5.0",
          "model_name": "VBoxModel",
          "state": {
            "_dom_classes": [],
            "_model_module": "@jupyter-widgets/controls",
            "_model_module_version": "1.5.0",
            "_model_name": "VBoxModel",
            "_view_count": null,
            "_view_module": "@jupyter-widgets/controls",
            "_view_module_version": "1.5.0",
            "_view_name": "VBoxView",
            "box_style": "",
            "children": [
              "IPY_MODEL_d2871d6abd1a49a694cb03715477cc07",
              "IPY_MODEL_1ea31b7d429d4d8d99efbfc8f303fa40"
            ],
            "layout": "IPY_MODEL_e16ff2dbf285487aa9d3c073143779e2"
          }
        },
        "67470adf423e4c768130877b26d67684": {
          "model_module": "@jupyter-widgets/base",
          "model_module_version": "1.2.0",
          "model_name": "LayoutModel",
          "state": {
            "_model_module": "@jupyter-widgets/base",
            "_model_module_version": "1.2.0",
            "_model_name": "LayoutModel",
            "_view_count": null,
            "_view_module": "@jupyter-widgets/base",
            "_view_module_version": "1.2.0",
            "_view_name": "LayoutView",
            "align_content": null,
            "align_items": null,
            "align_self": null,
            "border": null,
            "bottom": null,
            "display": null,
            "flex": null,
            "flex_flow": null,
            "grid_area": null,
            "grid_auto_columns": null,
            "grid_auto_flow": null,
            "grid_auto_rows": null,
            "grid_column": null,
            "grid_gap": null,
            "grid_row": null,
            "grid_template_areas": null,
            "grid_template_columns": null,
            "grid_template_rows": null,
            "height": null,
            "justify_content": null,
            "justify_items": null,
            "left": null,
            "margin": null,
            "max_height": null,
            "max_width": null,
            "min_height": null,
            "min_width": null,
            "object_fit": null,
            "object_position": null,
            "order": null,
            "overflow": null,
            "overflow_x": null,
            "overflow_y": null,
            "padding": null,
            "right": null,
            "top": null,
            "visibility": null,
            "width": null
          }
        },
        "69769cd78d204cbd94f122148ec4e761": {
          "model_module": "@jupyter-widgets/base",
          "model_module_version": "1.2.0",
          "model_name": "LayoutModel",
          "state": {
            "_model_module": "@jupyter-widgets/base",
            "_model_module_version": "1.2.0",
            "_model_name": "LayoutModel",
            "_view_count": null,
            "_view_module": "@jupyter-widgets/base",
            "_view_module_version": "1.2.0",
            "_view_name": "LayoutView",
            "align_content": null,
            "align_items": null,
            "align_self": null,
            "border": null,
            "bottom": null,
            "display": null,
            "flex": null,
            "flex_flow": null,
            "grid_area": null,
            "grid_auto_columns": null,
            "grid_auto_flow": null,
            "grid_auto_rows": null,
            "grid_column": null,
            "grid_gap": null,
            "grid_row": null,
            "grid_template_areas": null,
            "grid_template_columns": null,
            "grid_template_rows": null,
            "height": null,
            "justify_content": null,
            "justify_items": null,
            "left": null,
            "margin": null,
            "max_height": null,
            "max_width": null,
            "min_height": null,
            "min_width": null,
            "object_fit": null,
            "object_position": null,
            "order": null,
            "overflow": null,
            "overflow_x": null,
            "overflow_y": null,
            "padding": null,
            "right": null,
            "top": null,
            "visibility": null,
            "width": null
          }
        },
        "6af8f0e38d53428aaf6e21455da31f5f": {
          "model_module": "@jupyter-widgets/base",
          "model_module_version": "1.2.0",
          "model_name": "LayoutModel",
          "state": {
            "_model_module": "@jupyter-widgets/base",
            "_model_module_version": "1.2.0",
            "_model_name": "LayoutModel",
            "_view_count": null,
            "_view_module": "@jupyter-widgets/base",
            "_view_module_version": "1.2.0",
            "_view_name": "LayoutView",
            "align_content": null,
            "align_items": null,
            "align_self": null,
            "border": null,
            "bottom": null,
            "display": null,
            "flex": null,
            "flex_flow": null,
            "grid_area": null,
            "grid_auto_columns": null,
            "grid_auto_flow": null,
            "grid_auto_rows": null,
            "grid_column": null,
            "grid_gap": null,
            "grid_row": null,
            "grid_template_areas": null,
            "grid_template_columns": null,
            "grid_template_rows": null,
            "height": null,
            "justify_content": null,
            "justify_items": null,
            "left": null,
            "margin": null,
            "max_height": null,
            "max_width": null,
            "min_height": null,
            "min_width": null,
            "object_fit": null,
            "object_position": null,
            "order": null,
            "overflow": null,
            "overflow_x": null,
            "overflow_y": null,
            "padding": null,
            "right": null,
            "top": null,
            "visibility": null,
            "width": null
          }
        },
        "744b8427cc574114ba6c7d682c1ff636": {
          "model_module": "@jupyter-widgets/base",
          "model_module_version": "1.2.0",
          "model_name": "LayoutModel",
          "state": {
            "_model_module": "@jupyter-widgets/base",
            "_model_module_version": "1.2.0",
            "_model_name": "LayoutModel",
            "_view_count": null,
            "_view_module": "@jupyter-widgets/base",
            "_view_module_version": "1.2.0",
            "_view_name": "LayoutView",
            "align_content": null,
            "align_items": null,
            "align_self": null,
            "border": null,
            "bottom": null,
            "display": null,
            "flex": null,
            "flex_flow": null,
            "grid_area": null,
            "grid_auto_columns": null,
            "grid_auto_flow": null,
            "grid_auto_rows": null,
            "grid_column": null,
            "grid_gap": null,
            "grid_row": null,
            "grid_template_areas": null,
            "grid_template_columns": null,
            "grid_template_rows": null,
            "height": null,
            "justify_content": null,
            "justify_items": null,
            "left": null,
            "margin": null,
            "max_height": null,
            "max_width": null,
            "min_height": null,
            "min_width": null,
            "object_fit": null,
            "object_position": null,
            "order": null,
            "overflow": null,
            "overflow_x": null,
            "overflow_y": null,
            "padding": null,
            "right": null,
            "top": null,
            "visibility": null,
            "width": null
          }
        },
        "762a6041745f467bbcd1990edc113534": {
          "model_module": "@jupyter-widgets/controls",
          "model_module_version": "1.5.0",
          "model_name": "ProgressStyleModel",
          "state": {
            "_model_module": "@jupyter-widgets/controls",
            "_model_module_version": "1.5.0",
            "_model_name": "ProgressStyleModel",
            "_view_count": null,
            "_view_module": "@jupyter-widgets/base",
            "_view_module_version": "1.2.0",
            "_view_name": "StyleView",
            "bar_color": null,
            "description_width": ""
          }
        },
        "76cbb83644e348c0b91d3cc0b9a8fb9d": {
          "model_module": "@jupyter-widgets/controls",
          "model_module_version": "1.5.0",
          "model_name": "ProgressStyleModel",
          "state": {
            "_model_module": "@jupyter-widgets/controls",
            "_model_module_version": "1.5.0",
            "_model_name": "ProgressStyleModel",
            "_view_count": null,
            "_view_module": "@jupyter-widgets/base",
            "_view_module_version": "1.2.0",
            "_view_name": "StyleView",
            "bar_color": null,
            "description_width": ""
          }
        },
        "7717f2ead0854516bfb58f1c76b09880": {
          "model_module": "@jupyter-widgets/controls",
          "model_module_version": "1.5.0",
          "model_name": "LabelModel",
          "state": {
            "_dom_classes": [],
            "_model_module": "@jupyter-widgets/controls",
            "_model_module_version": "1.5.0",
            "_model_name": "LabelModel",
            "_view_count": null,
            "_view_module": "@jupyter-widgets/controls",
            "_view_module_version": "1.5.0",
            "_view_name": "LabelView",
            "description": "",
            "description_tooltip": null,
            "layout": "IPY_MODEL_8a4538354594444c8ffe7342ff817a1e",
            "placeholder": "​",
            "style": "IPY_MODEL_ef61f7c066e3479190df422f1ddc1c50",
            "value": "Waiting for wandb.init()...\r"
          }
        },
        "7843f09f409f4e8fbee343e2c80bb247": {
          "model_module": "@jupyter-widgets/base",
          "model_module_version": "1.2.0",
          "model_name": "LayoutModel",
          "state": {
            "_model_module": "@jupyter-widgets/base",
            "_model_module_version": "1.2.0",
            "_model_name": "LayoutModel",
            "_view_count": null,
            "_view_module": "@jupyter-widgets/base",
            "_view_module_version": "1.2.0",
            "_view_name": "LayoutView",
            "align_content": null,
            "align_items": null,
            "align_self": null,
            "border": null,
            "bottom": null,
            "display": null,
            "flex": null,
            "flex_flow": null,
            "grid_area": null,
            "grid_auto_columns": null,
            "grid_auto_flow": null,
            "grid_auto_rows": null,
            "grid_column": null,
            "grid_gap": null,
            "grid_row": null,
            "grid_template_areas": null,
            "grid_template_columns": null,
            "grid_template_rows": null,
            "height": null,
            "justify_content": null,
            "justify_items": null,
            "left": null,
            "margin": null,
            "max_height": null,
            "max_width": null,
            "min_height": null,
            "min_width": null,
            "object_fit": null,
            "object_position": null,
            "order": null,
            "overflow": null,
            "overflow_x": null,
            "overflow_y": null,
            "padding": null,
            "right": null,
            "top": null,
            "visibility": null,
            "width": null
          }
        },
        "79132a938ef442d298e52eb902404097": {
          "model_module": "@jupyter-widgets/base",
          "model_module_version": "1.2.0",
          "model_name": "LayoutModel",
          "state": {
            "_model_module": "@jupyter-widgets/base",
            "_model_module_version": "1.2.0",
            "_model_name": "LayoutModel",
            "_view_count": null,
            "_view_module": "@jupyter-widgets/base",
            "_view_module_version": "1.2.0",
            "_view_name": "LayoutView",
            "align_content": null,
            "align_items": null,
            "align_self": null,
            "border": null,
            "bottom": null,
            "display": null,
            "flex": null,
            "flex_flow": null,
            "grid_area": null,
            "grid_auto_columns": null,
            "grid_auto_flow": null,
            "grid_auto_rows": null,
            "grid_column": null,
            "grid_gap": null,
            "grid_row": null,
            "grid_template_areas": null,
            "grid_template_columns": null,
            "grid_template_rows": null,
            "height": null,
            "justify_content": null,
            "justify_items": null,
            "left": null,
            "margin": null,
            "max_height": null,
            "max_width": null,
            "min_height": null,
            "min_width": null,
            "object_fit": null,
            "object_position": null,
            "order": null,
            "overflow": null,
            "overflow_x": null,
            "overflow_y": null,
            "padding": null,
            "right": null,
            "top": null,
            "visibility": null,
            "width": null
          }
        },
        "7d0c22602c484eeeab68aaeba145b2a4": {
          "model_module": "@jupyter-widgets/controls",
          "model_module_version": "1.5.0",
          "model_name": "FloatProgressModel",
          "state": {
            "_dom_classes": [],
            "_model_module": "@jupyter-widgets/controls",
            "_model_module_version": "1.5.0",
            "_model_name": "FloatProgressModel",
            "_view_count": null,
            "_view_module": "@jupyter-widgets/controls",
            "_view_module_version": "1.5.0",
            "_view_name": "ProgressView",
            "bar_style": "",
            "description": "",
            "description_tooltip": null,
            "layout": "IPY_MODEL_e34f667231ed4d1cb015720e9d652014",
            "max": 1,
            "min": 0,
            "orientation": "horizontal",
            "style": "IPY_MODEL_3df98fb3a4aa4ea399537c8cfcd21c66",
            "value": 1
          }
        },
        "7d0faa15009e4774b6e113ae8495be98": {
          "model_module": "@jupyter-widgets/base",
          "model_module_version": "1.2.0",
          "model_name": "LayoutModel",
          "state": {
            "_model_module": "@jupyter-widgets/base",
            "_model_module_version": "1.2.0",
            "_model_name": "LayoutModel",
            "_view_count": null,
            "_view_module": "@jupyter-widgets/base",
            "_view_module_version": "1.2.0",
            "_view_name": "LayoutView",
            "align_content": null,
            "align_items": null,
            "align_self": null,
            "border": null,
            "bottom": null,
            "display": null,
            "flex": null,
            "flex_flow": null,
            "grid_area": null,
            "grid_auto_columns": null,
            "grid_auto_flow": null,
            "grid_auto_rows": null,
            "grid_column": null,
            "grid_gap": null,
            "grid_row": null,
            "grid_template_areas": null,
            "grid_template_columns": null,
            "grid_template_rows": null,
            "height": null,
            "justify_content": null,
            "justify_items": null,
            "left": null,
            "margin": null,
            "max_height": null,
            "max_width": null,
            "min_height": null,
            "min_width": null,
            "object_fit": null,
            "object_position": null,
            "order": null,
            "overflow": null,
            "overflow_x": null,
            "overflow_y": null,
            "padding": null,
            "right": null,
            "top": null,
            "visibility": null,
            "width": null
          }
        },
        "7f88c8ca709340aea64128208b24dd52": {
          "model_module": "@jupyter-widgets/base",
          "model_module_version": "1.2.0",
          "model_name": "LayoutModel",
          "state": {
            "_model_module": "@jupyter-widgets/base",
            "_model_module_version": "1.2.0",
            "_model_name": "LayoutModel",
            "_view_count": null,
            "_view_module": "@jupyter-widgets/base",
            "_view_module_version": "1.2.0",
            "_view_name": "LayoutView",
            "align_content": null,
            "align_items": null,
            "align_self": null,
            "border": null,
            "bottom": null,
            "display": null,
            "flex": null,
            "flex_flow": null,
            "grid_area": null,
            "grid_auto_columns": null,
            "grid_auto_flow": null,
            "grid_auto_rows": null,
            "grid_column": null,
            "grid_gap": null,
            "grid_row": null,
            "grid_template_areas": null,
            "grid_template_columns": null,
            "grid_template_rows": null,
            "height": null,
            "justify_content": null,
            "justify_items": null,
            "left": null,
            "margin": null,
            "max_height": null,
            "max_width": null,
            "min_height": null,
            "min_width": null,
            "object_fit": null,
            "object_position": null,
            "order": null,
            "overflow": null,
            "overflow_x": null,
            "overflow_y": null,
            "padding": null,
            "right": null,
            "top": null,
            "visibility": null,
            "width": null
          }
        },
        "7fcd38cd126542e1902590e154e93a9f": {
          "model_module": "@jupyter-widgets/controls",
          "model_module_version": "1.5.0",
          "model_name": "LabelModel",
          "state": {
            "_dom_classes": [],
            "_model_module": "@jupyter-widgets/controls",
            "_model_module_version": "1.5.0",
            "_model_name": "LabelModel",
            "_view_count": null,
            "_view_module": "@jupyter-widgets/controls",
            "_view_module_version": "1.5.0",
            "_view_name": "LabelView",
            "description": "",
            "description_tooltip": null,
            "layout": "IPY_MODEL_cd3f8439f93047b0a7e282defd0a2ca8",
            "placeholder": "​",
            "style": "IPY_MODEL_feac8b1d35814684903b47b29374f7f9",
            "value": "0.013 MB of 0.013 MB uploaded\r"
          }
        },
        "80fbbf6486d3415fb127d095bad3e03c": {
          "model_module": "@jupyter-widgets/controls",
          "model_module_version": "1.5.0",
          "model_name": "FloatProgressModel",
          "state": {
            "_dom_classes": [],
            "_model_module": "@jupyter-widgets/controls",
            "_model_module_version": "1.5.0",
            "_model_name": "FloatProgressModel",
            "_view_count": null,
            "_view_module": "@jupyter-widgets/controls",
            "_view_module_version": "1.5.0",
            "_view_name": "ProgressView",
            "bar_style": "",
            "description": "",
            "description_tooltip": null,
            "layout": "IPY_MODEL_c107ced0ebc64899baf36401afe18f58",
            "max": 1,
            "min": 0,
            "orientation": "horizontal",
            "style": "IPY_MODEL_b7dfcd0b7d8c4ac6abe8b1500e6aa7a7",
            "value": 1
          }
        },
        "813bb09c3f604a02bf7682661fdbcfab": {
          "model_module": "@jupyter-widgets/base",
          "model_module_version": "1.2.0",
          "model_name": "LayoutModel",
          "state": {
            "_model_module": "@jupyter-widgets/base",
            "_model_module_version": "1.2.0",
            "_model_name": "LayoutModel",
            "_view_count": null,
            "_view_module": "@jupyter-widgets/base",
            "_view_module_version": "1.2.0",
            "_view_name": "LayoutView",
            "align_content": null,
            "align_items": null,
            "align_self": null,
            "border": null,
            "bottom": null,
            "display": null,
            "flex": null,
            "flex_flow": null,
            "grid_area": null,
            "grid_auto_columns": null,
            "grid_auto_flow": null,
            "grid_auto_rows": null,
            "grid_column": null,
            "grid_gap": null,
            "grid_row": null,
            "grid_template_areas": null,
            "grid_template_columns": null,
            "grid_template_rows": null,
            "height": null,
            "justify_content": null,
            "justify_items": null,
            "left": null,
            "margin": null,
            "max_height": null,
            "max_width": null,
            "min_height": null,
            "min_width": null,
            "object_fit": null,
            "object_position": null,
            "order": null,
            "overflow": null,
            "overflow_x": null,
            "overflow_y": null,
            "padding": null,
            "right": null,
            "top": null,
            "visibility": null,
            "width": null
          }
        },
        "89b858f50b344799a0b019c6bed8ce03": {
          "model_module": "@jupyter-widgets/controls",
          "model_module_version": "1.5.0",
          "model_name": "LabelModel",
          "state": {
            "_dom_classes": [],
            "_model_module": "@jupyter-widgets/controls",
            "_model_module_version": "1.5.0",
            "_model_name": "LabelModel",
            "_view_count": null,
            "_view_module": "@jupyter-widgets/controls",
            "_view_module_version": "1.5.0",
            "_view_name": "LabelView",
            "description": "",
            "description_tooltip": null,
            "layout": "IPY_MODEL_05f6b3511dfa45098cc9cfc11a92471f",
            "placeholder": "​",
            "style": "IPY_MODEL_cdbd593a3f6d4a2889446abaf9864320",
            "value": "0.011 MB of 0.011 MB uploaded\r"
          }
        },
        "8a4538354594444c8ffe7342ff817a1e": {
          "model_module": "@jupyter-widgets/base",
          "model_module_version": "1.2.0",
          "model_name": "LayoutModel",
          "state": {
            "_model_module": "@jupyter-widgets/base",
            "_model_module_version": "1.2.0",
            "_model_name": "LayoutModel",
            "_view_count": null,
            "_view_module": "@jupyter-widgets/base",
            "_view_module_version": "1.2.0",
            "_view_name": "LayoutView",
            "align_content": null,
            "align_items": null,
            "align_self": null,
            "border": null,
            "bottom": null,
            "display": null,
            "flex": null,
            "flex_flow": null,
            "grid_area": null,
            "grid_auto_columns": null,
            "grid_auto_flow": null,
            "grid_auto_rows": null,
            "grid_column": null,
            "grid_gap": null,
            "grid_row": null,
            "grid_template_areas": null,
            "grid_template_columns": null,
            "grid_template_rows": null,
            "height": null,
            "justify_content": null,
            "justify_items": null,
            "left": null,
            "margin": null,
            "max_height": null,
            "max_width": null,
            "min_height": null,
            "min_width": null,
            "object_fit": null,
            "object_position": null,
            "order": null,
            "overflow": null,
            "overflow_x": null,
            "overflow_y": null,
            "padding": null,
            "right": null,
            "top": null,
            "visibility": null,
            "width": null
          }
        },
        "8afc228eb9c642d3b68c6e423f228fef": {
          "model_module": "@jupyter-widgets/controls",
          "model_module_version": "1.5.0",
          "model_name": "VBoxModel",
          "state": {
            "_dom_classes": [],
            "_model_module": "@jupyter-widgets/controls",
            "_model_module_version": "1.5.0",
            "_model_name": "VBoxModel",
            "_view_count": null,
            "_view_module": "@jupyter-widgets/controls",
            "_view_module_version": "1.5.0",
            "_view_name": "VBoxView",
            "box_style": "",
            "children": [
              "IPY_MODEL_c26aa39fbf264eee8ad95326736a4226",
              "IPY_MODEL_d5128a322f3644b7ae1fabd33c9fa13b"
            ],
            "layout": "IPY_MODEL_e51326b1b8a84030bdd4cf4e0a51858c"
          }
        },
        "8cdd6b61ba084166adac74ac1bc6d2b0": {
          "model_module": "@jupyter-widgets/controls",
          "model_module_version": "1.5.0",
          "model_name": "ProgressStyleModel",
          "state": {
            "_model_module": "@jupyter-widgets/controls",
            "_model_module_version": "1.5.0",
            "_model_name": "ProgressStyleModel",
            "_view_count": null,
            "_view_module": "@jupyter-widgets/base",
            "_view_module_version": "1.2.0",
            "_view_name": "StyleView",
            "bar_color": null,
            "description_width": ""
          }
        },
        "8d968ac49ecc47099d53ee4495d6e180": {
          "model_module": "@jupyter-widgets/controls",
          "model_module_version": "1.5.0",
          "model_name": "VBoxModel",
          "state": {
            "_dom_classes": [],
            "_model_module": "@jupyter-widgets/controls",
            "_model_module_version": "1.5.0",
            "_model_name": "VBoxModel",
            "_view_count": null,
            "_view_module": "@jupyter-widgets/controls",
            "_view_module_version": "1.5.0",
            "_view_name": "VBoxView",
            "box_style": "",
            "children": [
              "IPY_MODEL_ed37410f168f40cca772101d564d8114",
              "IPY_MODEL_2d10c0d110424d6aa1b95305c2354361"
            ],
            "layout": "IPY_MODEL_813bb09c3f604a02bf7682661fdbcfab"
          }
        },
        "8e25fcbb989442a9902632991b9a0e5f": {
          "model_module": "@jupyter-widgets/controls",
          "model_module_version": "1.5.0",
          "model_name": "VBoxModel",
          "state": {
            "_dom_classes": [],
            "_model_module": "@jupyter-widgets/controls",
            "_model_module_version": "1.5.0",
            "_model_name": "VBoxModel",
            "_view_count": null,
            "_view_module": "@jupyter-widgets/controls",
            "_view_module_version": "1.5.0",
            "_view_name": "VBoxView",
            "box_style": "",
            "children": [
              "IPY_MODEL_c5ff4853cfcf490e9f0516aaaa83bbb2",
              "IPY_MODEL_80fbbf6486d3415fb127d095bad3e03c"
            ],
            "layout": "IPY_MODEL_10e92d6043be4ca4b173a469e7d533fa"
          }
        },
        "91a558b6efe2477798daee05c0729e74": {
          "model_module": "@jupyter-widgets/controls",
          "model_module_version": "1.5.0",
          "model_name": "DescriptionStyleModel",
          "state": {
            "_model_module": "@jupyter-widgets/controls",
            "_model_module_version": "1.5.0",
            "_model_name": "DescriptionStyleModel",
            "_view_count": null,
            "_view_module": "@jupyter-widgets/base",
            "_view_module_version": "1.2.0",
            "_view_name": "StyleView",
            "description_width": ""
          }
        },
        "9336cb11fdec4b6b8fee34ea84be9736": {
          "model_module": "@jupyter-widgets/base",
          "model_module_version": "1.2.0",
          "model_name": "LayoutModel",
          "state": {
            "_model_module": "@jupyter-widgets/base",
            "_model_module_version": "1.2.0",
            "_model_name": "LayoutModel",
            "_view_count": null,
            "_view_module": "@jupyter-widgets/base",
            "_view_module_version": "1.2.0",
            "_view_name": "LayoutView",
            "align_content": null,
            "align_items": null,
            "align_self": null,
            "border": null,
            "bottom": null,
            "display": null,
            "flex": null,
            "flex_flow": null,
            "grid_area": null,
            "grid_auto_columns": null,
            "grid_auto_flow": null,
            "grid_auto_rows": null,
            "grid_column": null,
            "grid_gap": null,
            "grid_row": null,
            "grid_template_areas": null,
            "grid_template_columns": null,
            "grid_template_rows": null,
            "height": null,
            "justify_content": null,
            "justify_items": null,
            "left": null,
            "margin": null,
            "max_height": null,
            "max_width": null,
            "min_height": null,
            "min_width": null,
            "object_fit": null,
            "object_position": null,
            "order": null,
            "overflow": null,
            "overflow_x": null,
            "overflow_y": null,
            "padding": null,
            "right": null,
            "top": null,
            "visibility": null,
            "width": null
          }
        },
        "952ede4afd1e43a69b78b415d0c30ac5": {
          "model_module": "@jupyter-widgets/controls",
          "model_module_version": "1.5.0",
          "model_name": "VBoxModel",
          "state": {
            "_dom_classes": [],
            "_model_module": "@jupyter-widgets/controls",
            "_model_module_version": "1.5.0",
            "_model_name": "VBoxModel",
            "_view_count": null,
            "_view_module": "@jupyter-widgets/controls",
            "_view_module_version": "1.5.0",
            "_view_name": "VBoxView",
            "box_style": "",
            "children": [
              "IPY_MODEL_03110499a1fd4eee84f0c2f88cc7a44e",
              "IPY_MODEL_4e0c3782555843499dde238bead11e1d"
            ],
            "layout": "IPY_MODEL_f8e63957847e414685f3168303d8d9c9"
          }
        },
        "9637063466504a50b1eb8c0ca70c3cfb": {
          "model_module": "@jupyter-widgets/base",
          "model_module_version": "1.2.0",
          "model_name": "LayoutModel",
          "state": {
            "_model_module": "@jupyter-widgets/base",
            "_model_module_version": "1.2.0",
            "_model_name": "LayoutModel",
            "_view_count": null,
            "_view_module": "@jupyter-widgets/base",
            "_view_module_version": "1.2.0",
            "_view_name": "LayoutView",
            "align_content": null,
            "align_items": null,
            "align_self": null,
            "border": null,
            "bottom": null,
            "display": null,
            "flex": null,
            "flex_flow": null,
            "grid_area": null,
            "grid_auto_columns": null,
            "grid_auto_flow": null,
            "grid_auto_rows": null,
            "grid_column": null,
            "grid_gap": null,
            "grid_row": null,
            "grid_template_areas": null,
            "grid_template_columns": null,
            "grid_template_rows": null,
            "height": null,
            "justify_content": null,
            "justify_items": null,
            "left": null,
            "margin": null,
            "max_height": null,
            "max_width": null,
            "min_height": null,
            "min_width": null,
            "object_fit": null,
            "object_position": null,
            "order": null,
            "overflow": null,
            "overflow_x": null,
            "overflow_y": null,
            "padding": null,
            "right": null,
            "top": null,
            "visibility": null,
            "width": null
          }
        },
        "9b54ed4682fd47deb1bfde2890bc53c8": {
          "model_module": "@jupyter-widgets/base",
          "model_module_version": "1.2.0",
          "model_name": "LayoutModel",
          "state": {
            "_model_module": "@jupyter-widgets/base",
            "_model_module_version": "1.2.0",
            "_model_name": "LayoutModel",
            "_view_count": null,
            "_view_module": "@jupyter-widgets/base",
            "_view_module_version": "1.2.0",
            "_view_name": "LayoutView",
            "align_content": null,
            "align_items": null,
            "align_self": null,
            "border": null,
            "bottom": null,
            "display": null,
            "flex": null,
            "flex_flow": null,
            "grid_area": null,
            "grid_auto_columns": null,
            "grid_auto_flow": null,
            "grid_auto_rows": null,
            "grid_column": null,
            "grid_gap": null,
            "grid_row": null,
            "grid_template_areas": null,
            "grid_template_columns": null,
            "grid_template_rows": null,
            "height": null,
            "justify_content": null,
            "justify_items": null,
            "left": null,
            "margin": null,
            "max_height": null,
            "max_width": null,
            "min_height": null,
            "min_width": null,
            "object_fit": null,
            "object_position": null,
            "order": null,
            "overflow": null,
            "overflow_x": null,
            "overflow_y": null,
            "padding": null,
            "right": null,
            "top": null,
            "visibility": null,
            "width": null
          }
        },
        "9cb84cfa49a8470f9e138b90ad7dbfc7": {
          "model_module": "@jupyter-widgets/controls",
          "model_module_version": "1.5.0",
          "model_name": "ProgressStyleModel",
          "state": {
            "_model_module": "@jupyter-widgets/controls",
            "_model_module_version": "1.5.0",
            "_model_name": "ProgressStyleModel",
            "_view_count": null,
            "_view_module": "@jupyter-widgets/base",
            "_view_module_version": "1.2.0",
            "_view_name": "StyleView",
            "bar_color": null,
            "description_width": ""
          }
        },
        "9ce97f9de99543f38bf6e1925cfcd450": {
          "model_module": "@jupyter-widgets/controls",
          "model_module_version": "1.5.0",
          "model_name": "LabelModel",
          "state": {
            "_dom_classes": [],
            "_model_module": "@jupyter-widgets/controls",
            "_model_module_version": "1.5.0",
            "_model_name": "LabelModel",
            "_view_count": null,
            "_view_module": "@jupyter-widgets/controls",
            "_view_module_version": "1.5.0",
            "_view_name": "LabelView",
            "description": "",
            "description_tooltip": null,
            "layout": "IPY_MODEL_79132a938ef442d298e52eb902404097",
            "placeholder": "​",
            "style": "IPY_MODEL_04ca5ef8fc4f41d196199eef87eed60c",
            "value": "0.012 MB of 0.012 MB uploaded\r"
          }
        },
        "9eb201ffc49f47a2b551462820c856d8": {
          "model_module": "@jupyter-widgets/controls",
          "model_module_version": "1.5.0",
          "model_name": "DescriptionStyleModel",
          "state": {
            "_model_module": "@jupyter-widgets/controls",
            "_model_module_version": "1.5.0",
            "_model_name": "DescriptionStyleModel",
            "_view_count": null,
            "_view_module": "@jupyter-widgets/base",
            "_view_module_version": "1.2.0",
            "_view_name": "StyleView",
            "description_width": ""
          }
        },
        "a1fb3702352349a09a6cdf89c29c8d96": {
          "model_module": "@jupyter-widgets/base",
          "model_module_version": "1.2.0",
          "model_name": "LayoutModel",
          "state": {
            "_model_module": "@jupyter-widgets/base",
            "_model_module_version": "1.2.0",
            "_model_name": "LayoutModel",
            "_view_count": null,
            "_view_module": "@jupyter-widgets/base",
            "_view_module_version": "1.2.0",
            "_view_name": "LayoutView",
            "align_content": null,
            "align_items": null,
            "align_self": null,
            "border": null,
            "bottom": null,
            "display": null,
            "flex": null,
            "flex_flow": null,
            "grid_area": null,
            "grid_auto_columns": null,
            "grid_auto_flow": null,
            "grid_auto_rows": null,
            "grid_column": null,
            "grid_gap": null,
            "grid_row": null,
            "grid_template_areas": null,
            "grid_template_columns": null,
            "grid_template_rows": null,
            "height": null,
            "justify_content": null,
            "justify_items": null,
            "left": null,
            "margin": null,
            "max_height": null,
            "max_width": null,
            "min_height": null,
            "min_width": null,
            "object_fit": null,
            "object_position": null,
            "order": null,
            "overflow": null,
            "overflow_x": null,
            "overflow_y": null,
            "padding": null,
            "right": null,
            "top": null,
            "visibility": null,
            "width": null
          }
        },
        "a346acddef54452a8d00a1a13ab75423": {
          "model_module": "@jupyter-widgets/base",
          "model_module_version": "1.2.0",
          "model_name": "LayoutModel",
          "state": {
            "_model_module": "@jupyter-widgets/base",
            "_model_module_version": "1.2.0",
            "_model_name": "LayoutModel",
            "_view_count": null,
            "_view_module": "@jupyter-widgets/base",
            "_view_module_version": "1.2.0",
            "_view_name": "LayoutView",
            "align_content": null,
            "align_items": null,
            "align_self": null,
            "border": null,
            "bottom": null,
            "display": null,
            "flex": null,
            "flex_flow": null,
            "grid_area": null,
            "grid_auto_columns": null,
            "grid_auto_flow": null,
            "grid_auto_rows": null,
            "grid_column": null,
            "grid_gap": null,
            "grid_row": null,
            "grid_template_areas": null,
            "grid_template_columns": null,
            "grid_template_rows": null,
            "height": null,
            "justify_content": null,
            "justify_items": null,
            "left": null,
            "margin": null,
            "max_height": null,
            "max_width": null,
            "min_height": null,
            "min_width": null,
            "object_fit": null,
            "object_position": null,
            "order": null,
            "overflow": null,
            "overflow_x": null,
            "overflow_y": null,
            "padding": null,
            "right": null,
            "top": null,
            "visibility": null,
            "width": null
          }
        },
        "a59135cf69ad4fc2bcbea580b4a17e7f": {
          "model_module": "@jupyter-widgets/controls",
          "model_module_version": "1.5.0",
          "model_name": "ProgressStyleModel",
          "state": {
            "_model_module": "@jupyter-widgets/controls",
            "_model_module_version": "1.5.0",
            "_model_name": "ProgressStyleModel",
            "_view_count": null,
            "_view_module": "@jupyter-widgets/base",
            "_view_module_version": "1.2.0",
            "_view_name": "StyleView",
            "bar_color": null,
            "description_width": ""
          }
        },
        "a5f4a913b3b64651ad5db3929ae2afca": {
          "model_module": "@jupyter-widgets/controls",
          "model_module_version": "1.5.0",
          "model_name": "DescriptionStyleModel",
          "state": {
            "_model_module": "@jupyter-widgets/controls",
            "_model_module_version": "1.5.0",
            "_model_name": "DescriptionStyleModel",
            "_view_count": null,
            "_view_module": "@jupyter-widgets/base",
            "_view_module_version": "1.2.0",
            "_view_name": "StyleView",
            "description_width": ""
          }
        },
        "a702034870b741acafeb72f5718b0cde": {
          "model_module": "@jupyter-widgets/controls",
          "model_module_version": "1.5.0",
          "model_name": "ProgressStyleModel",
          "state": {
            "_model_module": "@jupyter-widgets/controls",
            "_model_module_version": "1.5.0",
            "_model_name": "ProgressStyleModel",
            "_view_count": null,
            "_view_module": "@jupyter-widgets/base",
            "_view_module_version": "1.2.0",
            "_view_name": "StyleView",
            "bar_color": null,
            "description_width": ""
          }
        },
        "a757677bb5434dcaba97bace109aca42": {
          "model_module": "@jupyter-widgets/controls",
          "model_module_version": "1.5.0",
          "model_name": "FloatProgressModel",
          "state": {
            "_dom_classes": [],
            "_model_module": "@jupyter-widgets/controls",
            "_model_module_version": "1.5.0",
            "_model_name": "FloatProgressModel",
            "_view_count": null,
            "_view_module": "@jupyter-widgets/controls",
            "_view_module_version": "1.5.0",
            "_view_name": "ProgressView",
            "bar_style": "",
            "description": "",
            "description_tooltip": null,
            "layout": "IPY_MODEL_35a4f8a829294cb89931ce4ba226746f",
            "max": 1,
            "min": 0,
            "orientation": "horizontal",
            "style": "IPY_MODEL_1eb265e1c0274e87b3716c67966504b7",
            "value": 1
          }
        },
        "a7b37bb92faa4b4d8d18009dc7a16b69": {
          "model_module": "@jupyter-widgets/base",
          "model_module_version": "1.2.0",
          "model_name": "LayoutModel",
          "state": {
            "_model_module": "@jupyter-widgets/base",
            "_model_module_version": "1.2.0",
            "_model_name": "LayoutModel",
            "_view_count": null,
            "_view_module": "@jupyter-widgets/base",
            "_view_module_version": "1.2.0",
            "_view_name": "LayoutView",
            "align_content": null,
            "align_items": null,
            "align_self": null,
            "border": null,
            "bottom": null,
            "display": null,
            "flex": null,
            "flex_flow": null,
            "grid_area": null,
            "grid_auto_columns": null,
            "grid_auto_flow": null,
            "grid_auto_rows": null,
            "grid_column": null,
            "grid_gap": null,
            "grid_row": null,
            "grid_template_areas": null,
            "grid_template_columns": null,
            "grid_template_rows": null,
            "height": null,
            "justify_content": null,
            "justify_items": null,
            "left": null,
            "margin": null,
            "max_height": null,
            "max_width": null,
            "min_height": null,
            "min_width": null,
            "object_fit": null,
            "object_position": null,
            "order": null,
            "overflow": null,
            "overflow_x": null,
            "overflow_y": null,
            "padding": null,
            "right": null,
            "top": null,
            "visibility": null,
            "width": null
          }
        },
        "aa517d130d06497b8ccc6462029e18fe": {
          "model_module": "@jupyter-widgets/controls",
          "model_module_version": "1.5.0",
          "model_name": "VBoxModel",
          "state": {
            "_dom_classes": [],
            "_model_module": "@jupyter-widgets/controls",
            "_model_module_version": "1.5.0",
            "_model_name": "VBoxModel",
            "_view_count": null,
            "_view_module": "@jupyter-widgets/controls",
            "_view_module_version": "1.5.0",
            "_view_name": "VBoxView",
            "box_style": "",
            "children": [
              "IPY_MODEL_1f4807038276423ca4050594ec6e9c3f",
              "IPY_MODEL_e5f5833f0d6e40d8892168e54a6c95b2"
            ],
            "layout": "IPY_MODEL_744b8427cc574114ba6c7d682c1ff636"
          }
        },
        "aaf96bfc8033421387bcbc7e1533cf77": {
          "model_module": "@jupyter-widgets/controls",
          "model_module_version": "1.5.0",
          "model_name": "DescriptionStyleModel",
          "state": {
            "_model_module": "@jupyter-widgets/controls",
            "_model_module_version": "1.5.0",
            "_model_name": "DescriptionStyleModel",
            "_view_count": null,
            "_view_module": "@jupyter-widgets/base",
            "_view_module_version": "1.2.0",
            "_view_name": "StyleView",
            "description_width": ""
          }
        },
        "b0aae56919f840da91dd37b17ca6f9a3": {
          "model_module": "@jupyter-widgets/base",
          "model_module_version": "1.2.0",
          "model_name": "LayoutModel",
          "state": {
            "_model_module": "@jupyter-widgets/base",
            "_model_module_version": "1.2.0",
            "_model_name": "LayoutModel",
            "_view_count": null,
            "_view_module": "@jupyter-widgets/base",
            "_view_module_version": "1.2.0",
            "_view_name": "LayoutView",
            "align_content": null,
            "align_items": null,
            "align_self": null,
            "border": null,
            "bottom": null,
            "display": null,
            "flex": null,
            "flex_flow": null,
            "grid_area": null,
            "grid_auto_columns": null,
            "grid_auto_flow": null,
            "grid_auto_rows": null,
            "grid_column": null,
            "grid_gap": null,
            "grid_row": null,
            "grid_template_areas": null,
            "grid_template_columns": null,
            "grid_template_rows": null,
            "height": null,
            "justify_content": null,
            "justify_items": null,
            "left": null,
            "margin": null,
            "max_height": null,
            "max_width": null,
            "min_height": null,
            "min_width": null,
            "object_fit": null,
            "object_position": null,
            "order": null,
            "overflow": null,
            "overflow_x": null,
            "overflow_y": null,
            "padding": null,
            "right": null,
            "top": null,
            "visibility": null,
            "width": null
          }
        },
        "b48b6c3b2e834f80b7afc74de5531621": {
          "model_module": "@jupyter-widgets/controls",
          "model_module_version": "1.5.0",
          "model_name": "ProgressStyleModel",
          "state": {
            "_model_module": "@jupyter-widgets/controls",
            "_model_module_version": "1.5.0",
            "_model_name": "ProgressStyleModel",
            "_view_count": null,
            "_view_module": "@jupyter-widgets/base",
            "_view_module_version": "1.2.0",
            "_view_name": "StyleView",
            "bar_color": null,
            "description_width": ""
          }
        },
        "b501a54758294422854ff7b9df4c859f": {
          "model_module": "@jupyter-widgets/controls",
          "model_module_version": "1.5.0",
          "model_name": "LabelModel",
          "state": {
            "_dom_classes": [],
            "_model_module": "@jupyter-widgets/controls",
            "_model_module_version": "1.5.0",
            "_model_name": "LabelModel",
            "_view_count": null,
            "_view_module": "@jupyter-widgets/controls",
            "_view_module_version": "1.5.0",
            "_view_name": "LabelView",
            "description": "",
            "description_tooltip": null,
            "layout": "IPY_MODEL_a7b37bb92faa4b4d8d18009dc7a16b69",
            "placeholder": "​",
            "style": "IPY_MODEL_4e9870bd297e484c8c2ae3b66addb795",
            "value": "0.010 MB of 0.010 MB uploaded\r"
          }
        },
        "b65ada38917343afbb5ba04b04c3bc87": {
          "model_module": "@jupyter-widgets/base",
          "model_module_version": "1.2.0",
          "model_name": "LayoutModel",
          "state": {
            "_model_module": "@jupyter-widgets/base",
            "_model_module_version": "1.2.0",
            "_model_name": "LayoutModel",
            "_view_count": null,
            "_view_module": "@jupyter-widgets/base",
            "_view_module_version": "1.2.0",
            "_view_name": "LayoutView",
            "align_content": null,
            "align_items": null,
            "align_self": null,
            "border": null,
            "bottom": null,
            "display": null,
            "flex": null,
            "flex_flow": null,
            "grid_area": null,
            "grid_auto_columns": null,
            "grid_auto_flow": null,
            "grid_auto_rows": null,
            "grid_column": null,
            "grid_gap": null,
            "grid_row": null,
            "grid_template_areas": null,
            "grid_template_columns": null,
            "grid_template_rows": null,
            "height": null,
            "justify_content": null,
            "justify_items": null,
            "left": null,
            "margin": null,
            "max_height": null,
            "max_width": null,
            "min_height": null,
            "min_width": null,
            "object_fit": null,
            "object_position": null,
            "order": null,
            "overflow": null,
            "overflow_x": null,
            "overflow_y": null,
            "padding": null,
            "right": null,
            "top": null,
            "visibility": null,
            "width": null
          }
        },
        "b74581d0213f449f8aabb8f5ab0a6a82": {
          "model_module": "@jupyter-widgets/controls",
          "model_module_version": "1.5.0",
          "model_name": "FloatProgressModel",
          "state": {
            "_dom_classes": [],
            "_model_module": "@jupyter-widgets/controls",
            "_model_module_version": "1.5.0",
            "_model_name": "FloatProgressModel",
            "_view_count": null,
            "_view_module": "@jupyter-widgets/controls",
            "_view_module_version": "1.5.0",
            "_view_name": "ProgressView",
            "bar_style": "",
            "description": "",
            "description_tooltip": null,
            "layout": "IPY_MODEL_cb054ef2d6dc477b8fa62a17fd80352d",
            "max": 1,
            "min": 0,
            "orientation": "horizontal",
            "style": "IPY_MODEL_9cb84cfa49a8470f9e138b90ad7dbfc7",
            "value": 1
          }
        },
        "b7dfcd0b7d8c4ac6abe8b1500e6aa7a7": {
          "model_module": "@jupyter-widgets/controls",
          "model_module_version": "1.5.0",
          "model_name": "ProgressStyleModel",
          "state": {
            "_model_module": "@jupyter-widgets/controls",
            "_model_module_version": "1.5.0",
            "_model_name": "ProgressStyleModel",
            "_view_count": null,
            "_view_module": "@jupyter-widgets/base",
            "_view_module_version": "1.2.0",
            "_view_name": "StyleView",
            "bar_color": null,
            "description_width": ""
          }
        },
        "bb661c949d234ee698e9e98a4809bc15": {
          "model_module": "@jupyter-widgets/base",
          "model_module_version": "1.2.0",
          "model_name": "LayoutModel",
          "state": {
            "_model_module": "@jupyter-widgets/base",
            "_model_module_version": "1.2.0",
            "_model_name": "LayoutModel",
            "_view_count": null,
            "_view_module": "@jupyter-widgets/base",
            "_view_module_version": "1.2.0",
            "_view_name": "LayoutView",
            "align_content": null,
            "align_items": null,
            "align_self": null,
            "border": null,
            "bottom": null,
            "display": null,
            "flex": null,
            "flex_flow": null,
            "grid_area": null,
            "grid_auto_columns": null,
            "grid_auto_flow": null,
            "grid_auto_rows": null,
            "grid_column": null,
            "grid_gap": null,
            "grid_row": null,
            "grid_template_areas": null,
            "grid_template_columns": null,
            "grid_template_rows": null,
            "height": null,
            "justify_content": null,
            "justify_items": null,
            "left": null,
            "margin": null,
            "max_height": null,
            "max_width": null,
            "min_height": null,
            "min_width": null,
            "object_fit": null,
            "object_position": null,
            "order": null,
            "overflow": null,
            "overflow_x": null,
            "overflow_y": null,
            "padding": null,
            "right": null,
            "top": null,
            "visibility": null,
            "width": null
          }
        },
        "bcc4cfc8950848de84804479d929220f": {
          "model_module": "@jupyter-widgets/controls",
          "model_module_version": "1.5.0",
          "model_name": "FloatProgressModel",
          "state": {
            "_dom_classes": [],
            "_model_module": "@jupyter-widgets/controls",
            "_model_module_version": "1.5.0",
            "_model_name": "FloatProgressModel",
            "_view_count": null,
            "_view_module": "@jupyter-widgets/controls",
            "_view_module_version": "1.5.0",
            "_view_name": "ProgressView",
            "bar_style": "",
            "description": "",
            "description_tooltip": null,
            "layout": "IPY_MODEL_fc72e810ad4d48c1ad3d2f6e9908ebd8",
            "max": 1,
            "min": 0,
            "orientation": "horizontal",
            "style": "IPY_MODEL_762a6041745f467bbcd1990edc113534",
            "value": 1
          }
        },
        "c0675d719fb84554b04bd667845efe2a": {
          "model_module": "@jupyter-widgets/controls",
          "model_module_version": "1.5.0",
          "model_name": "VBoxModel",
          "state": {
            "_dom_classes": [],
            "_model_module": "@jupyter-widgets/controls",
            "_model_module_version": "1.5.0",
            "_model_name": "VBoxModel",
            "_view_count": null,
            "_view_module": "@jupyter-widgets/controls",
            "_view_module_version": "1.5.0",
            "_view_name": "VBoxView",
            "box_style": "",
            "children": [
              "IPY_MODEL_7fcd38cd126542e1902590e154e93a9f",
              "IPY_MODEL_db039397a93d4d03954ec23a9c3e7a24"
            ],
            "layout": "IPY_MODEL_f04f8c6d84fe4b39a01dcedc80d49cc4"
          }
        },
        "c107ced0ebc64899baf36401afe18f58": {
          "model_module": "@jupyter-widgets/base",
          "model_module_version": "1.2.0",
          "model_name": "LayoutModel",
          "state": {
            "_model_module": "@jupyter-widgets/base",
            "_model_module_version": "1.2.0",
            "_model_name": "LayoutModel",
            "_view_count": null,
            "_view_module": "@jupyter-widgets/base",
            "_view_module_version": "1.2.0",
            "_view_name": "LayoutView",
            "align_content": null,
            "align_items": null,
            "align_self": null,
            "border": null,
            "bottom": null,
            "display": null,
            "flex": null,
            "flex_flow": null,
            "grid_area": null,
            "grid_auto_columns": null,
            "grid_auto_flow": null,
            "grid_auto_rows": null,
            "grid_column": null,
            "grid_gap": null,
            "grid_row": null,
            "grid_template_areas": null,
            "grid_template_columns": null,
            "grid_template_rows": null,
            "height": null,
            "justify_content": null,
            "justify_items": null,
            "left": null,
            "margin": null,
            "max_height": null,
            "max_width": null,
            "min_height": null,
            "min_width": null,
            "object_fit": null,
            "object_position": null,
            "order": null,
            "overflow": null,
            "overflow_x": null,
            "overflow_y": null,
            "padding": null,
            "right": null,
            "top": null,
            "visibility": null,
            "width": null
          }
        },
        "c1bafb6eaba2432eb0d9ef16a8e42c35": {
          "model_module": "@jupyter-widgets/controls",
          "model_module_version": "1.5.0",
          "model_name": "ProgressStyleModel",
          "state": {
            "_model_module": "@jupyter-widgets/controls",
            "_model_module_version": "1.5.0",
            "_model_name": "ProgressStyleModel",
            "_view_count": null,
            "_view_module": "@jupyter-widgets/base",
            "_view_module_version": "1.2.0",
            "_view_name": "StyleView",
            "bar_color": null,
            "description_width": ""
          }
        },
        "c253454b6fd84ab09fdf0c8f66e8ebd6": {
          "model_module": "@jupyter-widgets/controls",
          "model_module_version": "1.5.0",
          "model_name": "ProgressStyleModel",
          "state": {
            "_model_module": "@jupyter-widgets/controls",
            "_model_module_version": "1.5.0",
            "_model_name": "ProgressStyleModel",
            "_view_count": null,
            "_view_module": "@jupyter-widgets/base",
            "_view_module_version": "1.2.0",
            "_view_name": "StyleView",
            "bar_color": null,
            "description_width": ""
          }
        },
        "c26aa39fbf264eee8ad95326736a4226": {
          "model_module": "@jupyter-widgets/controls",
          "model_module_version": "1.5.0",
          "model_name": "LabelModel",
          "state": {
            "_dom_classes": [],
            "_model_module": "@jupyter-widgets/controls",
            "_model_module_version": "1.5.0",
            "_model_name": "LabelModel",
            "_view_count": null,
            "_view_module": "@jupyter-widgets/controls",
            "_view_module_version": "1.5.0",
            "_view_name": "LabelView",
            "description": "",
            "description_tooltip": null,
            "layout": "IPY_MODEL_fefec4c58a144c8c844998ff08eba38f",
            "placeholder": "​",
            "style": "IPY_MODEL_a5f4a913b3b64651ad5db3929ae2afca",
            "value": "Waiting for wandb.init()...\r"
          }
        },
        "c5ff4853cfcf490e9f0516aaaa83bbb2": {
          "model_module": "@jupyter-widgets/controls",
          "model_module_version": "1.5.0",
          "model_name": "LabelModel",
          "state": {
            "_dom_classes": [],
            "_model_module": "@jupyter-widgets/controls",
            "_model_module_version": "1.5.0",
            "_model_name": "LabelModel",
            "_view_count": null,
            "_view_module": "@jupyter-widgets/controls",
            "_view_module_version": "1.5.0",
            "_view_name": "LabelView",
            "description": "",
            "description_tooltip": null,
            "layout": "IPY_MODEL_2df0a499b64740308102a8ac6e3d249e",
            "placeholder": "​",
            "style": "IPY_MODEL_e01469570a994acbb14df84997972b7d",
            "value": "0.012 MB of 0.012 MB uploaded\r"
          }
        },
        "c67ac6d5b7b749b68aa8ce8d64f5fe58": {
          "model_module": "@jupyter-widgets/base",
          "model_module_version": "1.2.0",
          "model_name": "LayoutModel",
          "state": {
            "_model_module": "@jupyter-widgets/base",
            "_model_module_version": "1.2.0",
            "_model_name": "LayoutModel",
            "_view_count": null,
            "_view_module": "@jupyter-widgets/base",
            "_view_module_version": "1.2.0",
            "_view_name": "LayoutView",
            "align_content": null,
            "align_items": null,
            "align_self": null,
            "border": null,
            "bottom": null,
            "display": null,
            "flex": null,
            "flex_flow": null,
            "grid_area": null,
            "grid_auto_columns": null,
            "grid_auto_flow": null,
            "grid_auto_rows": null,
            "grid_column": null,
            "grid_gap": null,
            "grid_row": null,
            "grid_template_areas": null,
            "grid_template_columns": null,
            "grid_template_rows": null,
            "height": null,
            "justify_content": null,
            "justify_items": null,
            "left": null,
            "margin": null,
            "max_height": null,
            "max_width": null,
            "min_height": null,
            "min_width": null,
            "object_fit": null,
            "object_position": null,
            "order": null,
            "overflow": null,
            "overflow_x": null,
            "overflow_y": null,
            "padding": null,
            "right": null,
            "top": null,
            "visibility": null,
            "width": null
          }
        },
        "c96fa79ca48240839ab753a9f8878bbc": {
          "model_module": "@jupyter-widgets/controls",
          "model_module_version": "1.5.0",
          "model_name": "ProgressStyleModel",
          "state": {
            "_model_module": "@jupyter-widgets/controls",
            "_model_module_version": "1.5.0",
            "_model_name": "ProgressStyleModel",
            "_view_count": null,
            "_view_module": "@jupyter-widgets/base",
            "_view_module_version": "1.2.0",
            "_view_name": "StyleView",
            "bar_color": null,
            "description_width": ""
          }
        },
        "cb054ef2d6dc477b8fa62a17fd80352d": {
          "model_module": "@jupyter-widgets/base",
          "model_module_version": "1.2.0",
          "model_name": "LayoutModel",
          "state": {
            "_model_module": "@jupyter-widgets/base",
            "_model_module_version": "1.2.0",
            "_model_name": "LayoutModel",
            "_view_count": null,
            "_view_module": "@jupyter-widgets/base",
            "_view_module_version": "1.2.0",
            "_view_name": "LayoutView",
            "align_content": null,
            "align_items": null,
            "align_self": null,
            "border": null,
            "bottom": null,
            "display": null,
            "flex": null,
            "flex_flow": null,
            "grid_area": null,
            "grid_auto_columns": null,
            "grid_auto_flow": null,
            "grid_auto_rows": null,
            "grid_column": null,
            "grid_gap": null,
            "grid_row": null,
            "grid_template_areas": null,
            "grid_template_columns": null,
            "grid_template_rows": null,
            "height": null,
            "justify_content": null,
            "justify_items": null,
            "left": null,
            "margin": null,
            "max_height": null,
            "max_width": null,
            "min_height": null,
            "min_width": null,
            "object_fit": null,
            "object_position": null,
            "order": null,
            "overflow": null,
            "overflow_x": null,
            "overflow_y": null,
            "padding": null,
            "right": null,
            "top": null,
            "visibility": null,
            "width": null
          }
        },
        "cd3f8439f93047b0a7e282defd0a2ca8": {
          "model_module": "@jupyter-widgets/base",
          "model_module_version": "1.2.0",
          "model_name": "LayoutModel",
          "state": {
            "_model_module": "@jupyter-widgets/base",
            "_model_module_version": "1.2.0",
            "_model_name": "LayoutModel",
            "_view_count": null,
            "_view_module": "@jupyter-widgets/base",
            "_view_module_version": "1.2.0",
            "_view_name": "LayoutView",
            "align_content": null,
            "align_items": null,
            "align_self": null,
            "border": null,
            "bottom": null,
            "display": null,
            "flex": null,
            "flex_flow": null,
            "grid_area": null,
            "grid_auto_columns": null,
            "grid_auto_flow": null,
            "grid_auto_rows": null,
            "grid_column": null,
            "grid_gap": null,
            "grid_row": null,
            "grid_template_areas": null,
            "grid_template_columns": null,
            "grid_template_rows": null,
            "height": null,
            "justify_content": null,
            "justify_items": null,
            "left": null,
            "margin": null,
            "max_height": null,
            "max_width": null,
            "min_height": null,
            "min_width": null,
            "object_fit": null,
            "object_position": null,
            "order": null,
            "overflow": null,
            "overflow_x": null,
            "overflow_y": null,
            "padding": null,
            "right": null,
            "top": null,
            "visibility": null,
            "width": null
          }
        },
        "cdbd593a3f6d4a2889446abaf9864320": {
          "model_module": "@jupyter-widgets/controls",
          "model_module_version": "1.5.0",
          "model_name": "DescriptionStyleModel",
          "state": {
            "_model_module": "@jupyter-widgets/controls",
            "_model_module_version": "1.5.0",
            "_model_name": "DescriptionStyleModel",
            "_view_count": null,
            "_view_module": "@jupyter-widgets/base",
            "_view_module_version": "1.2.0",
            "_view_name": "StyleView",
            "description_width": ""
          }
        },
        "d07bf95520bb46429f005a1b877a1d3a": {
          "model_module": "@jupyter-widgets/controls",
          "model_module_version": "1.5.0",
          "model_name": "DescriptionStyleModel",
          "state": {
            "_model_module": "@jupyter-widgets/controls",
            "_model_module_version": "1.5.0",
            "_model_name": "DescriptionStyleModel",
            "_view_count": null,
            "_view_module": "@jupyter-widgets/base",
            "_view_module_version": "1.2.0",
            "_view_name": "StyleView",
            "description_width": ""
          }
        },
        "d21b8ea6c54f484f813cff668e554a67": {
          "model_module": "@jupyter-widgets/controls",
          "model_module_version": "1.5.0",
          "model_name": "LabelModel",
          "state": {
            "_dom_classes": [],
            "_model_module": "@jupyter-widgets/controls",
            "_model_module_version": "1.5.0",
            "_model_name": "LabelModel",
            "_view_count": null,
            "_view_module": "@jupyter-widgets/controls",
            "_view_module_version": "1.5.0",
            "_view_name": "LabelView",
            "description": "",
            "description_tooltip": null,
            "layout": "IPY_MODEL_7d0faa15009e4774b6e113ae8495be98",
            "placeholder": "​",
            "style": "IPY_MODEL_d3122b1546ab4b7ba6e4296efb20772a",
            "value": "0.012 MB of 0.012 MB uploaded\r"
          }
        },
        "d2871d6abd1a49a694cb03715477cc07": {
          "model_module": "@jupyter-widgets/controls",
          "model_module_version": "1.5.0",
          "model_name": "LabelModel",
          "state": {
            "_dom_classes": [],
            "_model_module": "@jupyter-widgets/controls",
            "_model_module_version": "1.5.0",
            "_model_name": "LabelModel",
            "_view_count": null,
            "_view_module": "@jupyter-widgets/controls",
            "_view_module_version": "1.5.0",
            "_view_name": "LabelView",
            "description": "",
            "description_tooltip": null,
            "layout": "IPY_MODEL_e6e73e6dfacd46eb864fc7e96367491a",
            "placeholder": "​",
            "style": "IPY_MODEL_9eb201ffc49f47a2b551462820c856d8",
            "value": "0.013 MB of 0.013 MB uploaded\r"
          }
        },
        "d3122b1546ab4b7ba6e4296efb20772a": {
          "model_module": "@jupyter-widgets/controls",
          "model_module_version": "1.5.0",
          "model_name": "DescriptionStyleModel",
          "state": {
            "_model_module": "@jupyter-widgets/controls",
            "_model_module_version": "1.5.0",
            "_model_name": "DescriptionStyleModel",
            "_view_count": null,
            "_view_module": "@jupyter-widgets/base",
            "_view_module_version": "1.2.0",
            "_view_name": "StyleView",
            "description_width": ""
          }
        },
        "d48082f56b124cd09df516f44eb13435": {
          "model_module": "@jupyter-widgets/controls",
          "model_module_version": "1.5.0",
          "model_name": "ProgressStyleModel",
          "state": {
            "_model_module": "@jupyter-widgets/controls",
            "_model_module_version": "1.5.0",
            "_model_name": "ProgressStyleModel",
            "_view_count": null,
            "_view_module": "@jupyter-widgets/base",
            "_view_module_version": "1.2.0",
            "_view_name": "StyleView",
            "bar_color": null,
            "description_width": ""
          }
        },
        "d5128a322f3644b7ae1fabd33c9fa13b": {
          "model_module": "@jupyter-widgets/controls",
          "model_module_version": "1.5.0",
          "model_name": "FloatProgressModel",
          "state": {
            "_dom_classes": [],
            "_model_module": "@jupyter-widgets/controls",
            "_model_module_version": "1.5.0",
            "_model_name": "FloatProgressModel",
            "_view_count": null,
            "_view_module": "@jupyter-widgets/controls",
            "_view_module_version": "1.5.0",
            "_view_name": "ProgressView",
            "bar_style": "",
            "description": "",
            "description_tooltip": null,
            "layout": "IPY_MODEL_69769cd78d204cbd94f122148ec4e761",
            "max": 1,
            "min": 0,
            "orientation": "horizontal",
            "style": "IPY_MODEL_a702034870b741acafeb72f5718b0cde",
            "value": 1
          }
        },
        "db039397a93d4d03954ec23a9c3e7a24": {
          "model_module": "@jupyter-widgets/controls",
          "model_module_version": "1.5.0",
          "model_name": "FloatProgressModel",
          "state": {
            "_dom_classes": [],
            "_model_module": "@jupyter-widgets/controls",
            "_model_module_version": "1.5.0",
            "_model_name": "FloatProgressModel",
            "_view_count": null,
            "_view_module": "@jupyter-widgets/controls",
            "_view_module_version": "1.5.0",
            "_view_name": "ProgressView",
            "bar_style": "",
            "description": "",
            "description_tooltip": null,
            "layout": "IPY_MODEL_0867f6034298400fa3cda277701fa8db",
            "max": 1,
            "min": 0,
            "orientation": "horizontal",
            "style": "IPY_MODEL_dfe658f5381b4b88ae4b08211d21b174",
            "value": 1
          }
        },
        "dc93c8da3001437986e1201c75841b21": {
          "model_module": "@jupyter-widgets/base",
          "model_module_version": "1.2.0",
          "model_name": "LayoutModel",
          "state": {
            "_model_module": "@jupyter-widgets/base",
            "_model_module_version": "1.2.0",
            "_model_name": "LayoutModel",
            "_view_count": null,
            "_view_module": "@jupyter-widgets/base",
            "_view_module_version": "1.2.0",
            "_view_name": "LayoutView",
            "align_content": null,
            "align_items": null,
            "align_self": null,
            "border": null,
            "bottom": null,
            "display": null,
            "flex": null,
            "flex_flow": null,
            "grid_area": null,
            "grid_auto_columns": null,
            "grid_auto_flow": null,
            "grid_auto_rows": null,
            "grid_column": null,
            "grid_gap": null,
            "grid_row": null,
            "grid_template_areas": null,
            "grid_template_columns": null,
            "grid_template_rows": null,
            "height": null,
            "justify_content": null,
            "justify_items": null,
            "left": null,
            "margin": null,
            "max_height": null,
            "max_width": null,
            "min_height": null,
            "min_width": null,
            "object_fit": null,
            "object_position": null,
            "order": null,
            "overflow": null,
            "overflow_x": null,
            "overflow_y": null,
            "padding": null,
            "right": null,
            "top": null,
            "visibility": null,
            "width": null
          }
        },
        "dee857457ff940cfab07813a2b2d6e78": {
          "model_module": "@jupyter-widgets/controls",
          "model_module_version": "1.5.0",
          "model_name": "VBoxModel",
          "state": {
            "_dom_classes": [],
            "_model_module": "@jupyter-widgets/controls",
            "_model_module_version": "1.5.0",
            "_model_name": "VBoxModel",
            "_view_count": null,
            "_view_module": "@jupyter-widgets/controls",
            "_view_module_version": "1.5.0",
            "_view_name": "VBoxView",
            "box_style": "",
            "children": [
              "IPY_MODEL_d21b8ea6c54f484f813cff668e554a67",
              "IPY_MODEL_4f53c24789aa484fbc218005b4ab261e"
            ],
            "layout": "IPY_MODEL_27809b64f2d440c3836780f3ddec336d"
          }
        },
        "dfe658f5381b4b88ae4b08211d21b174": {
          "model_module": "@jupyter-widgets/controls",
          "model_module_version": "1.5.0",
          "model_name": "ProgressStyleModel",
          "state": {
            "_model_module": "@jupyter-widgets/controls",
            "_model_module_version": "1.5.0",
            "_model_name": "ProgressStyleModel",
            "_view_count": null,
            "_view_module": "@jupyter-widgets/base",
            "_view_module_version": "1.2.0",
            "_view_name": "StyleView",
            "bar_color": null,
            "description_width": ""
          }
        },
        "e01469570a994acbb14df84997972b7d": {
          "model_module": "@jupyter-widgets/controls",
          "model_module_version": "1.5.0",
          "model_name": "DescriptionStyleModel",
          "state": {
            "_model_module": "@jupyter-widgets/controls",
            "_model_module_version": "1.5.0",
            "_model_name": "DescriptionStyleModel",
            "_view_count": null,
            "_view_module": "@jupyter-widgets/base",
            "_view_module_version": "1.2.0",
            "_view_name": "StyleView",
            "description_width": ""
          }
        },
        "e16ff2dbf285487aa9d3c073143779e2": {
          "model_module": "@jupyter-widgets/base",
          "model_module_version": "1.2.0",
          "model_name": "LayoutModel",
          "state": {
            "_model_module": "@jupyter-widgets/base",
            "_model_module_version": "1.2.0",
            "_model_name": "LayoutModel",
            "_view_count": null,
            "_view_module": "@jupyter-widgets/base",
            "_view_module_version": "1.2.0",
            "_view_name": "LayoutView",
            "align_content": null,
            "align_items": null,
            "align_self": null,
            "border": null,
            "bottom": null,
            "display": null,
            "flex": null,
            "flex_flow": null,
            "grid_area": null,
            "grid_auto_columns": null,
            "grid_auto_flow": null,
            "grid_auto_rows": null,
            "grid_column": null,
            "grid_gap": null,
            "grid_row": null,
            "grid_template_areas": null,
            "grid_template_columns": null,
            "grid_template_rows": null,
            "height": null,
            "justify_content": null,
            "justify_items": null,
            "left": null,
            "margin": null,
            "max_height": null,
            "max_width": null,
            "min_height": null,
            "min_width": null,
            "object_fit": null,
            "object_position": null,
            "order": null,
            "overflow": null,
            "overflow_x": null,
            "overflow_y": null,
            "padding": null,
            "right": null,
            "top": null,
            "visibility": null,
            "width": null
          }
        },
        "e34f667231ed4d1cb015720e9d652014": {
          "model_module": "@jupyter-widgets/base",
          "model_module_version": "1.2.0",
          "model_name": "LayoutModel",
          "state": {
            "_model_module": "@jupyter-widgets/base",
            "_model_module_version": "1.2.0",
            "_model_name": "LayoutModel",
            "_view_count": null,
            "_view_module": "@jupyter-widgets/base",
            "_view_module_version": "1.2.0",
            "_view_name": "LayoutView",
            "align_content": null,
            "align_items": null,
            "align_self": null,
            "border": null,
            "bottom": null,
            "display": null,
            "flex": null,
            "flex_flow": null,
            "grid_area": null,
            "grid_auto_columns": null,
            "grid_auto_flow": null,
            "grid_auto_rows": null,
            "grid_column": null,
            "grid_gap": null,
            "grid_row": null,
            "grid_template_areas": null,
            "grid_template_columns": null,
            "grid_template_rows": null,
            "height": null,
            "justify_content": null,
            "justify_items": null,
            "left": null,
            "margin": null,
            "max_height": null,
            "max_width": null,
            "min_height": null,
            "min_width": null,
            "object_fit": null,
            "object_position": null,
            "order": null,
            "overflow": null,
            "overflow_x": null,
            "overflow_y": null,
            "padding": null,
            "right": null,
            "top": null,
            "visibility": null,
            "width": null
          }
        },
        "e51326b1b8a84030bdd4cf4e0a51858c": {
          "model_module": "@jupyter-widgets/base",
          "model_module_version": "1.2.0",
          "model_name": "LayoutModel",
          "state": {
            "_model_module": "@jupyter-widgets/base",
            "_model_module_version": "1.2.0",
            "_model_name": "LayoutModel",
            "_view_count": null,
            "_view_module": "@jupyter-widgets/base",
            "_view_module_version": "1.2.0",
            "_view_name": "LayoutView",
            "align_content": null,
            "align_items": null,
            "align_self": null,
            "border": null,
            "bottom": null,
            "display": null,
            "flex": null,
            "flex_flow": null,
            "grid_area": null,
            "grid_auto_columns": null,
            "grid_auto_flow": null,
            "grid_auto_rows": null,
            "grid_column": null,
            "grid_gap": null,
            "grid_row": null,
            "grid_template_areas": null,
            "grid_template_columns": null,
            "grid_template_rows": null,
            "height": null,
            "justify_content": null,
            "justify_items": null,
            "left": null,
            "margin": null,
            "max_height": null,
            "max_width": null,
            "min_height": null,
            "min_width": null,
            "object_fit": null,
            "object_position": null,
            "order": null,
            "overflow": null,
            "overflow_x": null,
            "overflow_y": null,
            "padding": null,
            "right": null,
            "top": null,
            "visibility": null,
            "width": null
          }
        },
        "e5f5833f0d6e40d8892168e54a6c95b2": {
          "model_module": "@jupyter-widgets/controls",
          "model_module_version": "1.5.0",
          "model_name": "FloatProgressModel",
          "state": {
            "_dom_classes": [],
            "_model_module": "@jupyter-widgets/controls",
            "_model_module_version": "1.5.0",
            "_model_name": "FloatProgressModel",
            "_view_count": null,
            "_view_module": "@jupyter-widgets/controls",
            "_view_module_version": "1.5.0",
            "_view_name": "ProgressView",
            "bar_style": "",
            "description": "",
            "description_tooltip": null,
            "layout": "IPY_MODEL_6af8f0e38d53428aaf6e21455da31f5f",
            "max": 1,
            "min": 0,
            "orientation": "horizontal",
            "style": "IPY_MODEL_c253454b6fd84ab09fdf0c8f66e8ebd6",
            "value": 1
          }
        },
        "e6e73e6dfacd46eb864fc7e96367491a": {
          "model_module": "@jupyter-widgets/base",
          "model_module_version": "1.2.0",
          "model_name": "LayoutModel",
          "state": {
            "_model_module": "@jupyter-widgets/base",
            "_model_module_version": "1.2.0",
            "_model_name": "LayoutModel",
            "_view_count": null,
            "_view_module": "@jupyter-widgets/base",
            "_view_module_version": "1.2.0",
            "_view_name": "LayoutView",
            "align_content": null,
            "align_items": null,
            "align_self": null,
            "border": null,
            "bottom": null,
            "display": null,
            "flex": null,
            "flex_flow": null,
            "grid_area": null,
            "grid_auto_columns": null,
            "grid_auto_flow": null,
            "grid_auto_rows": null,
            "grid_column": null,
            "grid_gap": null,
            "grid_row": null,
            "grid_template_areas": null,
            "grid_template_columns": null,
            "grid_template_rows": null,
            "height": null,
            "justify_content": null,
            "justify_items": null,
            "left": null,
            "margin": null,
            "max_height": null,
            "max_width": null,
            "min_height": null,
            "min_width": null,
            "object_fit": null,
            "object_position": null,
            "order": null,
            "overflow": null,
            "overflow_x": null,
            "overflow_y": null,
            "padding": null,
            "right": null,
            "top": null,
            "visibility": null,
            "width": null
          }
        },
        "ed37410f168f40cca772101d564d8114": {
          "model_module": "@jupyter-widgets/controls",
          "model_module_version": "1.5.0",
          "model_name": "LabelModel",
          "state": {
            "_dom_classes": [],
            "_model_module": "@jupyter-widgets/controls",
            "_model_module_version": "1.5.0",
            "_model_name": "LabelModel",
            "_view_count": null,
            "_view_module": "@jupyter-widgets/controls",
            "_view_module_version": "1.5.0",
            "_view_name": "LabelView",
            "description": "",
            "description_tooltip": null,
            "layout": "IPY_MODEL_9637063466504a50b1eb8c0ca70c3cfb",
            "placeholder": "​",
            "style": "IPY_MODEL_399155d72d8d41c4a87d31d1b6e03488",
            "value": "0.012 MB of 0.012 MB uploaded\r"
          }
        },
        "eee95794d88545a0a65f06aa7ce22f8e": {
          "model_module": "@jupyter-widgets/controls",
          "model_module_version": "1.5.0",
          "model_name": "FloatProgressModel",
          "state": {
            "_dom_classes": [],
            "_model_module": "@jupyter-widgets/controls",
            "_model_module_version": "1.5.0",
            "_model_name": "FloatProgressModel",
            "_view_count": null,
            "_view_module": "@jupyter-widgets/controls",
            "_view_module_version": "1.5.0",
            "_view_name": "ProgressView",
            "bar_style": "",
            "description": "",
            "description_tooltip": null,
            "layout": "IPY_MODEL_67470adf423e4c768130877b26d67684",
            "max": 1,
            "min": 0,
            "orientation": "horizontal",
            "style": "IPY_MODEL_d48082f56b124cd09df516f44eb13435",
            "value": 1
          }
        },
        "ef61f7c066e3479190df422f1ddc1c50": {
          "model_module": "@jupyter-widgets/controls",
          "model_module_version": "1.5.0",
          "model_name": "DescriptionStyleModel",
          "state": {
            "_model_module": "@jupyter-widgets/controls",
            "_model_module_version": "1.5.0",
            "_model_name": "DescriptionStyleModel",
            "_view_count": null,
            "_view_module": "@jupyter-widgets/base",
            "_view_module_version": "1.2.0",
            "_view_name": "StyleView",
            "description_width": ""
          }
        },
        "f04f8c6d84fe4b39a01dcedc80d49cc4": {
          "model_module": "@jupyter-widgets/base",
          "model_module_version": "1.2.0",
          "model_name": "LayoutModel",
          "state": {
            "_model_module": "@jupyter-widgets/base",
            "_model_module_version": "1.2.0",
            "_model_name": "LayoutModel",
            "_view_count": null,
            "_view_module": "@jupyter-widgets/base",
            "_view_module_version": "1.2.0",
            "_view_name": "LayoutView",
            "align_content": null,
            "align_items": null,
            "align_self": null,
            "border": null,
            "bottom": null,
            "display": null,
            "flex": null,
            "flex_flow": null,
            "grid_area": null,
            "grid_auto_columns": null,
            "grid_auto_flow": null,
            "grid_auto_rows": null,
            "grid_column": null,
            "grid_gap": null,
            "grid_row": null,
            "grid_template_areas": null,
            "grid_template_columns": null,
            "grid_template_rows": null,
            "height": null,
            "justify_content": null,
            "justify_items": null,
            "left": null,
            "margin": null,
            "max_height": null,
            "max_width": null,
            "min_height": null,
            "min_width": null,
            "object_fit": null,
            "object_position": null,
            "order": null,
            "overflow": null,
            "overflow_x": null,
            "overflow_y": null,
            "padding": null,
            "right": null,
            "top": null,
            "visibility": null,
            "width": null
          }
        },
        "f1ba801262094339859ba5035b6006f4": {
          "model_module": "@jupyter-widgets/controls",
          "model_module_version": "1.5.0",
          "model_name": "LabelModel",
          "state": {
            "_dom_classes": [],
            "_model_module": "@jupyter-widgets/controls",
            "_model_module_version": "1.5.0",
            "_model_name": "LabelModel",
            "_view_count": null,
            "_view_module": "@jupyter-widgets/controls",
            "_view_module_version": "1.5.0",
            "_view_name": "LabelView",
            "description": "",
            "description_tooltip": null,
            "layout": "IPY_MODEL_0f8b64e06286495ab279ae7adcb1a260",
            "placeholder": "​",
            "style": "IPY_MODEL_42da99a37b1e43bead73c030fbd9e14c",
            "value": "0.012 MB of 0.012 MB uploaded\r"
          }
        },
        "f56211e5c5eb45ab906b0b21c769c20b": {
          "model_module": "@jupyter-widgets/controls",
          "model_module_version": "1.5.0",
          "model_name": "FloatProgressModel",
          "state": {
            "_dom_classes": [],
            "_model_module": "@jupyter-widgets/controls",
            "_model_module_version": "1.5.0",
            "_model_name": "FloatProgressModel",
            "_view_count": null,
            "_view_module": "@jupyter-widgets/controls",
            "_view_module_version": "1.5.0",
            "_view_name": "ProgressView",
            "bar_style": "",
            "description": "",
            "description_tooltip": null,
            "layout": "IPY_MODEL_1e1bcb8660bc40feb0f732cf702aa1c3",
            "max": 1,
            "min": 0,
            "orientation": "horizontal",
            "style": "IPY_MODEL_76cbb83644e348c0b91d3cc0b9a8fb9d",
            "value": 1
          }
        },
        "f5f0b34829f94f6cb3b7c819757dd34a": {
          "model_module": "@jupyter-widgets/controls",
          "model_module_version": "1.5.0",
          "model_name": "LabelModel",
          "state": {
            "_dom_classes": [],
            "_model_module": "@jupyter-widgets/controls",
            "_model_module_version": "1.5.0",
            "_model_name": "LabelModel",
            "_view_count": null,
            "_view_module": "@jupyter-widgets/controls",
            "_view_module_version": "1.5.0",
            "_view_name": "LabelView",
            "description": "",
            "description_tooltip": null,
            "layout": "IPY_MODEL_7f88c8ca709340aea64128208b24dd52",
            "placeholder": "​",
            "style": "IPY_MODEL_d07bf95520bb46429f005a1b877a1d3a",
            "value": "0.013 MB of 0.013 MB uploaded\r"
          }
        },
        "f8e63957847e414685f3168303d8d9c9": {
          "model_module": "@jupyter-widgets/base",
          "model_module_version": "1.2.0",
          "model_name": "LayoutModel",
          "state": {
            "_model_module": "@jupyter-widgets/base",
            "_model_module_version": "1.2.0",
            "_model_name": "LayoutModel",
            "_view_count": null,
            "_view_module": "@jupyter-widgets/base",
            "_view_module_version": "1.2.0",
            "_view_name": "LayoutView",
            "align_content": null,
            "align_items": null,
            "align_self": null,
            "border": null,
            "bottom": null,
            "display": null,
            "flex": null,
            "flex_flow": null,
            "grid_area": null,
            "grid_auto_columns": null,
            "grid_auto_flow": null,
            "grid_auto_rows": null,
            "grid_column": null,
            "grid_gap": null,
            "grid_row": null,
            "grid_template_areas": null,
            "grid_template_columns": null,
            "grid_template_rows": null,
            "height": null,
            "justify_content": null,
            "justify_items": null,
            "left": null,
            "margin": null,
            "max_height": null,
            "max_width": null,
            "min_height": null,
            "min_width": null,
            "object_fit": null,
            "object_position": null,
            "order": null,
            "overflow": null,
            "overflow_x": null,
            "overflow_y": null,
            "padding": null,
            "right": null,
            "top": null,
            "visibility": null,
            "width": null
          }
        },
        "f8f32041bbbd44228851e3e0be105c54": {
          "model_module": "@jupyter-widgets/controls",
          "model_module_version": "1.5.0",
          "model_name": "VBoxModel",
          "state": {
            "_dom_classes": [],
            "_model_module": "@jupyter-widgets/controls",
            "_model_module_version": "1.5.0",
            "_model_name": "VBoxModel",
            "_view_count": null,
            "_view_module": "@jupyter-widgets/controls",
            "_view_module_version": "1.5.0",
            "_view_name": "VBoxView",
            "box_style": "",
            "children": [
              "IPY_MODEL_89b858f50b344799a0b019c6bed8ce03",
              "IPY_MODEL_bcc4cfc8950848de84804479d929220f"
            ],
            "layout": "IPY_MODEL_9336cb11fdec4b6b8fee34ea84be9736"
          }
        },
        "fac3c446c73b49ce90b3ab78b967236a": {
          "model_module": "@jupyter-widgets/controls",
          "model_module_version": "1.5.0",
          "model_name": "VBoxModel",
          "state": {
            "_dom_classes": [],
            "_model_module": "@jupyter-widgets/controls",
            "_model_module_version": "1.5.0",
            "_model_name": "VBoxModel",
            "_view_count": null,
            "_view_module": "@jupyter-widgets/controls",
            "_view_module_version": "1.5.0",
            "_view_name": "VBoxView",
            "box_style": "",
            "children": [
              "IPY_MODEL_0368c69f7a194ea09261f10536d32c5e",
              "IPY_MODEL_0658fb5dbf2944558c1ded46b9bb6be4"
            ],
            "layout": "IPY_MODEL_a1fb3702352349a09a6cdf89c29c8d96"
          }
        },
        "fbd16ee0a79c4f1593922da9f16a0c5a": {
          "model_module": "@jupyter-widgets/base",
          "model_module_version": "1.2.0",
          "model_name": "LayoutModel",
          "state": {
            "_model_module": "@jupyter-widgets/base",
            "_model_module_version": "1.2.0",
            "_model_name": "LayoutModel",
            "_view_count": null,
            "_view_module": "@jupyter-widgets/base",
            "_view_module_version": "1.2.0",
            "_view_name": "LayoutView",
            "align_content": null,
            "align_items": null,
            "align_self": null,
            "border": null,
            "bottom": null,
            "display": null,
            "flex": null,
            "flex_flow": null,
            "grid_area": null,
            "grid_auto_columns": null,
            "grid_auto_flow": null,
            "grid_auto_rows": null,
            "grid_column": null,
            "grid_gap": null,
            "grid_row": null,
            "grid_template_areas": null,
            "grid_template_columns": null,
            "grid_template_rows": null,
            "height": null,
            "justify_content": null,
            "justify_items": null,
            "left": null,
            "margin": null,
            "max_height": null,
            "max_width": null,
            "min_height": null,
            "min_width": null,
            "object_fit": null,
            "object_position": null,
            "order": null,
            "overflow": null,
            "overflow_x": null,
            "overflow_y": null,
            "padding": null,
            "right": null,
            "top": null,
            "visibility": null,
            "width": null
          }
        },
        "fc72e810ad4d48c1ad3d2f6e9908ebd8": {
          "model_module": "@jupyter-widgets/base",
          "model_module_version": "1.2.0",
          "model_name": "LayoutModel",
          "state": {
            "_model_module": "@jupyter-widgets/base",
            "_model_module_version": "1.2.0",
            "_model_name": "LayoutModel",
            "_view_count": null,
            "_view_module": "@jupyter-widgets/base",
            "_view_module_version": "1.2.0",
            "_view_name": "LayoutView",
            "align_content": null,
            "align_items": null,
            "align_self": null,
            "border": null,
            "bottom": null,
            "display": null,
            "flex": null,
            "flex_flow": null,
            "grid_area": null,
            "grid_auto_columns": null,
            "grid_auto_flow": null,
            "grid_auto_rows": null,
            "grid_column": null,
            "grid_gap": null,
            "grid_row": null,
            "grid_template_areas": null,
            "grid_template_columns": null,
            "grid_template_rows": null,
            "height": null,
            "justify_content": null,
            "justify_items": null,
            "left": null,
            "margin": null,
            "max_height": null,
            "max_width": null,
            "min_height": null,
            "min_width": null,
            "object_fit": null,
            "object_position": null,
            "order": null,
            "overflow": null,
            "overflow_x": null,
            "overflow_y": null,
            "padding": null,
            "right": null,
            "top": null,
            "visibility": null,
            "width": null
          }
        },
        "fddd0c50c4e84ab9bec5c6caf4a0d378": {
          "model_module": "@jupyter-widgets/controls",
          "model_module_version": "1.5.0",
          "model_name": "FloatProgressModel",
          "state": {
            "_dom_classes": [],
            "_model_module": "@jupyter-widgets/controls",
            "_model_module_version": "1.5.0",
            "_model_name": "FloatProgressModel",
            "_view_count": null,
            "_view_module": "@jupyter-widgets/controls",
            "_view_module_version": "1.5.0",
            "_view_name": "ProgressView",
            "bar_style": "",
            "description": "",
            "description_tooltip": null,
            "layout": "IPY_MODEL_b0aae56919f840da91dd37b17ca6f9a3",
            "max": 1,
            "min": 0,
            "orientation": "horizontal",
            "style": "IPY_MODEL_c1bafb6eaba2432eb0d9ef16a8e42c35",
            "value": 1
          }
        },
        "fea23e15c1b14bc5b2641c483588dfc9": {
          "model_module": "@jupyter-widgets/controls",
          "model_module_version": "1.5.0",
          "model_name": "VBoxModel",
          "state": {
            "_dom_classes": [],
            "_model_module": "@jupyter-widgets/controls",
            "_model_module_version": "1.5.0",
            "_model_name": "VBoxModel",
            "_view_count": null,
            "_view_module": "@jupyter-widgets/controls",
            "_view_module_version": "1.5.0",
            "_view_name": "VBoxView",
            "box_style": "",
            "children": [
              "IPY_MODEL_9ce97f9de99543f38bf6e1925cfcd450",
              "IPY_MODEL_3066450583824be588187a4dc10e7bc6"
            ],
            "layout": "IPY_MODEL_60136765daec4e97b877a8a0be640d4a"
          }
        },
        "feac8b1d35814684903b47b29374f7f9": {
          "model_module": "@jupyter-widgets/controls",
          "model_module_version": "1.5.0",
          "model_name": "DescriptionStyleModel",
          "state": {
            "_model_module": "@jupyter-widgets/controls",
            "_model_module_version": "1.5.0",
            "_model_name": "DescriptionStyleModel",
            "_view_count": null,
            "_view_module": "@jupyter-widgets/base",
            "_view_module_version": "1.2.0",
            "_view_name": "StyleView",
            "description_width": ""
          }
        },
        "fefec4c58a144c8c844998ff08eba38f": {
          "model_module": "@jupyter-widgets/base",
          "model_module_version": "1.2.0",
          "model_name": "LayoutModel",
          "state": {
            "_model_module": "@jupyter-widgets/base",
            "_model_module_version": "1.2.0",
            "_model_name": "LayoutModel",
            "_view_count": null,
            "_view_module": "@jupyter-widgets/base",
            "_view_module_version": "1.2.0",
            "_view_name": "LayoutView",
            "align_content": null,
            "align_items": null,
            "align_self": null,
            "border": null,
            "bottom": null,
            "display": null,
            "flex": null,
            "flex_flow": null,
            "grid_area": null,
            "grid_auto_columns": null,
            "grid_auto_flow": null,
            "grid_auto_rows": null,
            "grid_column": null,
            "grid_gap": null,
            "grid_row": null,
            "grid_template_areas": null,
            "grid_template_columns": null,
            "grid_template_rows": null,
            "height": null,
            "justify_content": null,
            "justify_items": null,
            "left": null,
            "margin": null,
            "max_height": null,
            "max_width": null,
            "min_height": null,
            "min_width": null,
            "object_fit": null,
            "object_position": null,
            "order": null,
            "overflow": null,
            "overflow_x": null,
            "overflow_y": null,
            "padding": null,
            "right": null,
            "top": null,
            "visibility": null,
            "width": null
          }
        }
      }
    }
  },
  "nbformat": 4,
  "nbformat_minor": 0
}
